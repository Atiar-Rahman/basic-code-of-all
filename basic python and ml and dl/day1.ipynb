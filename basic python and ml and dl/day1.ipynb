{
 "cells": [
  {
   "cell_type": "code",
   "execution_count": 1,
   "id": "eaa9fbf0-1765-4faa-b228-b64b718a3cd7",
   "metadata": {},
   "outputs": [
    {
     "name": "stdout",
     "output_type": "stream",
     "text": [
      "hello world\n"
     ]
    }
   ],
   "source": [
    "print(\"hello world\")"
   ]
  },
  {
   "cell_type": "code",
   "execution_count": 2,
   "id": "3560b841-9436-4ef7-af94-ccc7d3b2244b",
   "metadata": {},
   "outputs": [
    {
     "data": {
      "text/plain": [
       "'3.10.12 (main, May 27 2025, 17:12:29) [GCC 11.4.0]'"
      ]
     },
     "execution_count": 2,
     "metadata": {},
     "output_type": "execute_result"
    }
   ],
   "source": [
    "import sys\n",
    "sys.version"
   ]
  },
  {
   "cell_type": "code",
   "execution_count": 3,
   "id": "9fc32255-f1ee-4b89-a7d4-33669f7d04c9",
   "metadata": {},
   "outputs": [
    {
     "name": "stdout",
     "output_type": "stream",
     "text": [
      "Comments are\n"
     ]
    }
   ],
   "source": [
    "# single line comments\n",
    "\"\"\"\n",
    "multiline \n",
    "commnet\n",
    "comments are ignore the compiler\n",
    "comments can be used to explain python code.\n",
    "comments can be used to prevent execution when testing code\n",
    "\"\"\"\n",
    "print(\"Comments are\")"
   ]
  },
  {
   "cell_type": "code",
   "execution_count": 4,
   "id": "e2c0e452-56ab-4952-9ca6-88cc1175e616",
   "metadata": {},
   "outputs": [
    {
     "name": "stdout",
     "output_type": "stream",
     "text": [
      "34 Md. Atiar Rahman 33.45\n"
     ]
    }
   ],
   "source": [
    "# python variable\n",
    "num = 34\n",
    "name = 'Md. Atiar Rahman'\n",
    "price = 33.45\n",
    "\n",
    "print(num,name,price)"
   ]
  },
  {
   "cell_type": "code",
   "execution_count": 6,
   "id": "7d8159f5-e21c-497f-9bc0-a4f66b736c6d",
   "metadata": {},
   "outputs": [
    {
     "name": "stdout",
     "output_type": "stream",
     "text": [
      "<class 'int'>\n",
      "<class 'str'>\n",
      "<class 'float'>\n"
     ]
    }
   ],
   "source": [
    "# check type\n",
    "print(type(num))\n",
    "print(type(name))\n",
    "print(type(price))"
   ]
  },
  {
   "cell_type": "code",
   "execution_count": 10,
   "id": "5d9aca1a-4292-4305-a2a0-6663db67cae4",
   "metadata": {},
   "outputs": [
    {
     "name": "stdout",
     "output_type": "stream",
     "text": [
      "34.0\n",
      "23\n",
      "33\n"
     ]
    }
   ],
   "source": [
    "# type casting\n",
    "name= '23' #numeric string must than convert string int or float easily\n",
    "print(float(num))\n",
    "print(int(name))\n",
    "print(int(price))"
   ]
  },
  {
   "cell_type": "code",
   "execution_count": 11,
   "id": "c89275d8-6701-435b-a2c7-4476dee05007",
   "metadata": {},
   "outputs": [],
   "source": [
    "# variable are case sensetive\n",
    "a = 4\n",
    "A = 'Atiar'\n",
    "# A will not overwite a "
   ]
  },
  {
   "cell_type": "markdown",
   "id": "2baeee8c-bbb2-4656-8c3d-5098d42101c2",
   "metadata": {},
   "source": [
    "# variable names \n",
    "\"\"\"\n",
    "A variable can have a short name(like x and y) or a more descriptive name(age,carname,total_volume)\n",
    "\n",
    "rules for python variable\n",
    "1. a variable name must start with a letter or the underscore\n",
    "2. a variable name cannot start with a number\n",
    "3. a variable name can only contain alpha numeric characters and underscore\n",
    "3. variable names are case sensitive(age,Age,AGE are different variables)\n",
    "4. A variable name  cannot be any of the python keywords\n",
    "\"\"\""
   ]
  },
  {
   "cell_type": "markdown",
   "id": "7419981c-3ced-4879-9e94-ecba75c10c1e",
   "metadata": {},
   "source": [
    "there are several techniques you can use to make them more readable\n",
    "1. Camel Case\n",
    "    myVariableName = 'Atiar'\n",
    "2. Paskel Case\n",
    "    MyVariableName = 'Atiar'\n",
    "3. Snake Case\n",
    "    my_variable_name = 'Atiar'"
   ]
  },
  {
   "cell_type": "markdown",
   "id": "b93e3523-9944-488e-b3d6-afe69673d991",
   "metadata": {},
   "source": [
    "# Build in data types\n",
    "variable can store data of different types and different types can do things\n",
    "1. Text --> str\n",
    "2. numeric types --> int, float, complex\n",
    "3. sequence types --> list,tuple,range\n",
    "4. Mapping types --> dict\n",
    "5. set types --> set,forenset\n",
    "6. boolean types --> bool\n",
    "7. binary types --> bytes,bytearray,memoryview\n",
    "8. None type --> None"
   ]
  },
  {
   "cell_type": "code",
   "execution_count": 16,
   "id": "2deabbfa-f1bc-4d10-8d02-1b10773eda76",
   "metadata": {},
   "outputs": [
    {
     "name": "stdout",
     "output_type": "stream",
     "text": [
      "4 4 5 4 3 3 4 9 7 4 3 1 8 8 9 2 3 7 9 7 7 4 1 4 8 2 3 6 9 8 7 6 7 7 4 6 1 7 8 5 5 6 3 6 4 8 7 9 9 6 2 9 6 5 5 9 7 2 5 2 8 9 5 3 3 1 8 7 7 8 3 3 2 6 1 6 6 3 7 4 5 2 4 9 4 3 2 9 6 1 4 2 5 3 9 6 8 8 3 7 "
     ]
    }
   ],
   "source": [
    "## Random number\n",
    "import random\n",
    "for _ in range(100):\n",
    "    print(random.randrange(1,10),end=' ')"
   ]
  },
  {
   "cell_type": "code",
   "execution_count": 17,
   "id": "98657341-595a-4d59-8d3f-9f221b45d04e",
   "metadata": {},
   "outputs": [
    {
     "name": "stdout",
     "output_type": "stream",
     "text": [
      "h\n"
     ]
    }
   ],
   "source": [
    "a = 'hello world'\n",
    "print(a[0])"
   ]
  },
  {
   "cell_type": "markdown",
   "id": "40ca15ae-5215-42e0-bb77-f44d334a4109",
   "metadata": {},
   "source": [
    "#looping through a string\n",
    "since strings are arrays, we can help loop through the characters in a string, with a for loop\n"
   ]
  },
  {
   "cell_type": "code",
   "execution_count": 19,
   "id": "2d386c3b-7dd5-44b4-9634-1cc301ea6ace",
   "metadata": {},
   "outputs": [
    {
     "name": "stdout",
     "output_type": "stream",
     "text": [
      "h\n",
      "e\n",
      "l\n",
      "l\n",
      "o\n",
      " \n",
      "w\n",
      "o\n",
      "r\n",
      "l\n",
      "d\n"
     ]
    }
   ],
   "source": [
    "for i in a:\n",
    "    print(i)"
   ]
  },
  {
   "cell_type": "markdown",
   "id": "5345e633-0510-4826-942b-b4ca51465924",
   "metadata": {},
   "source": [
    "# string length\n",
    "to get the string of a string, user the len() function\n",
    "1. the lenn() function returns the length of a string"
   ]
  },
  {
   "cell_type": "code",
   "execution_count": 21,
   "id": "eef4e13f-7ad1-4715-8cf8-ae99f963912d",
   "metadata": {},
   "outputs": [
    {
     "name": "stdout",
     "output_type": "stream",
     "text": [
      "11\n"
     ]
    }
   ],
   "source": [
    "print(len(a))"
   ]
  },
  {
   "cell_type": "markdown",
   "id": "bea2d843-4071-4c57-8419-57b99703dffa",
   "metadata": {},
   "source": [
    "# check string\n",
    "to check if a certain phase or character is present is a string, we can use the keyword in\n",
    "1. stay substring reurn True\n",
    "2. not stay substring retun False"
   ]
  },
  {
   "cell_type": "code",
   "execution_count": 29,
   "id": "5463cd13-35c2-4fb9-91fc-4290d2206a60",
   "metadata": {},
   "outputs": [
    {
     "name": "stdout",
     "output_type": "stream",
     "text": [
      "True\n"
     ]
    }
   ],
   "source": [
    "name = 'my name is md atiar rahman'\n",
    "print('my' in name)\n"
   ]
  },
  {
   "cell_type": "markdown",
   "id": "ec475c57-c7d8-4e38-aabc-a837c2ec9436",
   "metadata": {},
   "source": [
    "# member function \n",
    "1. in\n",
    "2. not in"
   ]
  },
  {
   "cell_type": "markdown",
   "id": "8f12aab7-601e-4807-aec6-e2a5877e2928",
   "metadata": {},
   "source": [
    "# slicing string\n",
    "you can return a range of characters by using the slice syntax\n",
    "- specify the start index and the end index,separted by a colon, to return a part of the string\n",
    "1. str_name[start:end:step]\n",
    "2. str_name[:end:] --> by default start 0 and step-1\n",
    "3. str_name[::] --> by default start 0 stop last-1 and step-1\n",
    "\n",
    "here start and stop and step is positive in index first to last\n",
    "start and stop and step is negative in index last to first"
   ]
  },
  {
   "cell_type": "markdown",
   "id": "59277d82-41d0-4a72-b92c-6ef95c11a88f",
   "metadata": {},
   "source": [
    "# modify string\n",
    "python has a set of build in mehods that you can use on string\n",
    "1. Upper case --> str_name.upper()\n",
    "2. Lower case --> str_name.lower()\n",
    "# Remove whitespace\n",
    "whitespace is the space before and/or after the actual text, and very often you want to remove this space\n",
    "1. remove begining and end --> str_name.strip()\n",
    "2. first whitespace --> str_name.lstrip()\n",
    "3. last whitespace --> str_name.rstrip()\n",
    "# split string\n",
    "the split() method returns a list where the text between the specified spearator becomes the list items\n",
    "1. str_name.split(\"\") --> pass by the separate the split string\n",
    "# string concatenate\n",
    "first_name = \"md atiar\"\n",
    "last_name = \"Rahman\"\n",
    "full_name = first_name+last_name\n"
   ]
  },
  {
   "cell_type": "markdown",
   "id": "58118061-aa3d-40f1-9891-d9345bd0f8d9",
   "metadata": {},
   "source": [
    "# format string\n",
    "As we learned in the python variable.we can not combine strings and numbers like this\n"
   ]
  },
  {
   "cell_type": "code",
   "execution_count": 32,
   "id": "046ce716-b2ae-43ea-97f5-88b65160cb13",
   "metadata": {},
   "outputs": [
    {
     "name": "stdout",
     "output_type": "stream",
     "text": [
      "my name is md atiar rahman and my age 23\n"
     ]
    }
   ],
   "source": [
    "age=23\n",
    "print(f\"my name is md atiar rahman and my age {age}\")"
   ]
  },
  {
   "cell_type": "markdown",
   "id": "1caa13a7-25d2-4fae-b2f3-b9f9ede4d726",
   "metadata": {},
   "source": [
    "# String Methods\n",
    "Python has a set of built-in methods that you can use on strings.\n",
    "\n",
    "- Note: All string methods return new values. They do not change the original string.\n",
    "\n",
    "- Method\tDescription\n",
    "- capitalize()\tConverts the first character to upper case\n",
    "- casefold()\tConverts string into lower case\n",
    "- center()\tReturns a centered string\n",
    "- count()\tReturns the number of times a specified value occurs in a string\n",
    "- encode()\tReturns an encoded version of the string\n",
    "- endswith()\tReturns true if the string ends with the specified value\n",
    "- expandtabs()\tSets the tab size of the string\n",
    "- find()\tSearches the string for a specified value and returns the position of where it was found\n",
    "- format()\tFormats specified values in a string\n",
    "- format_map()\tFormats specified values in a string\n",
    "- index()\tSearches the string for a specified value and returns the position of where it was found\n",
    "- isalnum()\tReturns True if all characters in the string are alphanumeric\n",
    "- isalpha()\tReturns True if all characters in the string are in the alphabet\n",
    "- isascii()\tReturns True if all characters in the string are ascii characters\n",
    "- isdecimal()\tReturns True if all characters in the string are decimals\n",
    "- isdigit()\tReturns True if all characters in the string are digits\n",
    "- isidentifier()\tReturns True if the string is an identifier\n",
    "- islower()\tReturns True if all characters in the string are lower case\n",
    "- isnumeric()\tReturns True if all characters in the string are numeric\n",
    "- isprintable()\tReturns True if all characters in the string are printable\n",
    "- isspace()\tReturns True if all characters in the string are whitespaces\n",
    "- istitle()\tReturns True if the string follows the rules of a title\n",
    "- isupper()\tReturns True if all characters in the string are upper case\n",
    "- join()\tJoins the elements of an iterable to the end of the string\n",
    "- ljust()\tReturns a left justified version of the string\n",
    "- lower()\tConverts a string into lower case\n",
    "- lstrip()\tReturns a left trim version of the string\n",
    "- maketrans()\tReturns a translation table to be used in translations\n",
    "- partition()\tReturns a tuple where the string is parted into three parts\n",
    "- replace()\tReturns a string where a specified value is replaced with a specified value\n",
    "- rfind()\tSearches the string for a specified value and returns the last position of where it was found\n",
    "- rindex()\tSearches the string for a specified value and returns the last position of where it was found\n",
    "- rjust()\tReturns a right justified version of the string\n",
    "- rpartition()\tReturns a tuple where the string is parted into three parts\n",
    "- rsplit()\tSplits the string at the specified separator, and returns a list\n",
    "- rstrip()\tReturns a right trim version of the string\n",
    "- split()\tSplits the string at the specified separator, and returns a list\n",
    "- splitlines()\tSplits the string at line breaks and returns a list\n",
    "- startswith()\tReturns true if the string starts with the specified value\n",
    "- strip()\tReturns a trimmed version of the string\n",
    "- swapcase()\tSwaps cases, lower case becomes upper case and vice versa\n",
    "- title()\tConverts the first character of each word to upper case\n",
    "- translate()\tReturns a translated string\n",
    "- upper()\tConverts a string into upper case\n",
    "- zfill()\tFills the string with a specified number of 0 values at the beginning"
   ]
  },
  {
   "cell_type": "markdown",
   "id": "aa067b8a-812e-46cb-aeed-34eac777fe15",
   "metadata": {},
   "source": [
    "# boolean\n",
    "Most value are True\n",
    "- almost any value is evaluated to True if it has some sort of content\n",
    "- any string is true, except empty string\n",
    "- Any number is true, except 0\n",
    "- Any list,tuple and dict are true, except empty ones\n"
   ]
  },
  {
   "cell_type": "markdown",
   "id": "fd2a5a26-2dec-4d54-bc6e-4b4a5d0f5cb2",
   "metadata": {},
   "source": [
    "Some Values are False\n",
    "In fact, there are not many values that evaluate to False, except empty values, such as (), [], {}, \"\", the number 0, and the value None. And of course the value False evaluates to False."
   ]
  },
  {
   "cell_type": "markdown",
   "id": "5e52df1e-1ab6-4a20-99e7-18d8fed0182b",
   "metadata": {},
   "source": [
    "# functions can return a boolean\n",
    "you can create functions that returns a boolean value\n"
   ]
  },
  {
   "cell_type": "code",
   "execution_count": 36,
   "id": "bedf1192-bdc8-4794-9f0a-3b29c81430aa",
   "metadata": {},
   "outputs": [
    {
     "name": "stdout",
     "output_type": "stream",
     "text": [
      "True\n"
     ]
    }
   ],
   "source": [
    "def my_fun():\n",
    "    return True\n",
    "\n",
    "print(my_fun())"
   ]
  },
  {
   "cell_type": "markdown",
   "id": "50024e4f-0cfb-4125-b584-f6b3b4a4503a",
   "metadata": {},
   "source": [
    "# python operators\n",
    "1. arithmetic operators\n",
    "2. assignment operators\n",
    "3. comparison operators\n",
    "4. logical operators\n",
    "5. identity operators\n",
    "6. membership operators\n",
    "7. bitwise operators"
   ]
  }
 ],
 "metadata": {
  "kernelspec": {
   "display_name": "Python 3 (ipykernel)",
   "language": "python",
   "name": "python3"
  },
  "language_info": {
   "codemirror_mode": {
    "name": "ipython",
    "version": 3
   },
   "file_extension": ".py",
   "mimetype": "text/x-python",
   "name": "python",
   "nbconvert_exporter": "python",
   "pygments_lexer": "ipython3",
   "version": "3.10.12"
  }
 },
 "nbformat": 4,
 "nbformat_minor": 5
}
