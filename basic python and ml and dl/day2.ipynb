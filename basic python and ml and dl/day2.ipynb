{
 "cells": [
  {
   "cell_type": "markdown",
   "id": "e3cd3dde",
   "metadata": {},
   "source": [
    "Why python need for machine learning and deep learning\n",
    "- large libraries for ml\n",
    "- math heavy functionalities and structure\n",
    "# fields\n",
    "- data science\n",
    "- web development"
   ]
  },
  {
   "cell_type": "markdown",
   "id": "0305cf8b",
   "metadata": {},
   "source": [
    "1. variable\n",
    "- int(to store integer number)\n",
    "it can also be used to store big integer number\n",
    "- float(to store floating point number)\n",
    "it can be also be used to\n",
    "\n",
    "-string(to store name and sentence)\n",
    "it has some powerful in build in python"
   ]
  },
  {
   "cell_type": "code",
   "execution_count": 1,
   "id": "7ebe948c",
   "metadata": {},
   "outputs": [
    {
     "name": "stdout",
     "output_type": "stream",
     "text": [
      "<class 'int'>\n",
      "<class 'float'>\n"
     ]
    }
   ],
   "source": [
    "x = 10\n",
    "y=3.4\n",
    "print(type(x))\n",
    "print(type(y))"
   ]
  },
  {
   "cell_type": "code",
   "execution_count": 2,
   "id": "6dae1808",
   "metadata": {},
   "outputs": [
    {
     "name": "stdout",
     "output_type": "stream",
     "text": [
      "<class 'float'>\n"
     ]
    }
   ],
   "source": [
    "x=y\n",
    "print(type(x))"
   ]
  },
  {
   "cell_type": "code",
   "execution_count": 3,
   "id": "751d5917",
   "metadata": {},
   "outputs": [
    {
     "name": "stdout",
     "output_type": "stream",
     "text": [
      "20 10\n"
     ]
    }
   ],
   "source": [
    "x=10\n",
    "y=20\n",
    "\n",
    "x,y=y,x\n",
    "print(x,y)"
   ]
  },
  {
   "cell_type": "code",
   "execution_count": 8,
   "id": "0d4b7cef",
   "metadata": {},
   "outputs": [
    {
     "name": "stdout",
     "output_type": "stream",
     "text": [
      "atiar atiar atiar rahman <class 'str'>\n"
     ]
    }
   ],
   "source": [
    "name = 'atiar atiar atiar rahman'\n",
    "print(name,type(name))"
   ]
  },
  {
   "cell_type": "code",
   "execution_count": 9,
   "id": "2b338f9d",
   "metadata": {},
   "outputs": [
    {
     "data": {
      "text/plain": [
       "3"
      ]
     },
     "execution_count": 9,
     "metadata": {},
     "output_type": "execute_result"
    }
   ],
   "source": [
    "name.count('atiar')"
   ]
  },
  {
   "cell_type": "code",
   "execution_count": 10,
   "id": "7c26dc85",
   "metadata": {},
   "outputs": [
    {
     "data": {
      "text/plain": [
       "'ATIAR ATIAR ATIAR RAHMAN'"
      ]
     },
     "execution_count": 10,
     "metadata": {},
     "output_type": "execute_result"
    }
   ],
   "source": [
    "name.upper()"
   ]
  },
  {
   "cell_type": "code",
   "execution_count": 11,
   "id": "c189f0fb",
   "metadata": {},
   "outputs": [
    {
     "data": {
      "text/plain": [
       "'atiar atiar atiar rahman'"
      ]
     },
     "execution_count": 11,
     "metadata": {},
     "output_type": "execute_result"
    }
   ],
   "source": [
    "name.lower()"
   ]
  },
  {
   "cell_type": "code",
   "execution_count": 13,
   "id": "a3f716f7",
   "metadata": {},
   "outputs": [
    {
     "data": {
      "text/plain": [
       "'a a a rahman'"
      ]
     },
     "execution_count": 13,
     "metadata": {},
     "output_type": "execute_result"
    }
   ],
   "source": [
    "name.replace(\"atiar\",'a')"
   ]
  },
  {
   "cell_type": "code",
   "execution_count": 14,
   "id": "d49a0255",
   "metadata": {},
   "outputs": [
    {
     "data": {
      "text/plain": [
       "'atiar atiar atiar rahman'"
      ]
     },
     "execution_count": 14,
     "metadata": {},
     "output_type": "execute_result"
    }
   ],
   "source": [
    "name"
   ]
  },
  {
   "cell_type": "code",
   "execution_count": 15,
   "id": "f7124310",
   "metadata": {},
   "outputs": [
    {
     "data": {
      "text/plain": [
       "'atiar atiar atiar rahman'"
      ]
     },
     "execution_count": 15,
     "metadata": {},
     "output_type": "execute_result"
    }
   ],
   "source": [
    "name[0:]"
   ]
  },
  {
   "cell_type": "code",
   "execution_count": 16,
   "id": "584e6802",
   "metadata": {},
   "outputs": [
    {
     "data": {
      "text/plain": [
       "'atiar'"
      ]
     },
     "execution_count": 16,
     "metadata": {},
     "output_type": "execute_result"
    }
   ],
   "source": [
    "name[:5]"
   ]
  },
  {
   "cell_type": "code",
   "execution_count": 17,
   "id": "56f41e5d",
   "metadata": {},
   "outputs": [
    {
     "data": {
      "text/plain": [
       "'n'"
      ]
     },
     "execution_count": 17,
     "metadata": {},
     "output_type": "execute_result"
    }
   ],
   "source": [
    "name[-1:]"
   ]
  },
  {
   "cell_type": "code",
   "execution_count": 18,
   "id": "c855c787",
   "metadata": {},
   "outputs": [
    {
     "data": {
      "text/plain": [
       "'atiar atiar atiar rahma'"
      ]
     },
     "execution_count": 18,
     "metadata": {},
     "output_type": "execute_result"
    }
   ],
   "source": [
    "name[:-1]"
   ]
  },
  {
   "cell_type": "code",
   "execution_count": 19,
   "id": "1012c4c7",
   "metadata": {},
   "outputs": [
    {
     "data": {
      "text/plain": [
       "'namhar raita raita raita'"
      ]
     },
     "execution_count": 19,
     "metadata": {},
     "output_type": "execute_result"
    }
   ],
   "source": [
    "name[::-1]"
   ]
  },
  {
   "cell_type": "code",
   "execution_count": null,
   "id": "e718cba5",
   "metadata": {},
   "outputs": [],
   "source": []
  },
  {
   "cell_type": "markdown",
   "id": "1b3472e7",
   "metadata": {},
   "source": [
    "List: collection\n",
    "list() -> constractor\n",
    "- append,insert,remove\n",
    "- max,min,sum,len,sum\n",
    "- list slicing"
   ]
  },
  {
   "cell_type": "markdown",
   "id": "3a28566a",
   "metadata": {},
   "source": [
    "append= end start\n",
    "insert= any position\n",
    "remove = pass value\n"
   ]
  },
  {
   "cell_type": "code",
   "execution_count": 20,
   "id": "2ea15b02",
   "metadata": {},
   "outputs": [
    {
     "data": {
      "text/plain": [
       "[1, 2, 3, 4, 5, 6, 7]"
      ]
     },
     "execution_count": 20,
     "metadata": {},
     "output_type": "execute_result"
    }
   ],
   "source": [
    "numbers = [1,2,3,4,5,6,7]\n",
    "numbers"
   ]
  },
  {
   "cell_type": "code",
   "execution_count": 21,
   "id": "7da57d3f",
   "metadata": {},
   "outputs": [
    {
     "data": {
      "text/plain": [
       "[10, 2.3, 'atiar', True]"
      ]
     },
     "execution_count": 21,
     "metadata": {},
     "output_type": "execute_result"
    }
   ],
   "source": [
    "various = [10,2.3,'atiar',True]\n",
    "various"
   ]
  },
  {
   "cell_type": "code",
   "execution_count": 22,
   "id": "ac66b23a",
   "metadata": {},
   "outputs": [
    {
     "data": {
      "text/plain": [
       "str"
      ]
     },
     "execution_count": 22,
     "metadata": {},
     "output_type": "execute_result"
    }
   ],
   "source": [
    "type(various[2])"
   ]
  },
  {
   "cell_type": "code",
   "execution_count": 23,
   "id": "3a174ab5",
   "metadata": {},
   "outputs": [
    {
     "data": {
      "text/plain": [
       "list"
      ]
     },
     "execution_count": 23,
     "metadata": {},
     "output_type": "execute_result"
    }
   ],
   "source": [
    "type(various)"
   ]
  },
  {
   "cell_type": "code",
   "execution_count": 24,
   "id": "46b1f873",
   "metadata": {},
   "outputs": [
    {
     "data": {
      "text/plain": [
       "7"
      ]
     },
     "execution_count": 24,
     "metadata": {},
     "output_type": "execute_result"
    }
   ],
   "source": [
    "max(numbers)"
   ]
  },
  {
   "cell_type": "code",
   "execution_count": 30,
   "id": "2dce11c4",
   "metadata": {},
   "outputs": [
    {
     "data": {
      "text/plain": [
       "[7, 6, 5, 4, 3, 2, 1]"
      ]
     },
     "execution_count": 30,
     "metadata": {},
     "output_type": "execute_result"
    }
   ],
   "source": [
    "numbers[::-1]"
   ]
  },
  {
   "cell_type": "code",
   "execution_count": 31,
   "id": "907fc67c",
   "metadata": {},
   "outputs": [],
   "source": [
    "\n",
    "numbers.append(1000)"
   ]
  },
  {
   "cell_type": "code",
   "execution_count": 32,
   "id": "6b32910b",
   "metadata": {},
   "outputs": [
    {
     "data": {
      "text/plain": [
       "[1, 2, 3, 4, 5, 6, 7, 1000]"
      ]
     },
     "execution_count": 32,
     "metadata": {},
     "output_type": "execute_result"
    }
   ],
   "source": [
    "numbers"
   ]
  },
  {
   "cell_type": "code",
   "execution_count": 33,
   "id": "c8171404",
   "metadata": {},
   "outputs": [],
   "source": [
    "numbers.reverse()"
   ]
  },
  {
   "cell_type": "code",
   "execution_count": 34,
   "id": "344eb350",
   "metadata": {},
   "outputs": [],
   "source": [
    "fruits = ['apple', 'banana', 'cherry']\n",
    "\n",
    "fruits.reverse() "
   ]
  },
  {
   "cell_type": "code",
   "execution_count": 35,
   "id": "434ed775",
   "metadata": {},
   "outputs": [
    {
     "data": {
      "text/plain": [
       "['cherry', 'banana', 'apple']"
      ]
     },
     "execution_count": 35,
     "metadata": {},
     "output_type": "execute_result"
    }
   ],
   "source": [
    "fruits"
   ]
  },
  {
   "cell_type": "code",
   "execution_count": 36,
   "id": "2d3eb968",
   "metadata": {},
   "outputs": [
    {
     "data": {
      "text/plain": [
       "[1000, 7, 6, 5, 4, 3, 2, 1]"
      ]
     },
     "execution_count": 36,
     "metadata": {},
     "output_type": "execute_result"
    }
   ],
   "source": [
    "numbers"
   ]
  },
  {
   "cell_type": "markdown",
   "id": "4431f8a8",
   "metadata": {},
   "source": [
    "Indentation"
   ]
  },
  {
   "cell_type": "code",
   "execution_count": 37,
   "id": "7c745aa0",
   "metadata": {},
   "outputs": [
    {
     "name": "stdout",
     "output_type": "stream",
     "text": [
      "hello\n"
     ]
    }
   ],
   "source": [
    "a = 10\n",
    "\n",
    "if a>1:\n",
    "    print(\"hello\")\n",
    "else:\n",
    "    print(\"fdgd\")"
   ]
  },
  {
   "cell_type": "markdown",
   "id": "8b3d3ee9",
   "metadata": {},
   "source": [
    "loop\n",
    "1. for loop\n",
    "2. while loop\n",
    "3. do while loop\n"
   ]
  },
  {
   "cell_type": "code",
   "execution_count": 39,
   "id": "d9b2809b",
   "metadata": {},
   "outputs": [
    {
     "name": "stdout",
     "output_type": "stream",
     "text": [
      "0 1 2 3 4 5 6 7 8 9 "
     ]
    }
   ],
   "source": [
    "for i in range(10):\n",
    "    print(i ,end=\" \")"
   ]
  },
  {
   "cell_type": "code",
   "execution_count": 42,
   "id": "4ebb5d76",
   "metadata": {},
   "outputs": [
    {
     "name": "stdout",
     "output_type": "stream",
     "text": [
      "range(1, 10, 4)\n"
     ]
    }
   ],
   "source": [
    "print(range(1,10,4))"
   ]
  },
  {
   "cell_type": "code",
   "execution_count": 46,
   "id": "6530249c",
   "metadata": {},
   "outputs": [
    {
     "name": "stdout",
     "output_type": "stream",
     "text": [
      "0 100 200 300 400 500 600 700 800 900 \n",
      " 10\n"
     ]
    }
   ],
   "source": [
    "count=0\n",
    "for i in range(1000):\n",
    "    if i%100==0:\n",
    "        print(i,end=\" \")\n",
    "        count+=1\n",
    "\n",
    "print(\"\\n\",count)\n",
    "        "
   ]
  },
  {
   "cell_type": "markdown",
   "id": "4848a3f5",
   "metadata": {},
   "source": [
    "numpy  stands for numerical\n",
    "- it is faster\n",
    "\n"
   ]
  },
  {
   "cell_type": "code",
   "execution_count": null,
   "id": "c10c0076",
   "metadata": {},
   "outputs": [],
   "source": [
    "import numpy as np\n",
    "\n"
   ]
  }
 ],
 "metadata": {
  "kernelspec": {
   "display_name": "Python (tf_env)",
   "language": "python",
   "name": "tf_env"
  },
  "language_info": {
   "codemirror_mode": {
    "name": "ipython",
    "version": 3
   },
   "file_extension": ".py",
   "mimetype": "text/x-python",
   "name": "python",
   "nbconvert_exporter": "python",
   "pygments_lexer": "ipython3",
   "version": "3.12.3"
  }
 },
 "nbformat": 4,
 "nbformat_minor": 5
}
