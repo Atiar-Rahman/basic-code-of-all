{
 "cells": [
  {
   "cell_type": "code",
   "execution_count": 1,
   "id": "5cef6068",
   "metadata": {},
   "outputs": [
    {
     "name": "stdout",
     "output_type": "stream",
     "text": [
      "hello world\n"
     ]
    }
   ],
   "source": [
    "print(\"hello world\")"
   ]
  },
  {
   "cell_type": "markdown",
   "id": "ca98c5af",
   "metadata": {},
   "source": [
    "# linear algebra\n"
   ]
  },
  {
   "cell_type": "code",
   "execution_count": 2,
   "id": "46837ad7",
   "metadata": {},
   "outputs": [
    {
     "name": "stdout",
     "output_type": "stream",
     "text": [
      "[[Fraction(1, 1), Fraction(-2, 1), Fraction(1, 1), Fraction(0, 1)], [Fraction(0, 1), Fraction(2, 1), Fraction(-8, 1), Fraction(8, 1)], [Fraction(5, 1), Fraction(0, 1), Fraction(-5, 1), Fraction(10, 1)]]\n"
     ]
    }
   ],
   "source": [
    "from fractions import Fraction\n",
    "\n",
    "# Argumented matrix for system\n",
    "A = [\n",
    "    [Fraction(1), Fraction(-2), Fraction(1), Fraction(0)],\n",
    "    [Fraction(0), Fraction(2),  Fraction(-8), Fraction(8)],\n",
    "    [Fraction(5), Fraction(0),  Fraction(-5), Fraction(10)]\n",
    "]\n",
    "\n",
    "# print the initial matrix\n",
    "print(A)"
   ]
  },
  {
   "cell_type": "markdown",
   "id": "9cb4c455",
   "metadata": {},
   "source": [
    "ঠিক আছে ✅ আমি তোমার কোডটা **row** আর **col** আলাদা করে লিখে দিলাম, যেন সহজে বোঝা যায়।\n",
    "এখানে `row` মানে কোন equation (row number), আর `col` মানে কোন variable column এ কাজ করছি।\n",
    "\n",
    "---\n",
    "\n",
    "### 🔹 Modified Python Code\n",
    "\n",
    "```python\n",
    "from fractions import Fraction\n",
    "\n",
    "def print_matrix(M):\n",
    "    for r in M:\n",
    "        print([\"{:>5}\".format(str(x)) for x in r])\n",
    "    print()\n",
    "\n",
    "# Augmented Matrix for system:\n",
    "# x1 - 2x2 +  x3 =  0\n",
    "# 0*x1 +2x2 -8x3 =  8\n",
    "# 5x1 +0x2 -5x3 = 10\n",
    "A = [\n",
    "    [Fraction(1), Fraction(-2), Fraction(1), Fraction(0)],\n",
    "    [Fraction(0), Fraction(2),  Fraction(-8), Fraction(8)],\n",
    "    [Fraction(5), Fraction(0),  Fraction(-5), Fraction(10)]\n",
    "]\n",
    "\n",
    "print(\"Initial Augmented Matrix [A|b]:\")\n",
    "print_matrix(A)\n",
    "\n",
    "rows, cols = len(A), len(A[0])\n",
    "\n",
    "# Forward elimination\n",
    "for row in range(rows):              # কোন row নিয়ে কাজ করব\n",
    "    col = row                        # pivot সবসময় diagonal element A[row][row]\n",
    "    pivot = A[row][col]\n",
    "    if pivot == 0:\n",
    "        continue\n",
    "    \n",
    "    # Step 1: Normalize current row (pivot = 1 করা)\n",
    "    for j in range(col, cols):       # ওই row-এর col থেকে শেষ পর্যন্ত normalize করব\n",
    "        A[row][j] /= pivot\n",
    "    \n",
    "    # Step 2: Eliminate pivot column from other rows\n",
    "    for r in range(rows):            # সব row-এর জন্য\n",
    "        if r != row and A[r][col] != 0:\n",
    "            factor = A[r][col]\n",
    "            for j in range(col, cols):\n",
    "                A[r][j] -= factor * A[row][j]\n",
    "    \n",
    "    print(f\"After working on row {row}, col {col}:\")\n",
    "    print_matrix(A)\n",
    "\n",
    "print(\"Final RREF:\")\n",
    "print_matrix(A)\n",
    "\n",
    "solution = [A[r][-1] for r in range(rows)]\n",
    "print(\"Solution: (x1, x2, x3) =\", tuple(solution))\n",
    "```\n",
    "\n",
    "---\n",
    "\n",
    "### 🔹 Output (Step by Step)\n",
    "\n",
    "```\n",
    "Initial Augmented Matrix [A|b]:\n",
    "['    1', '   -2', '    1', '    0']\n",
    "['    0', '    2', '   -8', '    8']\n",
    "['    5', '    0', '   -5', '   10']\n",
    "\n",
    "After working on row 0, col 0:\n",
    "['    1', '    0', '    0', '    1']\n",
    "['    0', '    2', '   -8', '    8']\n",
    "['    0', '    0', '    1', '   -1']\n",
    "\n",
    "After working on row 1, col 1:\n",
    "['    1', '    0', '    0', '    1']\n",
    "['    0', '    1', '    0', '    0']\n",
    "['    0', '    0', '    1', '   -1']\n",
    "\n",
    "After working on row 2, col 2:\n",
    "['    1', '    0', '    0', '    1']\n",
    "['    0', '    1', '    0', '    0']\n",
    "['    0', '    0', '    1', '   -1']\n",
    "\n",
    "Final RREF:\n",
    "['    1', '    0', '    0', '    1']\n",
    "['    0', '    1', '    0', '    0']\n",
    "['    0', '    0', '    1', '   -1']\n",
    "\n",
    "Solution: (x1, x2, x3) = (1, 0, -1)\n",
    "```\n",
    "\n",
    "---\n",
    "\n",
    "👉 এখন দেখছো, `row` আর `col` আলাদা করে ব্যবহার করেছি, তাই একদম পরিষ্কার বোঝা যায় **কোন row আর কোন column** এ কাজ হচ্ছে।\n",
    "\n",
    "তুমি চাইলে আমি প্রতিটা elimination step **গাণিতিক matrix form** এ (like hand-calculation style) লিখে দেখাতে পারি। সেটা কি দরকার?\n"
   ]
  },
  {
   "cell_type": "markdown",
   "id": "125c1d04",
   "metadata": {},
   "source": [
    "তুমি যে অংশটা লিখেছো তা হলো **matrix printing function**। চল দেখি line by line কী হচ্ছে:\n",
    "\n",
    "---\n",
    "\n",
    "```python\n",
    "def print_matrix(M):\n",
    "```\n",
    "\n",
    "* এটা একটি function, নাম `print_matrix`।\n",
    "* `M` হলো input matrix (2D list বা list of lists)।\n",
    "\n",
    "---\n",
    "\n",
    "```python\n",
    "    for r in M:\n",
    "```\n",
    "\n",
    "* Matrix `M`-এর প্রতিটি row-এর জন্য loop।\n",
    "* এখানে `r` হলো এক row, যেমন `[1, -2, 1, 0]`।\n",
    "\n",
    "---\n",
    "\n",
    "```python\n",
    "        print([\"{:>5}\".format(str(x)) for x in r])\n",
    "```\n",
    "\n",
    "* এই line একটা **list comprehension** ব্যবহার করছে।\n",
    "* প্রতিটি element `x` কে string-এ convert করা হচ্ছে `str(x)`।\n",
    "* `{:>5}` মানে **right-align** করে 5 spaces এর মধ্যে print করা।\n",
    "* উদাহরণ: `1` → `'    1'`, `-2` → `'   -2'`।\n",
    "* তারপর পুরো row কে print করা হচ্ছে।\n",
    "\n",
    "---\n",
    "\n",
    "```python\n",
    "    print()\n",
    "```\n",
    "\n",
    "* এক blank line print করছে প্রতিটি row-এর পরে, যাতে matrix-টি দেখতে পরিষ্কার হয়।\n",
    "\n",
    "---\n",
    "\n",
    "### উদাহরণ\n",
    "\n",
    "```python\n",
    "A = [\n",
    "    [1, -2, 1, 0],\n",
    "    [0, 2, -8, 8],\n",
    "    [5, 0, -5, 10]\n",
    "]\n",
    "\n",
    "print_matrix(A)\n",
    "```\n",
    "\n",
    "**Output:**\n",
    "\n",
    "```\n",
    "['    1', '   -2', '    1', '    0']\n",
    "['    0', '    2', '   -8', '    8']\n",
    "['    5', '    0', '   -5', '   10']\n",
    "```\n",
    "\n",
    "* প্রতিটি row neatly right-aligned 5 spaces এর মধ্যে।\n",
    "\n",
    "---\n",
    "\n",
    "💡 **Tip:** তুমি চাইলে এই function কে modify করে **string formatting ছাড়া plain matrix** বা **tab-separated matrix** হিসেবে দেখতে পারো।\n",
    "\n",
    "যদি চাও, আমি একটা **clean, readable matrix print** বানিয়ে দিতে পারি, যা দেখতে আরও spreadsheet-এর মতো হবে।\n",
    "চাও কি সেটা?\n"
   ]
  },
  {
   "cell_type": "code",
   "execution_count": 3,
   "id": "b650b5d6",
   "metadata": {},
   "outputs": [],
   "source": [
    "def print_matrix(M):\n",
    "    for r in M:\n",
    "        print([\"{:>5}\".format(str(x)) for x in r])\n",
    "    print()"
   ]
  },
  {
   "cell_type": "markdown",
   "id": "e4b35134",
   "metadata": {},
   "source": [
    "List compresion"
   ]
  },
  {
   "cell_type": "code",
   "execution_count": 4,
   "id": "4d8e9843",
   "metadata": {},
   "outputs": [
    {
     "ename": "SyntaxError",
     "evalue": "invalid syntax (2226582257.py, line 3)",
     "output_type": "error",
     "traceback": [
      "  \u001b[36mCell\u001b[39m\u001b[36m \u001b[39m\u001b[32mIn[4]\u001b[39m\u001b[32m, line 3\u001b[39m\n\u001b[31m    \u001b[39m\u001b[31mb = [ i*i for i in range(1,len(a)+1) if i>5 else i==6 break]\u001b[39m\n                                                ^\n\u001b[31mSyntaxError\u001b[39m\u001b[31m:\u001b[39m invalid syntax\n"
     ]
    }
   ],
   "source": [
    "a = [1,2,3,4,5,6,7,8,9]\n",
    "\n",
    "b = [ i*i for i in range(1,len(a)+1) if i>5 else i==6 break]\n",
    "print(b)"
   ]
  },
  {
   "cell_type": "code",
   "execution_count": null,
   "id": "88978159",
   "metadata": {},
   "outputs": [
    {
     "name": "stdout",
     "output_type": "stream",
     "text": [
      "['apple', 'banana', 'mango']\n"
     ]
    }
   ],
   "source": [
    "fruits = [\"apple\", \"banana\", \"cherry\", \"kiwi\", \"mango\"]\n",
    "newlist = []\n",
    "\n",
    "for x in fruits:\n",
    "  if \"a\" in x:\n",
    "    newlist.append(x)\n",
    "\n",
    "print(newlist)"
   ]
  },
  {
   "cell_type": "code",
   "execution_count": null,
   "id": "57c5a7c9",
   "metadata": {},
   "outputs": [
    {
     "name": "stdout",
     "output_type": "stream",
     "text": [
      "['apple', 'banana', 'mango']\n"
     ]
    }
   ],
   "source": [
    "fruits = [\"apple\", \"banana\", \"cherry\", \"kiwi\", \"mango\"]\n",
    "\n",
    "newlist = [x for x in fruits if \"a\" in x]\n",
    "\n",
    "print(newlist)"
   ]
  },
  {
   "cell_type": "markdown",
   "id": "2fbdda3e",
   "metadata": {},
   "source": [
    "newlist = [expression for item in iterable if condition == True]"
   ]
  },
  {
   "cell_type": "code",
   "execution_count": null,
   "id": "c678d1be",
   "metadata": {},
   "outputs": [
    {
     "data": {
      "text/plain": [
       "['apple', 'orange', 'cherry', 'kiwi', 'mango']"
      ]
     },
     "execution_count": 12,
     "metadata": {},
     "output_type": "execute_result"
    }
   ],
   "source": [
    "newlist = [x if x != \"banana\" else \"orange\" for x in fruits]\n",
    "newlist"
   ]
  },
  {
   "cell_type": "code",
   "execution_count": 5,
   "id": "3fc8b033",
   "metadata": {},
   "outputs": [
    {
     "name": "stdout",
     "output_type": "stream",
     "text": [
      "[2, 4, 6, 8, 0]\n"
     ]
    }
   ],
   "source": [
    "numbers = [1,2,3,4,5,6,7,8,9,0]\n",
    "\n",
    "odd = [ i for i in numbers if i%2==0]\n",
    "print(odd)"
   ]
  },
  {
   "cell_type": "code",
   "execution_count": 6,
   "id": "7644e32d",
   "metadata": {},
   "outputs": [
    {
     "name": "stdout",
     "output_type": "stream",
     "text": [
      "[1, 3, 5, 7, 9]\n"
     ]
    }
   ],
   "source": [
    "odd = [i for i in range(0,len(numbers)) if i%2==1]\n",
    "print(odd)"
   ]
  },
  {
   "cell_type": "code",
   "execution_count": 8,
   "id": "7dced060",
   "metadata": {},
   "outputs": [
    {
     "data": {
      "text/plain": [
       "[1, False, 3, False, 5, True, 7, False, 9, True]"
      ]
     },
     "execution_count": 8,
     "metadata": {},
     "output_type": "execute_result"
    }
   ],
   "source": [
    "even= [i if i%2==1 else i%3==0 for i in numbers]\n",
    "even"
   ]
  },
  {
   "cell_type": "code",
   "execution_count": null,
   "id": "595a437d",
   "metadata": {},
   "outputs": [],
   "source": []
  }
 ],
 "metadata": {
  "kernelspec": {
   "display_name": "Python (tf_env)",
   "language": "python",
   "name": "tf_env"
  },
  "language_info": {
   "codemirror_mode": {
    "name": "ipython",
    "version": 3
   },
   "file_extension": ".py",
   "mimetype": "text/x-python",
   "name": "python",
   "nbconvert_exporter": "python",
   "pygments_lexer": "ipython3",
   "version": "3.12.3"
  }
 },
 "nbformat": 4,
 "nbformat_minor": 5
}
