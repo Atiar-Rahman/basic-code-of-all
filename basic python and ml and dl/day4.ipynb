{
 "cells": [
  {
   "cell_type": "markdown",
   "id": "a49d5b28",
   "metadata": {},
   "source": [
    "# python basic\n",
    "#### 1.print something"
   ]
  },
  {
   "cell_type": "code",
   "execution_count": 3,
   "id": "deb4b396",
   "metadata": {},
   "outputs": [
    {
     "name": "stdout",
     "output_type": "stream",
     "text": [
      "my name is md atiar rahman\n"
     ]
    }
   ],
   "source": [
    "print(\"my name is md atiar rahman\")"
   ]
  },
  {
   "cell_type": "markdown",
   "id": "1907ac68",
   "metadata": {},
   "source": [
    "#### 2. Variables"
   ]
  },
  {
   "cell_type": "code",
   "execution_count": 4,
   "id": "5d6371fd",
   "metadata": {},
   "outputs": [],
   "source": [
    "x=10 # integer\n",
    "y=3.4 # float\n",
    "\n",
    "name='atiar' # string\n",
    "is_active=True # boolean\n"
   ]
  },
  {
   "cell_type": "markdown",
   "id": "425171fe",
   "metadata": {},
   "source": [
    "#### 3. Data types\n",
    "- int -> whole numbers\n",
    "- float -> decimal point\n",
    "- str -> test\n",
    "- bool -> True, False\n",
    "- list -> ordered collection\n",
    "- tuple -> ordered and immutable\n",
    "- dict -> key value pairs like object"
   ]
  },
  {
   "cell_type": "markdown",
   "id": "e851440d",
   "metadata": {},
   "source": [
    "#### Condiations"
   ]
  },
  {
   "cell_type": "code",
   "execution_count": 5,
   "id": "5ea5db4d",
   "metadata": {},
   "outputs": [
    {
     "name": "stdout",
     "output_type": "stream",
     "text": [
      "you are adult\n"
     ]
    }
   ],
   "source": [
    "age = 23\n",
    "\n",
    "if age>=18:\n",
    "    print(\"you are adult\")\n",
    "else:\n",
    "    print(\"you are not adult\")"
   ]
  },
  {
   "cell_type": "code",
   "execution_count": 6,
   "id": "1a12000e",
   "metadata": {},
   "outputs": [
    {
     "name": "stdout",
     "output_type": "stream",
     "text": [
      "this number is positive\n"
     ]
    }
   ],
   "source": [
    "num = 23\n",
    "if num==0:\n",
    "    print(\"this number is zero\")\n",
    "elif num>0:\n",
    "    print(\"this number is positive\")\n",
    "else:\n",
    "    print(\"this number is negative\")"
   ]
  },
  {
   "cell_type": "code",
   "execution_count": 13,
   "id": "b2fcaf65",
   "metadata": {},
   "outputs": [
    {
     "name": "stdout",
     "output_type": "stream",
     "text": [
      "this year is not leap year\n"
     ]
    }
   ],
   "source": [
    "year=2005\n",
    "\n",
    "if year%400==0:\n",
    "    print(\"this year is leapyear\")\n",
    "elif year%100==1:\n",
    "    print(\"this year is not leapyear\")\n",
    "elif year%4==0:\n",
    "    print(\"this year is leapyear\")\n",
    "else:\n",
    "    print(\"this year is not leap year\")"
   ]
  },
  {
   "cell_type": "code",
   "execution_count": 14,
   "id": "86e59c45",
   "metadata": {},
   "outputs": [
    {
     "name": "stdout",
     "output_type": "stream",
     "text": [
      "B-\n"
     ]
    }
   ],
   "source": [
    "# grading \n",
    "\n",
    "marks=59\n",
    "\n",
    "if marks>=80:\n",
    "    print(\"A+\")\n",
    "elif marks>=75:\n",
    "    print(\"A\")\n",
    "elif marks>=70:\n",
    "    print(\"A-\")\n",
    "elif marks>=65:\n",
    "    print(\"B+\")\n",
    "elif marks>=60:\n",
    "    print(\"B\")\n",
    "elif marks >=50:\n",
    "    print('B-')\n",
    "elif marks>=40:\n",
    "    print('C')\n",
    "else:\n",
    "    print(\"you are fail\")"
   ]
  },
  {
   "cell_type": "markdown",
   "id": "8fb8a80b",
   "metadata": {},
   "source": [
    "### loops"
   ]
  },
  {
   "cell_type": "code",
   "execution_count": 18,
   "id": "90eca198",
   "metadata": {},
   "outputs": [
    {
     "name": "stdout",
     "output_type": "stream",
     "text": [
      "range(1, 10, 3)\n"
     ]
    }
   ],
   "source": [
    "# for loop\n",
    "\n",
    "print(range(1,10,3))"
   ]
  },
  {
   "cell_type": "code",
   "execution_count": null,
   "id": "8946c340",
   "metadata": {},
   "outputs": [
    {
     "name": "stdout",
     "output_type": "stream",
     "text": [
      "1 4 7 "
     ]
    }
   ],
   "source": [
    "for i in range(1,10,3):\n",
    "    print(i,end=\" \")"
   ]
  },
  {
   "cell_type": "code",
   "execution_count": 21,
   "id": "16a85af9",
   "metadata": {},
   "outputs": [
    {
     "name": "stdout",
     "output_type": "stream",
     "text": [
      "1\n",
      "2\n",
      "3\n",
      "4\n",
      "5\n",
      "6\n",
      "7\n"
     ]
    }
   ],
   "source": [
    "for i in [1,2,3,4,5,6,7]:\n",
    "    print(i)"
   ]
  },
  {
   "cell_type": "code",
   "execution_count": 22,
   "id": "40374159",
   "metadata": {},
   "outputs": [
    {
     "name": "stdout",
     "output_type": "stream",
     "text": [
      "5050\n"
     ]
    }
   ],
   "source": [
    "sum=0\n",
    "for i in range(1,101):\n",
    "    sum+=i\n",
    "    \n",
    "print(sum)"
   ]
  },
  {
   "cell_type": "code",
   "execution_count": 26,
   "id": "2340379d",
   "metadata": {},
   "outputs": [
    {
     "name": "stdout",
     "output_type": "stream",
     "text": [
      "1 3 5 7 9 11 13 15 17 19 21 23 25 27 29 31 33 35 37 39 41 43 45 47 49 51 53 55 57 59 61 63 65 67 69 71 73 75 77 79 81 83 85 87 89 91 93 95 97 99 2500\n"
     ]
    }
   ],
   "source": [
    "# odd number summation\n",
    "sum=0\n",
    "for i in range(1,101,2):\n",
    "    sum+=i\n",
    "    print(i,end=\" \")\n",
    "\n",
    "print(sum)"
   ]
  },
  {
   "cell_type": "code",
   "execution_count": 30,
   "id": "c477f108",
   "metadata": {},
   "outputs": [
    {
     "name": "stdout",
     "output_type": "stream",
     "text": [
      "1 3 5 7 9 11 13 15 17 19 21 23 25 27 29 31 33 35 37 39 41 43 45 47 49 51 53 55 57 59 61 63 65 67 69 71 73 75 77 79 81 83 85 87 89 91 93 95 97 99 2500\n"
     ]
    }
   ],
   "source": [
    "sum=0\n",
    "for i in range(1,101):\n",
    "    if i %2 ==1:\n",
    "        sum+=i\n",
    "        print(i,end=\" \")\n",
    "        \n",
    "print(sum)"
   ]
  },
  {
   "cell_type": "code",
   "execution_count": 32,
   "id": "3ff2e55e",
   "metadata": {},
   "outputs": [
    {
     "name": "stdout",
     "output_type": "stream",
     "text": [
      "hello\n",
      "hello\n",
      "hello\n",
      "hello\n",
      "hello\n",
      "hello\n",
      "hello\n",
      "hello\n",
      "hello\n",
      "hello\n"
     ]
    }
   ],
   "source": [
    "i=0\n",
    "while i<10:\n",
    "    print(\"hello\")\n",
    "    i+=1"
   ]
  },
  {
   "cell_type": "markdown",
   "id": "6777715d",
   "metadata": {},
   "source": [
    "### function"
   ]
  },
  {
   "cell_type": "code",
   "execution_count": 38,
   "id": "abf05ede",
   "metadata": {},
   "outputs": [
    {
     "name": "stdout",
     "output_type": "stream",
     "text": [
      "my name is md: atiar Rahman\n"
     ]
    }
   ],
   "source": [
    "def greet(name='atiar'):\n",
    "    return f\"my name is md: {name}\"\n",
    "\n",
    "print(greet('atiar Rahman'))\n"
   ]
  },
  {
   "cell_type": "code",
   "execution_count": 39,
   "id": "c90c2477",
   "metadata": {},
   "outputs": [
    {
     "name": "stdout",
     "output_type": "stream",
     "text": [
      "my name is md: atiar\n"
     ]
    }
   ],
   "source": [
    "print(greet())"
   ]
  },
  {
   "cell_type": "markdown",
   "id": "a59e859f",
   "metadata": {},
   "source": [
    "### Lists"
   ]
  },
  {
   "cell_type": "code",
   "execution_count": 40,
   "id": "9bfdb32f",
   "metadata": {},
   "outputs": [
    {
     "name": "stdout",
     "output_type": "stream",
     "text": [
      "['apple', 'banana', 'cherry', 'mango']\n"
     ]
    }
   ],
   "source": [
    "fruits = ['apple','banana','cherry']\n",
    "fruits.append('mango')\n",
    "print(fruits)"
   ]
  },
  {
   "cell_type": "code",
   "execution_count": 41,
   "id": "388058d8",
   "metadata": {},
   "outputs": [
    {
     "name": "stdout",
     "output_type": "stream",
     "text": [
      "apple banana cherry mango "
     ]
    }
   ],
   "source": [
    "for fruit in fruits:\n",
    "    print(fruit,end=' ')"
   ]
  },
  {
   "cell_type": "markdown",
   "id": "b408487b",
   "metadata": {},
   "source": [
    "#### Dictionaries"
   ]
  },
  {
   "cell_type": "code",
   "execution_count": 49,
   "id": "1f28dae3",
   "metadata": {},
   "outputs": [
    {
     "name": "stdout",
     "output_type": "stream",
     "text": [
      "{'name': 'atiar', 'age': 21, 'exampass': True}\n"
     ]
    }
   ],
   "source": [
    "student = {\n",
    "    \"name\":\"atiar\",\n",
    "    \"age\":21,\n",
    "    \"exampass\":True\n",
    "}\n",
    "print(student)"
   ]
  },
  {
   "cell_type": "code",
   "execution_count": 51,
   "id": "89eaa74d",
   "metadata": {},
   "outputs": [
    {
     "name": "stdout",
     "output_type": "stream",
     "text": [
      "21\n"
     ]
    }
   ],
   "source": [
    "print(student['age'])"
   ]
  },
  {
   "cell_type": "code",
   "execution_count": 52,
   "id": "acdc6860",
   "metadata": {},
   "outputs": [
    {
     "name": "stdout",
     "output_type": "stream",
     "text": [
      "atiar\n"
     ]
    }
   ],
   "source": [
    "print(student.get('name'))"
   ]
  },
  {
   "cell_type": "code",
   "execution_count": 53,
   "id": "06d00b21",
   "metadata": {},
   "outputs": [
    {
     "ename": "KeyError",
     "evalue": "'a'",
     "output_type": "error",
     "traceback": [
      "\u001b[31m---------------------------------------------------------------------------\u001b[39m",
      "\u001b[31mKeyError\u001b[39m                                  Traceback (most recent call last)",
      "\u001b[36mCell\u001b[39m\u001b[36m \u001b[39m\u001b[32mIn[53]\u001b[39m\u001b[32m, line 1\u001b[39m\n\u001b[32m----> \u001b[39m\u001b[32m1\u001b[39m \u001b[38;5;28mprint\u001b[39m(\u001b[43mstudent\u001b[49m\u001b[43m[\u001b[49m\u001b[33;43m'\u001b[39;49m\u001b[33;43ma\u001b[39;49m\u001b[33;43m'\u001b[39;49m\u001b[43m]\u001b[49m)\n",
      "\u001b[31mKeyError\u001b[39m: 'a'"
     ]
    }
   ],
   "source": [
    "print(student['a'])"
   ]
  },
  {
   "cell_type": "code",
   "execution_count": 54,
   "id": "9bb72ca1",
   "metadata": {},
   "outputs": [
    {
     "name": "stdout",
     "output_type": "stream",
     "text": [
      "None\n"
     ]
    }
   ],
   "source": [
    "print(student.get('a'))"
   ]
  },
  {
   "cell_type": "code",
   "execution_count": 57,
   "id": "02bc8faf",
   "metadata": {},
   "outputs": [
    {
     "name": "stdout",
     "output_type": "stream",
     "text": [
      "name : atiar\n",
      "age : 21\n",
      "exampass : True\n"
     ]
    }
   ],
   "source": [
    "for key,value in student.items():\n",
    "    print(key ,\":\", value)"
   ]
  },
  {
   "cell_type": "markdown",
   "id": "eb898494",
   "metadata": {},
   "source": [
    "#### class and objects"
   ]
  },
  {
   "cell_type": "code",
   "execution_count": 61,
   "id": "a52e1718",
   "metadata": {},
   "outputs": [],
   "source": [
    "class Person:\n",
    "    def __init__(self,name,age):\n",
    "        self.name=name\n",
    "        self.age=age\n",
    "    def greet(self):\n",
    "        print(f'my name is md: {self.name} age {self.age}')"
   ]
  },
  {
   "cell_type": "code",
   "execution_count": 62,
   "id": "ee647476",
   "metadata": {},
   "outputs": [
    {
     "name": "stdout",
     "output_type": "stream",
     "text": [
      "my name is md: atiar age 21\n"
     ]
    }
   ],
   "source": [
    "p1=Person('atiar',21)\n",
    "p1.greet()"
   ]
  },
  {
   "cell_type": "code",
   "execution_count": 70,
   "id": "3538b817",
   "metadata": {},
   "outputs": [],
   "source": [
    "class Pa(Person):\n",
    "    def greet(self):\n",
    "        print('this is nothing position')"
   ]
  },
  {
   "cell_type": "code",
   "execution_count": 71,
   "id": "b7c7125b",
   "metadata": {},
   "outputs": [],
   "source": [
    "pa = Pa('atiar',23)"
   ]
  },
  {
   "cell_type": "code",
   "execution_count": 69,
   "id": "f00f0fc0",
   "metadata": {},
   "outputs": [
    {
     "name": "stdout",
     "output_type": "stream",
     "text": [
      "this is nothing position\n"
     ]
    }
   ],
   "source": [
    "pa.greet()"
   ]
  },
  {
   "cell_type": "code",
   "execution_count": null,
   "id": "33399ca8",
   "metadata": {},
   "outputs": [],
   "source": []
  },
  {
   "cell_type": "markdown",
   "id": "80d5fa3b",
   "metadata": {},
   "source": [
    "## object oriented programming in python"
   ]
  },
  {
   "cell_type": "markdown",
   "id": "6eddbcc8",
   "metadata": {},
   "source": [
    "#### OOP in python\n",
    "python supports OOP with\n",
    "\n",
    "- class -> Blueprint/template\n",
    "- Object -> instance of a class\n",
    "- Attributes -> variables inside a class\n",
    "- Methods -> Functions inside a class"
   ]
  },
  {
   "cell_type": "markdown",
   "id": "c8215b1b",
   "metadata": {},
   "source": [
    "##### 1. class and object"
   ]
  },
  {
   "cell_type": "code",
   "execution_count": 72,
   "id": "7d142bab",
   "metadata": {},
   "outputs": [],
   "source": [
    "class Person:\n",
    "    def __init__(self,name,age):\n",
    "        self.name = name\n",
    "        self.age = age\n",
    "        \n",
    "    def introduce(self):\n",
    "        print(f'my name is {self.name}, I am {self.age} years old')"
   ]
  },
  {
   "cell_type": "code",
   "execution_count": 73,
   "id": "98a8fa21",
   "metadata": {},
   "outputs": [
    {
     "name": "stdout",
     "output_type": "stream",
     "text": [
      "my name is Atiar, I am 21 years old\n",
      "my name is Rahman, I am 23 years old\n"
     ]
    }
   ],
   "source": [
    "# create objects\n",
    "p1 = Person('Atiar',21)\n",
    "p2 = Person('Rahman',23)\n",
    "\n",
    "p1.introduce()\n",
    "p2.introduce()"
   ]
  },
  {
   "cell_type": "markdown",
   "id": "cdc6c943",
   "metadata": {},
   "source": [
    "#### Four pillars of OOP\n",
    "1. Encapsulation -> Bunding data and methods"
   ]
  },
  {
   "cell_type": "code",
   "execution_count": 78,
   "id": "f8f059be",
   "metadata": {},
   "outputs": [
    {
     "name": "stdout",
     "output_type": "stream",
     "text": [
      "atiar current balance: 4000\n",
      "atiar current balance: 2400\n"
     ]
    }
   ],
   "source": [
    "class bankAccount:\n",
    "    def __init__(self,balance,name):\n",
    "        self.balance=balance  #private variale\n",
    "        self.name=name\n",
    "        \n",
    "    def deposit(self,amount):\n",
    "        self.balance+=amount\n",
    "    \n",
    "    def withdraw(self,amount):\n",
    "        self.balance -= amount\n",
    "        \n",
    "    def get_balance(self):\n",
    "        print(f'{self.name} current balance: {self.balance}')\n",
    "    \n",
    "\n",
    "atiar = bankAccount(1000,'atiar')\n",
    "atiar.deposit(3000)\n",
    "atiar.get_balance()\n",
    "atiar.withdraw(1600)\n",
    "atiar.get_balance()"
   ]
  },
  {
   "cell_type": "markdown",
   "id": "59e9afe2",
   "metadata": {},
   "source": [
    "2. Inheritance -> Reuse Code from parent class"
   ]
  },
  {
   "cell_type": "code",
   "execution_count": 79,
   "id": "a10542c6",
   "metadata": {},
   "outputs": [
    {
     "name": "stdout",
     "output_type": "stream",
     "text": [
      "woof woof\n"
     ]
    }
   ],
   "source": [
    "class Animal:\n",
    "    def speak(self):\n",
    "        print(\"This is an animal\")\n",
    "    \n",
    "class Dog(Animal): # inherits from animal\n",
    "    def speak(self):\n",
    "        print(\"woof woof\")\n",
    "\n",
    "\n",
    "dog = Dog()\n",
    "dog.speak()"
   ]
  },
  {
   "cell_type": "markdown",
   "id": "5dc107fa",
   "metadata": {},
   "source": [
    "3. Polymotphism -> Same method name, different behavior"
   ]
  },
  {
   "cell_type": "code",
   "execution_count": 80,
   "id": "fd64a0cf",
   "metadata": {},
   "outputs": [
    {
     "name": "stdout",
     "output_type": "stream",
     "text": [
      "Bird can fly\n",
      "Penguin cannot fly\n"
     ]
    }
   ],
   "source": [
    "class Bird:\n",
    "    def fly(self):\n",
    "        print('Bird can fly')\n",
    "        \n",
    "class Penguin(Bird):\n",
    "    def fly(self):\n",
    "        print(\"Penguin cannot fly\")\n",
    "        \n",
    "b = Bird()\n",
    "p = Penguin() \n",
    "\n",
    "for animal in (b,p):\n",
    "    animal.fly()"
   ]
  },
  {
   "cell_type": "markdown",
   "id": "a547dfa8",
   "metadata": {},
   "source": [
    "4. Abstraction -> Hiding details, showing only essentials"
   ]
  },
  {
   "cell_type": "code",
   "execution_count": 82,
   "id": "c2a7914c",
   "metadata": {},
   "outputs": [
    {
     "name": "stdout",
     "output_type": "stream",
     "text": [
      "car engined started\n"
     ]
    }
   ],
   "source": [
    "from abc import ABC, abstractmethod\n",
    "\n",
    "class Vehicle(ABC):\n",
    "    @abstractmethod\n",
    "    def start(self):\n",
    "        pass\n",
    "    \n",
    "\n",
    "class Car(Vehicle):\n",
    "    def start(self):\n",
    "        print('car engined started')\n",
    "\n",
    "c = Car()\n",
    "c.start()"
   ]
  },
  {
   "cell_type": "markdown",
   "id": "9bc1dfd2",
   "metadata": {},
   "source": [
    "5. special methods (Magic/ Dunder methods)"
   ]
  },
  {
   "cell_type": "code",
   "execution_count": 84,
   "id": "86141a00",
   "metadata": {},
   "outputs": [
    {
     "name": "stdout",
     "output_type": "stream",
     "text": [
      "python basics has 200 pages\n",
      "200\n"
     ]
    }
   ],
   "source": [
    "class Book:\n",
    "    def __init__(self,title,pages):\n",
    "        self.title = title\n",
    "        self.pages = pages\n",
    "        \n",
    "    def __str__(self): # string representation\n",
    "        return f'{self.title} has {self.pages} pages'\n",
    "    \n",
    "    def __len__(self): # length function\n",
    "        return self.pages\n",
    "    \n",
    "\n",
    "b = Book('python basics',200)\n",
    "print(b) # python basics has 250 pages\n",
    "print(len(b)) #200\n",
    "        "
   ]
  },
  {
   "cell_type": "code",
   "execution_count": null,
   "id": "65deb87c",
   "metadata": {},
   "outputs": [],
   "source": []
  }
 ],
 "metadata": {
  "kernelspec": {
   "display_name": "Python (tf_env)",
   "language": "python",
   "name": "tf_env"
  },
  "language_info": {
   "codemirror_mode": {
    "name": "ipython",
    "version": 3
   },
   "file_extension": ".py",
   "mimetype": "text/x-python",
   "name": "python",
   "nbconvert_exporter": "python",
   "pygments_lexer": "ipython3",
   "version": "3.12.3"
  }
 },
 "nbformat": 4,
 "nbformat_minor": 5
}
