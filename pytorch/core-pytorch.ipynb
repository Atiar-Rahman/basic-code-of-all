{
 "cells": [
  {
   "cell_type": "code",
   "execution_count": 2,
   "id": "523db6b4",
   "metadata": {},
   "outputs": [
    {
     "name": "stdout",
     "output_type": "stream",
     "text": [
      "tensor([ 7,  9, 11, 13, 15])\n",
      "tensor([ 6, 14, 24, 36, 50])\n"
     ]
    }
   ],
   "source": [
    "import torch\n",
    "\n",
    "# create tensor\n",
    "x = torch.tensor([1,2,3,4,5])\n",
    "y = torch.tensor([6,7,8,9,10])\n",
    "\n",
    "# operation\n",
    "print(x+y)\n",
    "print(x*y)\n",
    "# GPU তে পাঠানো (যদি CUDA সাপোর্ট করে)\n",
    "if torch.cuda.is_available():\n",
    "    x = x.to(\"cuda\")\n",
    "    print(x)"
   ]
  },
  {
   "cell_type": "markdown",
   "id": "8a1deba2",
   "metadata": {},
   "source": [
    "# AutoGrad(Autometic Differentiation)\n"
   ]
  },
  {
   "cell_type": "code",
   "execution_count": 5,
   "id": "e498e345",
   "metadata": {},
   "outputs": [
    {
     "name": "stdout",
     "output_type": "stream",
     "text": [
      "tensor(4.)\n",
      "tensor(27.)\n"
     ]
    }
   ],
   "source": [
    "# requires grad enabled tensor\n",
    "a = torch.tensor(2.0, requires_grad=True)\n",
    "b = torch.tensor(3.0,requires_grad=True)\n",
    "\n",
    "# function\n",
    "y = a**2 +b**3\n",
    "\n",
    "y.backward()\n",
    "print(a.grad)  # dy/da = 2a = 4\n",
    "print(b.grad)  # dy/db = 3b^2 = 27"
   ]
  },
  {
   "cell_type": "markdown",
   "id": "27628871",
   "metadata": {},
   "source": [
    "nn.Module (Model বানানো)"
   ]
  },
  {
   "cell_type": "code",
   "execution_count": 6,
   "id": "df93e793",
   "metadata": {},
   "outputs": [
    {
     "name": "stdout",
     "output_type": "stream",
     "text": [
      "LinearModel(\n",
      "  (linear): Linear(in_features=1, out_features=1, bias=True)\n",
      ")\n"
     ]
    }
   ],
   "source": [
    "import torch.nn as nn\n",
    "\n",
    "# Simple linear regression model\n",
    "class LinearModel(nn.Module):\n",
    "    def __init__(self):\n",
    "        super().__init__()\n",
    "        self.linear = nn.Linear(1, 1)  # y = wx + b\n",
    "\n",
    "    def forward(self, x):\n",
    "        return self.linear(x)\n",
    "\n",
    "model = LinearModel()\n",
    "print(model)\n"
   ]
  },
  {
   "cell_type": "markdown",
   "id": "f6b85a8f",
   "metadata": {},
   "source": [
    "Training Pipeline (Data → Model → Loss → Optimizer → Update)"
   ]
  },
  {
   "cell_type": "code",
   "execution_count": 7,
   "id": "ce075dea",
   "metadata": {},
   "outputs": [
    {
     "name": "stdout",
     "output_type": "stream",
     "text": [
      "Prediction for 4.0: tensor([[7.7170]], grad_fn=<AddmmBackward0>)\n"
     ]
    }
   ],
   "source": [
    "import torch.optim as optim\n",
    "\n",
    "# Data\n",
    "x = torch.tensor([[1.0], [2.0], [3.0]])\n",
    "y = torch.tensor([[2.0], [4.0], [6.0]])\n",
    "\n",
    "# Model\n",
    "model = nn.Linear(1, 1)\n",
    "\n",
    "# Loss + Optimizer\n",
    "criterion = nn.MSELoss()\n",
    "optimizer = optim.SGD(model.parameters(), lr=0.01)\n",
    "\n",
    "# Training loop\n",
    "for epoch in range(100):\n",
    "    # Forward\n",
    "    y_pred = model(x)\n",
    "    loss = criterion(y_pred, y)\n",
    "\n",
    "    # Backward\n",
    "    optimizer.zero_grad()\n",
    "    loss.backward()\n",
    "    optimizer.step()\n",
    "\n",
    "print(\"Prediction for 4.0:\", model(torch.tensor([[4.0]])))\n"
   ]
  },
  {
   "cell_type": "code",
   "execution_count": 16,
   "id": "d084bbdb",
   "metadata": {},
   "outputs": [
    {
     "name": "stdout",
     "output_type": "stream",
     "text": [
      "tensor([[7.3015]], grad_fn=<AddmmBackward0>)\n"
     ]
    }
   ],
   "source": [
    "import torch, torch.nn as nn, torch.optim as optim\n",
    "\n",
    "x = torch.tensor([[1.0],[2.0],[3.0]])\n",
    "y = torch.tensor([[2.0],[4.0],[6.0]])\n",
    "model = nn.Linear(1,1)\n",
    "opt = optim.SGD(model.parameters(), lr=0.01)\n",
    "loss_fn = nn.MSELoss()\n",
    "\n",
    "for epoch in range(200):\n",
    "    pred = model(x)\n",
    "    loss = loss_fn(pred, y)\n",
    "    opt.zero_grad(); loss.backward(); opt.step()\n",
    "print(model(torch.tensor([[4.0]])))\n"
   ]
  }
 ],
 "metadata": {
  "kernelspec": {
   "display_name": "Python (tf_env)",
   "language": "python",
   "name": "tf_env"
  },
  "language_info": {
   "codemirror_mode": {
    "name": "ipython",
    "version": 3
   },
   "file_extension": ".py",
   "mimetype": "text/x-python",
   "name": "python",
   "nbconvert_exporter": "python",
   "pygments_lexer": "ipython3",
   "version": "3.12.3"
  }
 },
 "nbformat": 4,
 "nbformat_minor": 5
}
