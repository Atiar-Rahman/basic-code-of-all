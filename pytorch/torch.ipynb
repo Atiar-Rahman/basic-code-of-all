{
 "cells": [
  {
   "cell_type": "markdown",
   "id": "155139d5",
   "metadata": {},
   "source": [
    "# torch"
   ]
  },
  {
   "cell_type": "markdown",
   "id": "c879cd5b",
   "metadata": {},
   "source": [
    "### torch.is_tensor\n",
    "torch.is_tensor(obj, /)\n",
    "[source]\n",
    "\n",
    "Returns True if obj is a PyTorch tensor.\n",
    "\n",
    "Note that this function is simply doing isinstance(obj, Tensor). Using that isinstance check is better for typechecking with mypy, and more explicit - so it’s recommended to use that instead of is_tensor.\n",
    "\n",
    "Parameters\n",
    "\n",
    "    obj (object) – Object to test\n",
    "Return type\n",
    "\n",
    "    typing_extensions.TypeIs[Tensor]\n"
   ]
  },
  {
   "cell_type": "code",
   "execution_count": 4,
   "id": "c28e40e4",
   "metadata": {},
   "outputs": [
    {
     "name": "stdout",
     "output_type": "stream",
     "text": [
      "tensor([2, 3, 4])\n"
     ]
    },
    {
     "data": {
      "text/plain": [
       "True"
      ]
     },
     "execution_count": 4,
     "metadata": {},
     "output_type": "execute_result"
    }
   ],
   "source": [
    "import torch\n",
    "x=torch.tensor([2,3,4])\n",
    "print(x)\n",
    "torch.is_tensor(x)"
   ]
  },
  {
   "cell_type": "code",
   "execution_count": 11,
   "id": "fff23a01",
   "metadata": {},
   "outputs": [
    {
     "name": "stdout",
     "output_type": "stream",
     "text": [
      "   0  1  2\n",
      "0  0  1  2\n",
      "1  0  1  2\n",
      "tensor([[0, 1, 2],\n",
      "        [0, 1, 2]])\n"
     ]
    }
   ],
   "source": [
    "import numpy as np\n",
    "import pandas as pd\n",
    "x=np.arange(3)\n",
    "y=np.arange(3)\n",
    "df = pd.DataFrame([x,y])\n",
    "print(df)\n",
    "tensor_df = torch.tensor(df.values) # .values gives the underlying numpy array\n",
    "print(tensor_df)"
   ]
  },
  {
   "cell_type": "markdown",
   "id": "6f6cc2f2",
   "metadata": {},
   "source": [
    "### torch.is_floating_point\n",
    "torch.is_floating_point(input)\n",
    "\n",
    "    Returns True if the data type of input is a floating point data type i.e., one of torch.float64, torch.float32, torch.float16, and torch.bfloat16.\n",
    "\n",
    "    Parameters\n",
    "\n",
    "        input (Tensor) – the input tensor.\n",
    "\n"
   ]
  },
  {
   "cell_type": "code",
   "execution_count": 21,
   "id": "3af7d0b3",
   "metadata": {},
   "outputs": [
    {
     "name": "stdout",
     "output_type": "stream",
     "text": [
      "tensor(3.3000)\n",
      "True\n"
     ]
    }
   ],
   "source": [
    "x = torch.tensor(3.3)\n",
    "print(x)\n",
    "print(torch.is_floating_point(x))"
   ]
  },
  {
   "cell_type": "markdown",
   "id": "6113af4c",
   "metadata": {},
   "source": [
    "### torch_is_nonzero\n",
    "torch.is_nonzero(input)\n",
    "\n",
    "Returns True if the input is a single element tensor which is not equal to zero after type conversions. i.e. not equal to torch.tensor([0.]) or torch.tensor([0]) or torch.tensor([False]). Throws a RuntimeError if torch.numel() != 1 (even in case of sparse tensors).\n",
    "\n",
    "Parameters\n",
    "\n",
    "    input (Tensor) – the input tensor.\n"
   ]
  },
  {
   "cell_type": "code",
   "execution_count": 18,
   "id": "55007a3c",
   "metadata": {},
   "outputs": [
    {
     "data": {
      "text/plain": [
       "True"
      ]
     },
     "execution_count": 18,
     "metadata": {},
     "output_type": "execute_result"
    }
   ],
   "source": [
    "torch.is_nonzero(torch.tensor([2]))"
   ]
  },
  {
   "cell_type": "code",
   "execution_count": 19,
   "id": "4aee886e",
   "metadata": {},
   "outputs": [
    {
     "data": {
      "text/plain": [
       "True"
      ]
     },
     "execution_count": 19,
     "metadata": {},
     "output_type": "execute_result"
    }
   ],
   "source": [
    "torch.is_nonzero(torch.tensor([3]))"
   ]
  },
  {
   "cell_type": "code",
   "execution_count": 22,
   "id": "4b69d3fb",
   "metadata": {},
   "outputs": [
    {
     "data": {
      "text/plain": [
       "True"
      ]
     },
     "execution_count": 22,
     "metadata": {},
     "output_type": "execute_result"
    }
   ],
   "source": [
    "torch.is_nonzero(torch.tensor([1.5]))"
   ]
  },
  {
   "cell_type": "code",
   "execution_count": 23,
   "id": "bd60c918",
   "metadata": {},
   "outputs": [
    {
     "data": {
      "text/plain": [
       "False"
      ]
     },
     "execution_count": 23,
     "metadata": {},
     "output_type": "execute_result"
    }
   ],
   "source": [
    "torch.is_nonzero(torch.tensor([False]))"
   ]
  },
  {
   "cell_type": "code",
   "execution_count": 24,
   "id": "d09b3f09",
   "metadata": {},
   "outputs": [
    {
     "ename": "RuntimeError",
     "evalue": "Boolean value of Tensor with more than one value is ambiguous",
     "output_type": "error",
     "traceback": [
      "\u001b[31m---------------------------------------------------------------------------\u001b[39m",
      "\u001b[31mRuntimeError\u001b[39m                              Traceback (most recent call last)",
      "\u001b[36mCell\u001b[39m\u001b[36m \u001b[39m\u001b[32mIn[24]\u001b[39m\u001b[32m, line 1\u001b[39m\n\u001b[32m----> \u001b[39m\u001b[32m1\u001b[39m \u001b[43mtorch\u001b[49m\u001b[43m.\u001b[49m\u001b[43mis_nonzero\u001b[49m\u001b[43m(\u001b[49m\u001b[43mtorch\u001b[49m\u001b[43m.\u001b[49m\u001b[43mtensor\u001b[49m\u001b[43m(\u001b[49m\u001b[43m[\u001b[49m\u001b[32;43m1\u001b[39;49m\u001b[43m,\u001b[49m\u001b[32;43m2\u001b[39;49m\u001b[43m,\u001b[49m\u001b[32;43m3\u001b[39;49m\u001b[43m,\u001b[49m\u001b[32;43m4\u001b[39;49m\u001b[43m]\u001b[49m\u001b[43m)\u001b[49m\u001b[43m)\u001b[49m\n",
      "\u001b[31mRuntimeError\u001b[39m: Boolean value of Tensor with more than one value is ambiguous"
     ]
    }
   ],
   "source": [
    "torch.is_nonzero(torch.tensor([1,2,3,4]))"
   ]
  },
  {
   "cell_type": "code",
   "execution_count": 29,
   "id": "7b96c3bb",
   "metadata": {},
   "outputs": [
    {
     "ename": "RuntimeError",
     "evalue": "Boolean value of Tensor with no values is ambiguous",
     "output_type": "error",
     "traceback": [
      "\u001b[31m---------------------------------------------------------------------------\u001b[39m",
      "\u001b[31mRuntimeError\u001b[39m                              Traceback (most recent call last)",
      "\u001b[36mCell\u001b[39m\u001b[36m \u001b[39m\u001b[32mIn[29]\u001b[39m\u001b[32m, line 1\u001b[39m\n\u001b[32m----> \u001b[39m\u001b[32m1\u001b[39m \u001b[43mtorch\u001b[49m\u001b[43m.\u001b[49m\u001b[43mis_nonzero\u001b[49m\u001b[43m(\u001b[49m\u001b[43mtorch\u001b[49m\u001b[43m.\u001b[49m\u001b[43mtensor\u001b[49m\u001b[43m(\u001b[49m\u001b[43m[\u001b[49m\u001b[43m]\u001b[49m\u001b[43m)\u001b[49m\u001b[43m)\u001b[49m\n",
      "\u001b[31mRuntimeError\u001b[39m: Boolean value of Tensor with no values is ambiguous"
     ]
    }
   ],
   "source": [
    "torch.is_nonzero(torch.tensor([]))"
   ]
  },
  {
   "cell_type": "markdown",
   "id": "84a1acf2",
   "metadata": {},
   "source": [
    "### torch.set_default_dtype\n",
    "torch.set_default_dtype(d, /)\n",
    "[source]\n",
    "\n",
    "Sets the default floating point dtype to d. Supports floating point dtype as inputs. Other dtypes will cause torch to raise an exception.\n",
    "\n",
    "When PyTorch is initialized its default floating point dtype is torch.float32, and the intent of set_default_dtype(torch.float64) is to facilitate NumPy-like type inference. The default floating point dtype is used to:\n",
    "\n",
    "    Implicitly determine the default complex dtype. When the default floating type is float16, the default complex dtype is complex32. For float32, the default complex dtype is complex64. For float64, it is complex128. For bfloat16, an exception will be raised because there is no corresponding complex type for bfloat16.\n",
    "\n",
    "    Infer the dtype for tensors constructed using Python floats or complex Python numbers. See examples below.\n",
    "\n",
    "    Determine the result of type promotion between bool and integer tensors and Python floats and complex Python numbers.\n",
    "\n",
    "Parameters\n",
    "\n",
    "    d (torch.dtype) – the floating point dtype to make the default.\n"
   ]
  },
  {
   "cell_type": "code",
   "execution_count": 30,
   "id": "d80e5b64",
   "metadata": {},
   "outputs": [
    {
     "data": {
      "text/plain": [
       "torch.float32"
      ]
     },
     "execution_count": 30,
     "metadata": {},
     "output_type": "execute_result"
    }
   ],
   "source": [
    "# initial default for floating point is torch.float32\n",
    "# python floats are interpreted as float32\n",
    "torch.tensor([2,4,5,6.2]).dtype"
   ]
  },
  {
   "cell_type": "code",
   "execution_count": 31,
   "id": "a4868eb9",
   "metadata": {},
   "outputs": [
    {
     "data": {
      "text/plain": [
       "torch.complex64"
      ]
     },
     "execution_count": 31,
     "metadata": {},
     "output_type": "execute_result"
    }
   ],
   "source": [
    "# initial default for floating point is torch.complex64\n",
    "# complex python numbers are interpreted as complex64\n",
    "torch.tensor([2,4,5,6j]).dtype"
   ]
  },
  {
   "cell_type": "code",
   "execution_count": 32,
   "id": "a86226db",
   "metadata": {},
   "outputs": [],
   "source": [
    "torch.set_default_dtype(torch.float64)"
   ]
  },
  {
   "cell_type": "code",
   "execution_count": 33,
   "id": "5ca926d6",
   "metadata": {},
   "outputs": [
    {
     "data": {
      "text/plain": [
       "torch.float64"
      ]
     },
     "execution_count": 33,
     "metadata": {},
     "output_type": "execute_result"
    }
   ],
   "source": [
    "# python floats are now interpreted as float64\n",
    "torch.tensor([1.2,3]).dtype"
   ]
  },
  {
   "cell_type": "markdown",
   "id": "4821fa57",
   "metadata": {},
   "source": [
    "### torch.get_default_dtype\n",
    "torch.get_default_dtype() → torch.dtype\n",
    "\n",
    "Get the current default floating point torch.dtype."
   ]
  },
  {
   "cell_type": "code",
   "execution_count": 34,
   "id": "9dd10a62",
   "metadata": {},
   "outputs": [
    {
     "data": {
      "text/plain": [
       "torch.float64"
      ]
     },
     "execution_count": 34,
     "metadata": {},
     "output_type": "execute_result"
    }
   ],
   "source": [
    "torch.get_default_dtype()"
   ]
  },
  {
   "cell_type": "markdown",
   "id": "fb3b40e2",
   "metadata": {},
   "source": [
    "### torch.get_default_device\n"
   ]
  },
  {
   "cell_type": "code",
   "execution_count": 35,
   "id": "d331f1b1",
   "metadata": {},
   "outputs": [
    {
     "data": {
      "text/plain": [
       "device(type='cpu')"
      ]
     },
     "execution_count": 35,
     "metadata": {},
     "output_type": "execute_result"
    }
   ],
   "source": [
    "torch.get_default_device()"
   ]
  },
  {
   "cell_type": "code",
   "execution_count": 36,
   "id": "eddd2240",
   "metadata": {},
   "outputs": [
    {
     "data": {
      "text/plain": [
       "device(type='cpu')"
      ]
     },
     "execution_count": 36,
     "metadata": {},
     "output_type": "execute_result"
    }
   ],
   "source": [
    "torch.get_default_device()"
   ]
  },
  {
   "cell_type": "markdown",
   "id": "a06c85a0",
   "metadata": {},
   "source": [
    "### torch.set_default_tensor_type\n",
    "\n",
    "torch.set_default_tensor_type(t, /)\n",
    "\n",
    "Sets the default torch.Tensor type to floating point tensor type t. This type will also be used as default floating point type for type inference in torch.tensor().\n",
    "\n",
    "The default floating point tensor type is initially torch.FloatTensor.\n",
    "\n",
    "Parameters\n",
    "\n",
    "    t (type or string) – the floating point tensor type or its name\n"
   ]
  },
  {
   "cell_type": "code",
   "execution_count": 37,
   "id": "2a7d1ecd",
   "metadata": {},
   "outputs": [
    {
     "data": {
      "text/plain": [
       "torch.int64"
      ]
     },
     "execution_count": 37,
     "metadata": {},
     "output_type": "execute_result"
    }
   ],
   "source": [
    "torch.tensor([1,2,3,4]).dtype"
   ]
  },
  {
   "cell_type": "code",
   "execution_count": 39,
   "id": "fc1cbcbb",
   "metadata": {},
   "outputs": [
    {
     "data": {
      "text/plain": [
       "torch.float64"
      ]
     },
     "execution_count": 39,
     "metadata": {},
     "output_type": "execute_result"
    }
   ],
   "source": [
    "torch.tensor([1.2,3,4]).dtype"
   ]
  },
  {
   "cell_type": "markdown",
   "id": "79f4bdac",
   "metadata": {},
   "source": [
    "### torch.numel\n",
    "torch.numel(input: Tensor) → int\n",
    "\n",
    "Returns the total number of elements in the input tensor.\n",
    "\n",
    "Parameters\n",
    "\n",
    "    input (Tensor) – the input tensor.\n"
   ]
  },
  {
   "cell_type": "code",
   "execution_count": 40,
   "id": "6675f4a4",
   "metadata": {},
   "outputs": [
    {
     "data": {
      "text/plain": [
       "120"
      ]
     },
     "execution_count": 40,
     "metadata": {},
     "output_type": "execute_result"
    }
   ],
   "source": [
    "a = torch.randn(1,2,3,4,5)\n",
    "torch.numel(a)"
   ]
  },
  {
   "cell_type": "code",
   "execution_count": 41,
   "id": "1c2252f6",
   "metadata": {},
   "outputs": [
    {
     "data": {
      "text/plain": [
       "16"
      ]
     },
     "execution_count": 41,
     "metadata": {},
     "output_type": "execute_result"
    }
   ],
   "source": [
    "a = torch.zeros(4,4)\n",
    "torch.numel(a)"
   ]
  },
  {
   "cell_type": "markdown",
   "id": "59830775",
   "metadata": {},
   "source": [
    "### torch.set_printoptions\n",
    "torch.set_printoptions(precision=None, threshold=None, edgeitems=None, linewidth=None, profile=None, sci_mode=None)\n",
    "[source]\n",
    "\n",
    "Set options for printing. Items shamelessly taken from NumPy\n",
    "\n",
    "`parameters: `\n",
    "\n",
    "\n",
    "        precision – Number of digits of precision for floating point output (default = 4).\n",
    "\n",
    "        threshold – Total number of array elements which trigger summarization rather than full repr (default = 1000).\n",
    "\n",
    "        edgeitems – Number of array items in summary at beginning and end of each dimension (default = 3).\n",
    "\n",
    "        linewidth – The number of characters per line for the purpose of inserting line breaks (default = 80). Thresholded matrices will ignore this parameter.\n",
    "\n",
    "        profile – Sane defaults for pretty printing. Can override with any of the above options. (any one of default, short, full)\n",
    "\n",
    "        sci_mode – Enable (True) or disable (False) scientific notation. If None (default) is specified, the value is defined by torch._tensor_str._Formatter. This value is automatically chosen by the framework.\n",
    "\n"
   ]
  },
  {
   "cell_type": "code",
   "execution_count": 43,
   "id": "8c4060d0",
   "metadata": {},
   "outputs": [],
   "source": [
    "# limit the precision of elements\n",
    "torch.set_printoptions(precision=2)"
   ]
  },
  {
   "cell_type": "code",
   "execution_count": 44,
   "id": "cb5f2a22",
   "metadata": {},
   "outputs": [
    {
     "data": {
      "text/plain": [
       "tensor([1.12])"
      ]
     },
     "execution_count": 44,
     "metadata": {},
     "output_type": "execute_result"
    }
   ],
   "source": [
    "torch.tensor([1.123456])"
   ]
  },
  {
   "cell_type": "code",
   "execution_count": null,
   "id": "32fa816b",
   "metadata": {},
   "outputs": [],
   "source": []
  },
  {
   "cell_type": "code",
   "execution_count": 62,
   "id": "e58cddcc",
   "metadata": {},
   "outputs": [],
   "source": [
    "# limit the number of elements shown\n",
    "torch.set_printoptions(threshold=10)"
   ]
  },
  {
   "cell_type": "code",
   "execution_count": 63,
   "id": "9e943a44",
   "metadata": {},
   "outputs": [
    {
     "data": {
      "text/plain": [
       "tensor([ 0,  1,  2,  ..., 17, 18, 19])"
      ]
     },
     "execution_count": 63,
     "metadata": {},
     "output_type": "execute_result"
    }
   ],
   "source": [
    "torch.arange(20)"
   ]
  },
  {
   "cell_type": "code",
   "execution_count": 64,
   "id": "f2dd6b1e",
   "metadata": {},
   "outputs": [],
   "source": [
    "torch.set_printoptions(profile='default')\n"
   ]
  },
  {
   "cell_type": "markdown",
   "id": "2aee2c3e",
   "metadata": {},
   "source": [
    "Excellent observation.\n",
    "\n",
    "When PyTorch summarizes large tensors using `...`, it **by default shows the first 3 and last 3 elements** of **1D tensors**.\n",
    "\n",
    "---\n",
    "\n",
    "### 🔍 Why does it show first 3 and last 3?\n",
    "\n",
    "This behavior is **hardcoded** into PyTorch's print formatting logic for 1D tensors when summarization (`...`) is triggered due to exceeding the `threshold`.\n",
    "\n",
    "#### ✔ PyTorch default summary logic:\n",
    "\n",
    "For **1D tensors**, when the number of elements exceeds the `threshold`, PyTorch shows:\n",
    "\n",
    "* The **first 3 elements**\n",
    "* An ellipsis `...`\n",
    "* The **last 3 elements**\n",
    "\n",
    "---\n",
    "\n",
    "### 📘 Example:\n",
    "\n",
    "```python\n",
    "import torch\n",
    "\n",
    "torch.set_printoptions(threshold=2)\n",
    "\n",
    "a = torch.arange(10)\n",
    "print(a)\n",
    "```\n",
    "\n",
    "#### Output:\n",
    "\n",
    "```\n",
    "tensor([0, 1, 2, ..., 7, 8, 9])\n",
    "```\n",
    "\n",
    "It shows 3 head elements: `[0, 1, 2]`\n",
    "And 3 tail elements: `[7, 8, 9]`\n",
    "\n",
    "---\n",
    "\n",
    "### 🛠 Can this be changed?\n",
    "\n",
    "Unfortunately, **PyTorch does not expose settings** to customize the number of head/tail elements shown in the abbreviated display. The behavior is **not user-configurable** via `set_printoptions`.\n",
    "\n",
    "However, you can implement a **custom print function** if needed:\n",
    "\n",
    "```python\n",
    "def custom_tensor_preview(tensor, head=3, tail=3):\n",
    "    total = tensor.numel()\n",
    "    if total <= head + tail:\n",
    "        return tensor\n",
    "    else:\n",
    "        head_vals = tensor[:head]\n",
    "        tail_vals = tensor[-tail:]\n",
    "        return f\"tensor([{', '.join(map(str, head_vals.tolist()))}, ..., {', '.join(map(str, tail_vals.tolist()))}])\"\n",
    "\n",
    "a = torch.arange(100)\n",
    "print(custom_tensor_preview(a))\n",
    "```\n",
    "\n",
    "#### Output:\n",
    "\n",
    "```\n",
    "tensor([0, 1, 2, ..., 97, 98, 99])\n",
    "```\n",
    "\n",
    "---\n",
    "\n",
    "### ✅ Summary:\n",
    "\n",
    "| Behavior      | Value                            |\n",
    "| ------------- | -------------------------------- |\n",
    "| Always shows  | First 3, Last 3 (for 1D tensors) |\n",
    "| Triggered by  | `tensor.numel() > threshold`     |\n",
    "| Customizable? | ❌ Not via `set_printoptions`     |\n",
    "| Workaround    | ✅ Use a custom print function    |\n",
    "\n",
    "Let me know if you'd like a version that works for multi-dimensional tensors too.\n"
   ]
  },
  {
   "cell_type": "code",
   "execution_count": 66,
   "id": "e73f898f",
   "metadata": {},
   "outputs": [],
   "source": [
    "torch.set_printoptions(profile='default')"
   ]
  },
  {
   "cell_type": "code",
   "execution_count": 67,
   "id": "77fcec17",
   "metadata": {},
   "outputs": [
    {
     "data": {
      "text/plain": [
       "tensor(1.2346)"
      ]
     },
     "execution_count": 67,
     "metadata": {},
     "output_type": "execute_result"
    }
   ],
   "source": [
    "torch.tensor(1.23456)"
   ]
  },
  {
   "cell_type": "code",
   "execution_count": 68,
   "id": "9e708a8e",
   "metadata": {},
   "outputs": [
    {
     "data": {
      "text/plain": [
       "tensor([0, 1, 2, 3, 4, 5, 6, 7, 8, 9])"
      ]
     },
     "execution_count": 68,
     "metadata": {},
     "output_type": "execute_result"
    }
   ],
   "source": [
    "torch.arange(10)"
   ]
  },
  {
   "cell_type": "markdown",
   "id": "a9035dcf",
   "metadata": {},
   "source": [
    "### torch.tensor\n",
    "torch.tensor(data, *, dtype=None, device=None, requires_grad=False, pin_memory=False) → Tensor\n",
    "\n",
    "Constructs a tensor with no autograd history (also known as a “leaf tensor”, see Autograd mechanics) by copying data.\n",
    "\n",
    "- torch.as_tensor() preserves autograd history and avoids copies where possible. torch.\n",
    "- from_numpy() creates a tensor that shares storage with a NumPy array.\n",
    "\n",
    "Keyword Arguments\n",
    "\n",
    "- dtype (torch.dtype, optional) – the desired data type of returned tensor. Default: if None, infers data type from data.\n",
    "\n",
    "- device (torch.device, optional) – the device of the constructed tensor. If None and data is a tensor then the device of data is used. If None and data is not a tensor then the result tensor is constructed on the current device.\n",
    "\n",
    "- requires_grad (bool, optional) – If autograd should record operations on the returned tensor. Default: False.\n",
    "\n",
    "- pin_memory (bool, optional) – If set, returned tensor would be allocated in the pinned memory. Works only for CPU tensors. Default: False.\n",
    "\n",
    "\n",
    "\n"
   ]
  },
  {
   "cell_type": "code",
   "execution_count": 69,
   "id": "7adb292c",
   "metadata": {},
   "outputs": [
    {
     "data": {
      "text/plain": [
       "tensor([])"
      ]
     },
     "execution_count": 69,
     "metadata": {},
     "output_type": "execute_result"
    }
   ],
   "source": [
    "torch.tensor([])"
   ]
  },
  {
   "cell_type": "code",
   "execution_count": 70,
   "id": "78cc42db",
   "metadata": {},
   "outputs": [
    {
     "data": {
      "text/plain": [
       "tensor([1, 2, 3, 4])"
      ]
     },
     "execution_count": 70,
     "metadata": {},
     "output_type": "execute_result"
    }
   ],
   "source": [
    "torch.tensor([1,2,3,4])"
   ]
  },
  {
   "cell_type": "code",
   "execution_count": 71,
   "id": "94c4eae8",
   "metadata": {},
   "outputs": [
    {
     "data": {
      "text/plain": [
       "tensor([[1, 2],\n",
       "        [3, 4],\n",
       "        [5, 6]])"
      ]
     },
     "execution_count": 71,
     "metadata": {},
     "output_type": "execute_result"
    }
   ],
   "source": [
    "torch.tensor([[1,2],[3,4],[5,6]])"
   ]
  },
  {
   "cell_type": "code",
   "execution_count": null,
   "id": "6ad7cc22",
   "metadata": {},
   "outputs": [],
   "source": []
  }
 ],
 "metadata": {
  "kernelspec": {
   "display_name": "Python (tf_env)",
   "language": "python",
   "name": "tf_env"
  },
  "language_info": {
   "codemirror_mode": {
    "name": "ipython",
    "version": 3
   },
   "file_extension": ".py",
   "mimetype": "text/x-python",
   "name": "python",
   "nbconvert_exporter": "python",
   "pygments_lexer": "ipython3",
   "version": "3.12.3"
  }
 },
 "nbformat": 4,
 "nbformat_minor": 5
}
