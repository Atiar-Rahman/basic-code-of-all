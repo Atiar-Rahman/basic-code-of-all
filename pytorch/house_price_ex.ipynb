{
 "cells": [
  {
   "cell_type": "markdown",
   "id": "a5037007",
   "metadata": {},
   "source": [
    "# House price prediction using pytorch"
   ]
  },
  {
   "cell_type": "markdown",
   "id": "df20aab9",
   "metadata": {},
   "source": [
    "step-1: Import libraries"
   ]
  },
  {
   "cell_type": "code",
   "execution_count": 30,
   "id": "33873962",
   "metadata": {},
   "outputs": [],
   "source": [
    "import torch\n",
    "import torch.nn as nn\n",
    "import torch.optim as optim"
   ]
  },
  {
   "cell_type": "markdown",
   "id": "6b7e1910",
   "metadata": {},
   "source": [
    "step-2: create Dummy dataset"
   ]
  },
  {
   "cell_type": "code",
   "execution_count": 37,
   "id": "f7847b9f",
   "metadata": {},
   "outputs": [],
   "source": [
    "# features: [size(sqft), Number of bedrooms]\n",
    "# target [price in $1000]\n",
    "X = torch.tensor([[1400, 3],\n",
    "                  [1600, 3],\n",
    "                  [1700, 3],\n",
    "                  [1875, 4],\n",
    "                  [1100, 2]], dtype=torch.float32)\n",
    "\n",
    "y = torch.tensor([[245],\n",
    "                  [312],\n",
    "                  [279],\n",
    "                  [308],\n",
    "                  [199]], dtype=torch.float32)"
   ]
  },
  {
   "cell_type": "markdown",
   "id": "7dcb9d47",
   "metadata": {},
   "source": [
    "step-3: create simple neural network"
   ]
  },
  {
   "cell_type": "code",
   "execution_count": 32,
   "id": "8a16440e",
   "metadata": {},
   "outputs": [],
   "source": [
    "class HousePriceModel(nn.Module):\n",
    "    def __init__(self):\n",
    "        super(HousePriceModel,self).__init__()\n",
    "        self.linear= nn.Linear(2,1) # 2 feature, 1 target\n",
    "        \n",
    "        def forward(self, x):              # এখানে forward function অবশ্যই থাকতে হবে\n",
    "            return self.linear(x)\n",
    "        \n",
    "model = HousePriceModel()"
   ]
  },
  {
   "cell_type": "markdown",
   "id": "762ec704",
   "metadata": {},
   "source": [
    "step-4: loss function + optimizer"
   ]
  },
  {
   "cell_type": "code",
   "execution_count": 33,
   "id": "83da2f36",
   "metadata": {},
   "outputs": [],
   "source": [
    "criterion = nn.MSELoss()\n",
    "optimizer = optim.SGD(model.parameters(),lr=0.000001)"
   ]
  },
  {
   "cell_type": "markdown",
   "id": "3c37bee2",
   "metadata": {},
   "source": [
    "step-5: training loop"
   ]
  },
  {
   "cell_type": "code",
   "execution_count": 47,
   "id": "8c40388e",
   "metadata": {},
   "outputs": [
    {
     "name": "stdout",
     "output_type": "stream",
     "text": [
      "Epoch [10/1000], Loss: 1063.7347\n",
      "Epoch [20/1000], Loss: 705.0421\n",
      "Epoch [30/1000], Loss: 699.3185\n",
      "Epoch [40/1000], Loss: 694.6300\n",
      "Epoch [50/1000], Loss: 690.0132\n",
      "Epoch [60/1000], Loss: 685.4659\n",
      "Epoch [70/1000], Loss: 680.9855\n",
      "Epoch [80/1000], Loss: 676.5705\n",
      "Epoch [90/1000], Loss: 672.2218\n",
      "Epoch [100/1000], Loss: 667.9370\n",
      "Epoch [110/1000], Loss: 663.7153\n",
      "Epoch [120/1000], Loss: 659.5557\n",
      "Epoch [130/1000], Loss: 655.4573\n",
      "Epoch [140/1000], Loss: 651.4196\n",
      "Epoch [150/1000], Loss: 647.4414\n",
      "Epoch [160/1000], Loss: 643.5206\n",
      "Epoch [170/1000], Loss: 639.6580\n",
      "Epoch [180/1000], Loss: 635.8512\n",
      "Epoch [190/1000], Loss: 632.1004\n",
      "Epoch [200/1000], Loss: 628.4034\n",
      "Epoch [210/1000], Loss: 624.7615\n",
      "Epoch [220/1000], Loss: 621.1722\n",
      "Epoch [230/1000], Loss: 617.6348\n",
      "Epoch [240/1000], Loss: 614.1490\n",
      "Epoch [250/1000], Loss: 610.7140\n",
      "Epoch [260/1000], Loss: 607.3282\n",
      "Epoch [270/1000], Loss: 603.9913\n",
      "Epoch [280/1000], Loss: 600.7031\n",
      "Epoch [290/1000], Loss: 597.4615\n",
      "Epoch [300/1000], Loss: 594.2675\n",
      "Epoch [310/1000], Loss: 591.1189\n",
      "Epoch [320/1000], Loss: 588.0153\n",
      "Epoch [330/1000], Loss: 584.9566\n",
      "Epoch [340/1000], Loss: 581.9413\n",
      "Epoch [350/1000], Loss: 578.9695\n",
      "Epoch [360/1000], Loss: 576.0394\n",
      "Epoch [370/1000], Loss: 573.1516\n",
      "Epoch [380/1000], Loss: 570.3049\n",
      "Epoch [390/1000], Loss: 567.4984\n",
      "Epoch [400/1000], Loss: 564.7322\n",
      "Epoch [410/1000], Loss: 562.0042\n",
      "Epoch [420/1000], Loss: 559.3156\n",
      "Epoch [430/1000], Loss: 556.6646\n",
      "Epoch [440/1000], Loss: 554.0514\n",
      "Epoch [450/1000], Loss: 551.4744\n",
      "Epoch [460/1000], Loss: 548.9339\n",
      "Epoch [470/1000], Loss: 546.4285\n",
      "Epoch [480/1000], Loss: 543.9590\n",
      "Epoch [490/1000], Loss: 541.5234\n",
      "Epoch [500/1000], Loss: 539.1221\n",
      "Epoch [510/1000], Loss: 536.7540\n",
      "Epoch [520/1000], Loss: 534.4191\n",
      "Epoch [530/1000], Loss: 532.1165\n",
      "Epoch [540/1000], Loss: 529.8460\n",
      "Epoch [550/1000], Loss: 527.6067\n",
      "Epoch [560/1000], Loss: 525.3978\n",
      "Epoch [570/1000], Loss: 523.2198\n",
      "Epoch [580/1000], Loss: 521.0719\n",
      "Epoch [590/1000], Loss: 518.9539\n",
      "Epoch [600/1000], Loss: 516.8636\n",
      "Epoch [610/1000], Loss: 514.8027\n",
      "Epoch [620/1000], Loss: 512.7697\n",
      "Epoch [630/1000], Loss: 510.7640\n",
      "Epoch [640/1000], Loss: 508.7864\n",
      "Epoch [650/1000], Loss: 506.8349\n",
      "Epoch [660/1000], Loss: 504.9106\n",
      "Epoch [670/1000], Loss: 503.0117\n",
      "Epoch [680/1000], Loss: 501.1388\n",
      "Epoch [690/1000], Loss: 499.2905\n",
      "Epoch [700/1000], Loss: 497.4674\n",
      "Epoch [710/1000], Loss: 495.6688\n",
      "Epoch [720/1000], Loss: 493.8936\n",
      "Epoch [730/1000], Loss: 492.1424\n",
      "Epoch [740/1000], Loss: 490.4153\n",
      "Epoch [750/1000], Loss: 488.7100\n",
      "Epoch [760/1000], Loss: 487.0283\n",
      "Epoch [770/1000], Loss: 485.3683\n",
      "Epoch [780/1000], Loss: 483.7300\n",
      "Epoch [790/1000], Loss: 482.1135\n",
      "Epoch [800/1000], Loss: 480.5180\n",
      "Epoch [810/1000], Loss: 478.9437\n",
      "Epoch [820/1000], Loss: 477.3898\n",
      "Epoch [830/1000], Loss: 475.8564\n",
      "Epoch [840/1000], Loss: 474.3428\n",
      "Epoch [850/1000], Loss: 472.8487\n",
      "Epoch [860/1000], Loss: 471.3739\n",
      "Epoch [870/1000], Loss: 469.9183\n",
      "Epoch [880/1000], Loss: 468.4813\n",
      "Epoch [890/1000], Loss: 467.0631\n",
      "Epoch [900/1000], Loss: 465.6630\n",
      "Epoch [910/1000], Loss: 464.2802\n",
      "Epoch [920/1000], Loss: 462.9156\n",
      "Epoch [930/1000], Loss: 461.5683\n",
      "Epoch [940/1000], Loss: 460.2377\n",
      "Epoch [950/1000], Loss: 458.9245\n",
      "Epoch [960/1000], Loss: 457.6275\n",
      "Epoch [970/1000], Loss: 456.3466\n",
      "Epoch [980/1000], Loss: 455.0826\n",
      "Epoch [990/1000], Loss: 453.8338\n",
      "Epoch [1000/1000], Loss: 452.6008\n"
     ]
    }
   ],
   "source": [
    "import torch\n",
    "import torch.nn as nn\n",
    "import torch.optim as optim\n",
    "\n",
    "# Dataset\n",
    "X = torch.tensor([[1400, 3],\n",
    "                  [1600, 3],\n",
    "                  [1700, 3],\n",
    "                  [1875, 4],\n",
    "                  [1100, 2]], dtype=torch.float32)\n",
    "\n",
    "y = torch.tensor([[245],\n",
    "                  [312],\n",
    "                  [279],\n",
    "                  [308],\n",
    "                  [199]], dtype=torch.float32)\n",
    "\n",
    "# Feature Scaling\n",
    "X[:,0] = X[:,0] / 1000  # scale sqft\n",
    "# Model\n",
    "class HousePriceModel(nn.Module):\n",
    "    def __init__(self):\n",
    "        super(HousePriceModel, self).__init__()\n",
    "        self.linear = nn.Linear(2, 1)\n",
    "\n",
    "    def forward(self, x):\n",
    "        return self.linear(x)\n",
    "\n",
    "model = HousePriceModel()\n",
    "\n",
    "# Loss & Optimizer\n",
    "criterion = nn.MSELoss()\n",
    "optimizer = optim.SGD(model.parameters(), lr=1e-2)\n",
    "\n",
    "# Training\n",
    "epochs = 1000\n",
    "for epoch in range(epochs):\n",
    "    outputs = model(X)             # Forward\n",
    "    loss = criterion(outputs, y)\n",
    "\n",
    "    optimizer.zero_grad()\n",
    "    loss.backward()\n",
    "    optimizer.step()\n",
    "\n",
    "    if (epoch+1) % 10 == 0:\n",
    "        print(f\"Epoch [{epoch+1}/{epochs}], Loss: {loss.item():.4f}\")\n"
   ]
  },
  {
   "cell_type": "code",
   "execution_count": 46,
   "id": "54f0065d",
   "metadata": {},
   "outputs": [
    {
     "name": "stdout",
     "output_type": "stream",
     "text": [
      "Predicted House Price: $253445734.38\n"
     ]
    }
   ],
   "source": [
    "\n",
    "# --------------------------\n",
    "# Prediction\n",
    "# --------------------------\n",
    "test_data = torch.tensor([[1500, 3]], dtype=torch.float32)\n",
    "predicted_price = model(test_data).item()\n",
    "\n",
    "print(f\"Predicted House Price: ${predicted_price*1000:.2f}\")"
   ]
  },
  {
   "cell_type": "markdown",
   "id": "06c1cbab",
   "metadata": {},
   "source": []
  },
  {
   "cell_type": "code",
   "execution_count": 48,
   "id": "e4e6313b",
   "metadata": {},
   "outputs": [
    {
     "name": "stdout",
     "output_type": "stream",
     "text": [
      "Epoch [200/2000], Loss: 0.0748\n",
      "Epoch [400/2000], Loss: 0.0062\n",
      "Epoch [600/2000], Loss: 0.0000\n",
      "Epoch [800/2000], Loss: 0.0000\n",
      "Epoch [1000/2000], Loss: 0.0000\n",
      "Epoch [1200/2000], Loss: 0.0000\n",
      "Epoch [1400/2000], Loss: 0.0000\n",
      "Epoch [1600/2000], Loss: 0.0000\n",
      "Epoch [1800/2000], Loss: 0.0000\n",
      "Epoch [2000/2000], Loss: 0.0000\n"
     ]
    },
    {
     "data": {
      "image/png": "[encoded data removed]",
      "text/plain": [
       "<Figure size 640x480 with 1 Axes>"
      ]
     },
     "metadata": {},
     "output_type": "display_data"
    },
    {
     "name": "stdout",
     "output_type": "stream",
     "text": [
      "Predicted House Price: $278513.34\n"
     ]
    }
   ],
   "source": [
    "import torch\n",
    "import torch.nn as nn\n",
    "import torch.optim as optim\n",
    "import matplotlib.pyplot as plt\n",
    "\n",
    "# --------------------------\n",
    "# Dataset\n",
    "# --------------------------\n",
    "# Features: [Size (sqft), Number of Bedrooms]\n",
    "# Target: Price (in $1000)\n",
    "X = torch.tensor([[1400, 3],\n",
    "                  [1600, 3],\n",
    "                  [1700, 3],\n",
    "                  [1875, 4],\n",
    "                  [1100, 2]], dtype=torch.float32)\n",
    "y = torch.tensor([[245],\n",
    "                  [312],\n",
    "                  [279],\n",
    "                  [308],\n",
    "                  [199]], dtype=torch.float32)\n",
    "\n",
    "# --------------------------\n",
    "# Standardize features\n",
    "# --------------------------\n",
    "X_mean = X.mean(dim=0)\n",
    "X_std = X.std(dim=0)\n",
    "X_norm = (X - X_mean) / X_std\n",
    "\n",
    "y_mean = y.mean()\n",
    "y_std = y.std()\n",
    "y_norm = (y - y_mean) / y_std   # optional: normalize target for stability\n",
    "\n",
    "# --------------------------\n",
    "# Model\n",
    "# --------------------------\n",
    "class HousePriceModel(nn.Module):\n",
    "    def __init__(self):\n",
    "        super().__init__()\n",
    "        self.linear1 = nn.Linear(2, 16)  # hidden layer\n",
    "        self.relu = nn.ReLU()\n",
    "        self.linear2 = nn.Linear(16, 1)\n",
    "\n",
    "    def forward(self, x):\n",
    "        x = self.linear1(x)\n",
    "        x = self.relu(x)\n",
    "        x = self.linear2(x)\n",
    "        return x\n",
    "\n",
    "model = HousePriceModel()\n",
    "\n",
    "# --------------------------\n",
    "# Loss & Optimizer\n",
    "# --------------------------\n",
    "criterion = nn.MSELoss()\n",
    "optimizer = optim.Adam(model.parameters(), lr=0.01)\n",
    "\n",
    "# --------------------------\n",
    "# Training Loop\n",
    "# --------------------------\n",
    "epochs = 2000\n",
    "loss_list = []\n",
    "\n",
    "for epoch in range(epochs):\n",
    "    model.train()\n",
    "    outputs = model(X_norm)\n",
    "    loss = criterion(outputs, y_norm)\n",
    "\n",
    "    optimizer.zero_grad()\n",
    "    loss.backward()\n",
    "    optimizer.step()\n",
    "\n",
    "    loss_list.append(loss.item())\n",
    "\n",
    "    if (epoch+1) % 200 == 0:\n",
    "        print(f\"Epoch [{epoch+1}/{epochs}], Loss: {loss.item():.4f}\")\n",
    "\n",
    "# --------------------------\n",
    "# Plot Loss Curve\n",
    "# --------------------------\n",
    "plt.plot(loss_list)\n",
    "plt.xlabel(\"Epoch\")\n",
    "plt.ylabel(\"MSE Loss\")\n",
    "plt.title(\"Training Loss Curve\")\n",
    "plt.show()\n",
    "\n",
    "# --------------------------\n",
    "# Prediction\n",
    "# --------------------------\n",
    "test_sample = torch.tensor([[1500, 3]], dtype=torch.float32)\n",
    "# Normalize test sample\n",
    "test_sample_norm = (test_sample - X_mean) / X_std\n",
    "\n",
    "pred_norm = model(test_sample_norm).item()\n",
    "# Convert back to original scale\n",
    "pred_price = pred_norm * y_std + y_mean\n",
    "print(f\"Predicted House Price: ${pred_price*1000:.2f}\")\n"
   ]
  }
 ],
 "metadata": {
  "kernelspec": {
   "display_name": "Python (tf_env)",
   "language": "python",
   "name": "tf_env"
  },
  "language_info": {
   "codemirror_mode": {
    "name": "ipython",
    "version": 3
   },
   "file_extension": ".py",
   "mimetype": "text/x-python",
   "name": "python",
   "nbconvert_exporter": "python",
   "pygments_lexer": "ipython3",
   "version": "3.12.3"
  }
 },
 "nbformat": 4,
 "nbformat_minor": 5
}
