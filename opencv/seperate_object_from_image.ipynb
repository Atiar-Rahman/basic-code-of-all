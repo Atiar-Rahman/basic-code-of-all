{
 "cells": [
  {
   "cell_type": "code",
   "execution_count": 2,
   "id": "2f344e0f",
   "metadata": {},
   "outputs": [],
   "source": [
    "#packages\n",
    "import cv2\n",
    "import numpy as np"
   ]
  },
  {
   "cell_type": "code",
   "execution_count": 3,
   "id": "9d61ef8a",
   "metadata": {},
   "outputs": [],
   "source": [
    "# open source image file\n",
    "image = cv2.imread('birds1.jpeg',cv2.IMREAD_UNCHANGED)\n"
   ]
  },
  {
   "cell_type": "code",
   "execution_count": 9,
   "id": "0f9d979f",
   "metadata": {},
   "outputs": [
    {
     "name": "stdout",
     "output_type": "stream",
     "text": [
      "First pixel of binary image: 255\n"
     ]
    }
   ],
   "source": [
    "import cv2\n",
    "import numpy as np\n",
    "\n",
    "# Load the image\n",
    "image = cv2.imread('human.jpeg')  # Replace with your image path\n",
    "cv2.imshow('Original', image)\n",
    "\n",
    "# Convert to grayscale\n",
    "image_gray = cv2.cvtColor(image, cv2.COLOR_BGR2GRAY)\n",
    "cv2.imshow('Grayscale', image_gray)\n",
    "\n",
    "# Convert image to black and white (binary image)\n",
    "_, image_bw = cv2.threshold(image_gray, 100, 255, cv2.THRESH_BINARY)\n",
    "print(\"First pixel of binary image:\", image_bw[0][0])\n",
    "cv2.imshow(\"Black & White\", image_bw)\n",
    "\n",
    "# Create a blank white canvas with same size as image\n",
    "canvas = np.ones_like(image) * 255  # White background\n",
    "\n",
    "# Detect external contours\n",
    "contours, hierarchy = cv2.findContours(image_bw, cv2.RETR_EXTERNAL, cv2.CHAIN_APPROX_NONE)\n",
    "\n",
    "# Draw contours on the canvas\n",
    "cv2.drawContours(canvas, contours, 0, (0, 255, 0), 2)\n",
    "\n",
    "# Show result\n",
    "cv2.imshow(\"Contours\", canvas)\n",
    "\n",
    "# Wait and destroy all windows\n",
    "cv2.waitKey(10000)\n",
    "cv2.destroyAllWindows()\n"
   ]
  },
  {
   "cell_type": "code",
   "execution_count": null,
   "id": "d5108c4e",
   "metadata": {},
   "outputs": [],
   "source": []
  }
 ],
 "metadata": {
  "kernelspec": {
   "display_name": "Python (tf_env)",
   "language": "python",
   "name": "tf_env"
  },
  "language_info": {
   "codemirror_mode": {
    "name": "ipython",
    "version": 3
   },
   "file_extension": ".py",
   "mimetype": "text/x-python",
   "name": "python",
   "nbconvert_exporter": "python",
   "pygments_lexer": "ipython3",
   "version": "3.12.3"
  }
 },
 "nbformat": 4,
 "nbformat_minor": 5
}
