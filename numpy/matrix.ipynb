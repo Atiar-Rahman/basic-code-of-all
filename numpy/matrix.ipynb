{
 "cells": [
  {
   "cell_type": "markdown",
   "id": "731546a7-883e-429d-add0-25853868e652",
   "metadata": {},
   "source": [
    "# matrix"
   ]
  },
  {
   "cell_type": "code",
   "execution_count": 3,
   "id": "d9b1b4fe-95c0-4edb-ae13-7a4c796cb426",
   "metadata": {},
   "outputs": [],
   "source": [
    "import numpy as np"
   ]
  },
  {
   "cell_type": "code",
   "execution_count": 11,
   "id": "37401ee8-eaa6-45cb-94a2-9067fccb93f8",
   "metadata": {},
   "outputs": [
    {
     "data": {
      "text/plain": [
       "array([[1., 0.],\n",
       "       [0., 1.],\n",
       "       [0., 0.]])"
      ]
     },
     "execution_count": 11,
     "metadata": {},
     "output_type": "execute_result"
    }
   ],
   "source": [
    "identity = np.eye(3,2)\n",
    "identity"
   ]
  },
  {
   "cell_type": "code",
   "execution_count": 12,
   "id": "115bf763-6b03-431b-b7ae-f2b3424dd48f",
   "metadata": {},
   "outputs": [
    {
     "data": {
      "text/plain": [
       "(3, 2)"
      ]
     },
     "execution_count": 12,
     "metadata": {},
     "output_type": "execute_result"
    }
   ],
   "source": [
    "identity.shape"
   ]
  },
  {
   "cell_type": "code",
   "execution_count": 15,
   "id": "8c3aa24c-9d0f-49d0-a605-0828299dda96",
   "metadata": {},
   "outputs": [
    {
     "data": {
      "text/plain": [
       "array([[4, 0],\n",
       "       [0, 4]])"
      ]
     },
     "execution_count": 15,
     "metadata": {},
     "output_type": "execute_result"
    }
   ],
   "source": [
    "dig = np.diag((4,4))\n",
    "dig"
   ]
  },
  {
   "cell_type": "code",
   "execution_count": 25,
   "id": "de15c4bd-e080-4671-9c1a-8b71f493f29d",
   "metadata": {},
   "outputs": [
    {
     "data": {
      "text/plain": [
       "array([[3, 0, 0],\n",
       "       [0, 4, 0],\n",
       "       [0, 0, 6]])"
      ]
     },
     "execution_count": 25,
     "metadata": {},
     "output_type": "execute_result"
    }
   ],
   "source": [
    "x = np.diag((3,4,6))\n",
    "x"
   ]
  },
  {
   "cell_type": "code",
   "execution_count": 23,
   "id": "8a87439d-0532-4dde-8fbb-ceab11c93af4",
   "metadata": {},
   "outputs": [
    {
     "data": {
      "text/plain": [
       "np.int64(8)"
      ]
     },
     "execution_count": 23,
     "metadata": {},
     "output_type": "execute_result"
    }
   ],
   "source": [
    "sum1 = np.trace(dig)\n",
    "sum1"
   ]
  },
  {
   "cell_type": "code",
   "execution_count": 26,
   "id": "2a266928-5510-410b-a7e4-94c6fbdf3cd9",
   "metadata": {},
   "outputs": [
    {
     "data": {
      "text/plain": [
       "np.int64(13)"
      ]
     },
     "execution_count": 26,
     "metadata": {},
     "output_type": "execute_result"
    }
   ],
   "source": [
    "tr = np.trace(x)\n",
    "tr"
   ]
  },
  {
   "cell_type": "code",
   "execution_count": 28,
   "id": "71eef67f-f36b-4184-9e88-0e4901954453",
   "metadata": {},
   "outputs": [
    {
     "data": {
      "text/plain": [
       "array([[3, 4],\n",
       "       [0, 4]])"
      ]
     },
     "execution_count": 28,
     "metadata": {},
     "output_type": "execute_result"
    }
   ],
   "source": [
    "up =  np.triu((3,4))\n",
    "up"
   ]
  },
  {
   "cell_type": "code",
   "execution_count": 29,
   "id": "fa557dba-6443-4e1d-b1ab-f105c6a06b2b",
   "metadata": {},
   "outputs": [
    {
     "data": {
      "text/plain": [
       "array([0, 1, 2, 3, 4, 5, 6, 7, 8])"
      ]
     },
     "execution_count": 29,
     "metadata": {},
     "output_type": "execute_result"
    }
   ],
   "source": [
    "a = np.arange(9)\n",
    "a"
   ]
  },
  {
   "cell_type": "code",
   "execution_count": 30,
   "id": "64c9f08a-266e-4f12-8b17-b956e3f29909",
   "metadata": {},
   "outputs": [
    {
     "data": {
      "text/plain": [
       "(9,)"
      ]
     },
     "execution_count": 30,
     "metadata": {},
     "output_type": "execute_result"
    }
   ],
   "source": [
    "a.shape"
   ]
  },
  {
   "cell_type": "code",
   "execution_count": 35,
   "id": "c5aa7e8a-ec5f-4a4c-beac-c39fa0f510ba",
   "metadata": {},
   "outputs": [],
   "source": [
    "a = a.reshape(3,3)"
   ]
  },
  {
   "cell_type": "code",
   "execution_count": 36,
   "id": "7bedc255-be61-4075-8036-50cb2d8483fb",
   "metadata": {},
   "outputs": [
    {
     "data": {
      "text/plain": [
       "(3, 3)"
      ]
     },
     "execution_count": 36,
     "metadata": {},
     "output_type": "execute_result"
    }
   ],
   "source": [
    "a.shape"
   ]
  },
  {
   "cell_type": "code",
   "execution_count": 43,
   "id": "5c63c028-0051-490a-a031-ec30118da0ca",
   "metadata": {},
   "outputs": [
    {
     "data": {
      "text/plain": [
       "<numpy.flatiter at 0x5cd43491a1d0>"
      ]
     },
     "execution_count": 43,
     "metadata": {},
     "output_type": "execute_result"
    }
   ],
   "source": [
    "a = a.flat\n",
    "a"
   ]
  },
  {
   "cell_type": "code",
   "execution_count": 46,
   "id": "fdee22f2-26a3-4cc6-bb0c-895d7efba1c7",
   "metadata": {},
   "outputs": [
    {
     "data": {
      "text/plain": [
       "array([ 0,  1,  2,  3,  4,  5,  6,  7,  8,  9, 10, 11, 12, 13, 14])"
      ]
     },
     "execution_count": 46,
     "metadata": {},
     "output_type": "execute_result"
    }
   ],
   "source": [
    "a = np.arange(15)\n",
    "a"
   ]
  },
  {
   "cell_type": "code",
   "execution_count": 47,
   "id": "05394188-4ce7-468f-9182-2ee30420346c",
   "metadata": {},
   "outputs": [
    {
     "data": {
      "text/plain": [
       "<numpy._core._internal._ctypes at 0x7ee440350190>"
      ]
     },
     "execution_count": 47,
     "metadata": {},
     "output_type": "execute_result"
    }
   ],
   "source": [
    "a.ctypes"
   ]
  },
  {
   "cell_type": "code",
   "execution_count": 55,
   "id": "862b26b2-007a-4b81-a797-a10d52545bef",
   "metadata": {},
   "outputs": [
    {
     "data": {
      "text/plain": [
       "array([ True,  True,  True, False, False, False, False, False, False,\n",
       "       False, False, False, False, False, False])"
      ]
     },
     "execution_count": 55,
     "metadata": {},
     "output_type": "execute_result"
    }
   ],
   "source": [
    "a.__lt__(3)"
   ]
  },
  {
   "cell_type": "code",
   "execution_count": 57,
   "id": "dbabf70c-1f60-4c31-b362-3134d31772d4",
   "metadata": {},
   "outputs": [
    {
     "data": {
      "text/plain": [
       "array([ True,  True,  True,  True, False, False, False, False, False,\n",
       "       False, False, False, False, False, False])"
      ]
     },
     "execution_count": 57,
     "metadata": {},
     "output_type": "execute_result"
    }
   ],
   "source": [
    "a.__le__(3)"
   ]
  },
  {
   "cell_type": "code",
   "execution_count": 58,
   "id": "b99f772a-3984-49a9-90a5-2169a66c2cfe",
   "metadata": {},
   "outputs": [
    {
     "data": {
      "text/plain": [
       "array([False, False, False, False, False,  True,  True,  True,  True,\n",
       "        True,  True,  True,  True,  True,  True])"
      ]
     },
     "execution_count": 58,
     "metadata": {},
     "output_type": "execute_result"
    }
   ],
   "source": [
    "a.__gt__(4)"
   ]
  },
  {
   "cell_type": "code",
   "execution_count": 60,
   "id": "b9d6bdbd-ad47-49bb-ad76-d7706eeffc1e",
   "metadata": {},
   "outputs": [
    {
     "data": {
      "text/plain": [
       "array([False, False, False, False,  True,  True,  True,  True,  True,\n",
       "        True,  True,  True,  True,  True,  True])"
      ]
     },
     "execution_count": 60,
     "metadata": {},
     "output_type": "execute_result"
    }
   ],
   "source": [
    "a.__ge__(4)"
   ]
  },
  {
   "cell_type": "code",
   "execution_count": 61,
   "id": "e53e2fac-a0db-4a37-8072-e8a1c4c8fada",
   "metadata": {},
   "outputs": [
    {
     "data": {
      "text/plain": [
       "array([0, 1, 2, 3, 4, 5, 6, 7, 8])"
      ]
     },
     "execution_count": 61,
     "metadata": {},
     "output_type": "execute_result"
    }
   ],
   "source": [
    "b = np.arange(9)\n",
    "b"
   ]
  },
  {
   "cell_type": "code",
   "execution_count": 63,
   "id": "e24c1460-f207-476d-adc8-e4970f755eb6",
   "metadata": {},
   "outputs": [
    {
     "data": {
      "text/plain": [
       "array([False, False, False, False, False,  True, False, False, False,\n",
       "       False, False, False, False, False, False])"
      ]
     },
     "execution_count": 63,
     "metadata": {},
     "output_type": "execute_result"
    }
   ],
   "source": [
    "a.__eq__(5)"
   ]
  },
  {
   "cell_type": "code",
   "execution_count": 64,
   "id": "781d01cb-bdb5-4bd6-a25d-dfa514a5bb78",
   "metadata": {},
   "outputs": [
    {
     "data": {
      "text/plain": [
       "array([ True,  True,  True,  True,  True, False,  True,  True,  True,\n",
       "        True,  True,  True,  True,  True,  True])"
      ]
     },
     "execution_count": 64,
     "metadata": {},
     "output_type": "execute_result"
    }
   ],
   "source": [
    "a.__ne__(5)"
   ]
  },
  {
   "cell_type": "code",
   "execution_count": 72,
   "id": "d0d0f175-301d-484a-a038-76110a36bd5c",
   "metadata": {},
   "outputs": [
    {
     "data": {
      "text/plain": [
       "array([ 0,  1,  2,  3,  4,  5,  6,  7,  8,  9, 10, 11, 12, 13, 14])"
      ]
     },
     "execution_count": 72,
     "metadata": {},
     "output_type": "execute_result"
    }
   ],
   "source": [
    "a.__abs__()"
   ]
  },
  {
   "cell_type": "markdown",
   "id": "462ab383-35f2-4045-9e66-b0bb79e0d46c",
   "metadata": {},
   "source": [
    "\n",
    "# 🔍 What is ndarray.__abs__(self)?\n",
    "In NumPy:\n",
    "\n",
    "   1. ndarray is the main array type.\n",
    "   2.  __abs__ is the magic method for the built-in abs() function.\n",
    "   3. So abs(a) is equivalent to a.__abs__() when a is a NumPy array.\n",
    "\n",
    "### ✅ Return Type:\n",
    "Returns a new ndarray with the absolute values.\n",
    "\n",
    "Works element-wise.\n",
    "\n"
   ]
  },
  {
   "cell_type": "markdown",
   "id": "9325b7d7-96ac-43ac-b945-2fd04f5f3f95",
   "metadata": {},
   "source": [
    "| Expression       | Effect          | Works On          |\n",
    "| ---------------- | --------------- | ----------------- |\n",
    "| `~a`             | Bitwise NOT     | Integers/Booleans |\n",
    "| `a.__invert__()` | Same as `~a`    | Integers/Booleans |\n",
    "| `~True → False`  | Inverts boolean | Booleans          |\n",
    "| `~5 → -6`        | `-5 - 1 = -6`   | Integers          |\n"
   ]
  },
  {
   "cell_type": "code",
   "execution_count": 73,
   "id": "882705e1-4c58-462d-bf0d-eed771fd5d79",
   "metadata": {},
   "outputs": [
    {
     "data": {
      "text/plain": [
       "array([ -1,  -2,  -3,  -4,  -5,  -6,  -7,  -8,  -9, -10, -11, -12, -13,\n",
       "       -14, -15])"
      ]
     },
     "execution_count": 73,
     "metadata": {},
     "output_type": "execute_result"
    }
   ],
   "source": [
    "~a"
   ]
  },
  {
   "cell_type": "code",
   "execution_count": 74,
   "id": "df65aafe-bc87-4335-9ac0-0f1a81ab3c05",
   "metadata": {},
   "outputs": [
    {
     "data": {
      "text/plain": [
       "array([ -1,  -2,  -3,  -4,  -5,  -6,  -7,  -8,  -9, -10, -11, -12, -13,\n",
       "       -14, -15])"
      ]
     },
     "execution_count": 74,
     "metadata": {},
     "output_type": "execute_result"
    }
   ],
   "source": [
    "a.__invert__()"
   ]
  },
  {
   "cell_type": "markdown",
   "id": "281f3660-c6d4-4fb9-a5ff-73d783c40f27",
   "metadata": {},
   "source": [
    "\n",
    "## The expression ndarray.__neg__(self) in NumPy corresponds to unary negation—that is, applying the minus (-) operator to each element of an array\n",
    "## 🔍 What Does ndarray.__neg__() Do?\n",
    "It implements the behavior of -a for a NumPy array a.\n",
    "\n",
    "Internally, -a is equivalent to a.__neg__().\n",
    "\n",
    "It returns a new array with all values negated (multiplied by -1).\n",
    "\n",
    "| Expression    | Meaning                    |\n",
    "| ------------- | -------------------------- |\n",
    "| `-a`          | Calls `a.__neg__()`        |\n",
    "| `a.__neg__()` | Returns `-1 * a`           |\n",
    "| Result Type   | Same shape, negated values |\n"
   ]
  },
  {
   "cell_type": "code",
   "execution_count": 78,
   "id": "c8e5767e-1666-4708-a4c0-ef40916f7639",
   "metadata": {},
   "outputs": [
    {
     "name": "stdout",
     "output_type": "stream",
     "text": [
      "[-1  2 -3]\n",
      "[-1  2 -3]\n"
     ]
    }
   ],
   "source": [
    "import numpy as np\n",
    "\n",
    "a = np.array([1, -2, 3])\n",
    "\n",
    "# Using the - operator\n",
    "print(-a)               # Output: [-1  2 -3]\n",
    "\n",
    "# Using __neg__ directly\n",
    "print(a.__neg__())      # Output: [-1  2 -3]"
   ]
  },
  {
   "cell_type": "markdown",
   "id": "e7928457-3df3-4f22-90a2-bc1fd0f37627",
   "metadata": {},
   "source": [
    "| Expression    | Meaning                 |\n",
    "| ------------- | ----------------------- |\n",
    "| `+a`          | Calls `a.__pos__()`     |\n",
    "| `a.__pos__()` | Returns array unchanged |\n",
    "| Result        | Same type and values    |\n"
   ]
  },
  {
   "cell_type": "code",
   "execution_count": 79,
   "id": "1dc9bafc-6a6a-4768-8661-d628fe81b767",
   "metadata": {},
   "outputs": [
    {
     "data": {
      "text/plain": [
       "array([6, 3, 8])"
      ]
     },
     "execution_count": 79,
     "metadata": {},
     "output_type": "execute_result"
    }
   ],
   "source": [
    "a.__add__(5)"
   ]
  },
  {
   "cell_type": "code",
   "execution_count": 80,
   "id": "dff4ad77-9521-484a-8605-afe1e5818421",
   "metadata": {},
   "outputs": [
    {
     "data": {
      "text/plain": [
       "array([ 1, -2,  3])"
      ]
     },
     "execution_count": 80,
     "metadata": {},
     "output_type": "execute_result"
    }
   ],
   "source": [
    "a"
   ]
  },
  {
   "cell_type": "code",
   "execution_count": 81,
   "id": "69c44c25-f6c9-4f7e-b3fc-485935563998",
   "metadata": {},
   "outputs": [
    {
     "data": {
      "text/plain": [
       "array([[0, 1, 2],\n",
       "       [3, 4, 5],\n",
       "       [6, 7, 8]])"
      ]
     },
     "execution_count": 81,
     "metadata": {},
     "output_type": "execute_result"
    }
   ],
   "source": [
    "b = np.arange(9).reshape(3,3)\n",
    "b"
   ]
  },
  {
   "cell_type": "code",
   "execution_count": 82,
   "id": "828ceb31-d393-4209-8e3c-1ddaf388d0c8",
   "metadata": {},
   "outputs": [
    {
     "data": {
      "text/plain": [
       "array([[ 3,  4,  5],\n",
       "       [ 6,  7,  8],\n",
       "       [ 9, 10, 11]])"
      ]
     },
     "execution_count": 82,
     "metadata": {},
     "output_type": "execute_result"
    }
   ],
   "source": [
    "b.__add__(3)"
   ]
  },
  {
   "cell_type": "code",
   "execution_count": 83,
   "id": "3cdd1a8b-20ea-4050-a850-46fc6353c0bf",
   "metadata": {},
   "outputs": [
    {
     "data": {
      "text/plain": [
       "array([-4, -7, -2])"
      ]
     },
     "execution_count": 83,
     "metadata": {},
     "output_type": "execute_result"
    }
   ],
   "source": [
    "a.__sub__(5)"
   ]
  },
  {
   "cell_type": "code",
   "execution_count": 85,
   "id": "2deedf21-8c71-4a76-92ed-c30d27297f6c",
   "metadata": {},
   "outputs": [],
   "source": [
    "c = a.__copy__()"
   ]
  },
  {
   "cell_type": "code",
   "execution_count": 86,
   "id": "bbc33a13-b830-409f-bd4c-e42bb33955a4",
   "metadata": {},
   "outputs": [
    {
     "data": {
      "text/plain": [
       "array([ 1, -2,  3])"
      ]
     },
     "execution_count": 86,
     "metadata": {},
     "output_type": "execute_result"
    }
   ],
   "source": [
    "c"
   ]
  },
  {
   "cell_type": "code",
   "execution_count": 87,
   "id": "0dd429ff-0e94-4c7f-93ed-6f8cfc7d3058",
   "metadata": {},
   "outputs": [
    {
     "data": {
      "text/plain": [
       "array([0, 1, 2, 3, 4, 5, 6, 7, 8, 9])"
      ]
     },
     "execution_count": 87,
     "metadata": {},
     "output_type": "execute_result"
    }
   ],
   "source": [
    "a = np.arange(10)\n",
    "a"
   ]
  },
  {
   "cell_type": "code",
   "execution_count": 88,
   "id": "ff90f84b-8e4d-41ee-91f1-6a384a6a322a",
   "metadata": {},
   "outputs": [
    {
     "data": {
      "text/plain": [
       "(<function numpy._core.multiarray._reconstruct>,\n",
       " (numpy.ndarray, (0,), b'b'),\n",
       " (1,\n",
       "  (10,),\n",
       "  dtype('int64'),\n",
       "  False,\n",
       "  b'\\x00\\x00\\x00\\x00\\x00\\x00\\x00\\x00\\x01\\x00\\x00\\x00\\x00\\x00\\x00\\x00\\x02\\x00\\x00\\x00\\x00\\x00\\x00\\x00\\x03\\x00\\x00\\x00\\x00\\x00\\x00\\x00\\x04\\x00\\x00\\x00\\x00\\x00\\x00\\x00\\x05\\x00\\x00\\x00\\x00\\x00\\x00\\x00\\x06\\x00\\x00\\x00\\x00\\x00\\x00\\x00\\x07\\x00\\x00\\x00\\x00\\x00\\x00\\x00\\x08\\x00\\x00\\x00\\x00\\x00\\x00\\x00\\t\\x00\\x00\\x00\\x00\\x00\\x00\\x00'))"
      ]
     },
     "execution_count": 88,
     "metadata": {},
     "output_type": "execute_result"
    }
   ],
   "source": [
    "a.__reduce__()"
   ]
  },
  {
   "cell_type": "code",
   "execution_count": null,
   "id": "938f965e-6d2f-4e3b-a99d-34aeeeb31c50",
   "metadata": {},
   "outputs": [],
   "source": []
  }
 ],
 "metadata": {
  "kernelspec": {
   "display_name": "Python 3 (ipykernel)",
   "language": "python",
   "name": "python3"
  },
  "language_info": {
   "codemirror_mode": {
    "name": "ipython",
    "version": 3
   },
   "file_extension": ".py",
   "mimetype": "text/x-python",
   "name": "python",
   "nbconvert_exporter": "python",
   "pygments_lexer": "ipython3",
   "version": "3.10.12"
  }
 },
 "nbformat": 4,
 "nbformat_minor": 5
}
