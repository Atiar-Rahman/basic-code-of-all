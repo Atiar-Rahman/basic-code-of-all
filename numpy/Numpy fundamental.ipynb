{
 "cells": [
  {
   "cell_type": "markdown",
   "id": "7847c26f-0aa2-489b-84dd-a76276877bf0",
   "metadata": {},
   "source": [
    "# Numpy fundamental"
   ]
  },
  {
   "cell_type": "markdown",
   "id": "51e94389-dde5-4548-ac58-ec68ccea3619",
   "metadata": {},
   "source": [
    "1. Array creation\n",
    "2. indexing on ndarrays\n",
    "3. i/o with numpy array\n",
    "4. data types\n",
    "5. broadcasting\n",
    "6. copies and views\n",
    "7. working with arrays of string and bytes\n",
    "8. structured arrays\n",
    "9. Universal functions basics"
   ]
  },
  {
   "cell_type": "markdown",
   "id": "097fc62c-554d-4a5d-a1ce-aa01bd5b2dda",
   "metadata": {},
   "source": [
    "there are 6 machanisms for creating arrays\n",
    "1. conversion from other python structure\n",
    "2. intrinsic numpy array creation functions(arange,ones,zeros)\n",
    "3. Replicating, joining, or mutating existing arrays\n",
    "4. Reading arrays from disk, either from standard or custom formats6\n",
    "5. Creating arrays from raw bytes through the use of strings or buffers\n",
    "6. Use of special library functions (e.g., random)"
   ]
  },
  {
   "cell_type": "code",
   "execution_count": 1,
   "id": "3f8e58cd-9af4-4a27-8bc7-012e5451e999",
   "metadata": {},
   "outputs": [],
   "source": [
    "import numpy as np\n",
    "a1d = np.array([1,2,3,4,5])\n",
    "a2d = np.array([[1,2],[3,4]])\n",
    "a3d = np.array([[[1,2,3],[4,5,6]]])"
   ]
  },
  {
   "cell_type": "code",
   "execution_count": 2,
   "id": "8192df12-2bf6-48d4-9816-8cc3f5433c18",
   "metadata": {},
   "outputs": [
    {
     "data": {
      "text/plain": [
       "array([0, 1, 2, 3, 4, 5, 6, 7, 8, 9])"
      ]
     },
     "execution_count": 2,
     "metadata": {},
     "output_type": "execute_result"
    }
   ],
   "source": [
    "arr = np.arange(10)\n",
    "arr"
   ]
  },
  {
   "cell_type": "code",
   "execution_count": 3,
   "id": "87509d81-46ab-41c4-91c2-ec01c46d7106",
   "metadata": {},
   "outputs": [
    {
     "data": {
      "text/plain": [
       "array([0., 1., 2., 3., 4., 5., 6., 7., 8., 9.])"
      ]
     },
     "execution_count": 3,
     "metadata": {},
     "output_type": "execute_result"
    }
   ],
   "source": [
    "np.arange(10,dtype = 'float')"
   ]
  },
  {
   "cell_type": "markdown",
   "id": "84072894-10f8-4a8b-9947-a7c4e6543caa",
   "metadata": {},
   "source": [
    "## np.arange(start,end,step)"
   ]
  },
  {
   "cell_type": "code",
   "execution_count": 4,
   "id": "ec20a81f-1c19-4d27-a3d0-0adf4f97c408",
   "metadata": {},
   "outputs": [
    {
     "data": {
      "text/plain": [
       "array([1. , 1.6, 2.2, 2.8, 3.4, 4. ])"
      ]
     },
     "execution_count": 4,
     "metadata": {},
     "output_type": "execute_result"
    }
   ],
   "source": [
    "np.linspace(1., 4., 6)"
   ]
  },
  {
   "cell_type": "markdown",
   "id": "5df847d2-087e-4c57-81bd-709cbf9f4f5e",
   "metadata": {},
   "source": [
    "numpy.linspace will create arrays with a specified number of elements, and spaced equally between the specified beginning and end values. For example:"
   ]
  },
  {
   "cell_type": "markdown",
   "id": "f0925ea9-a8cf-4ae9-bd21-df668e498fd4",
   "metadata": {},
   "source": [
    "# 2d array creation function\n",
    "### The 2D array creation functions e.g.\n",
    "     - numpy.eye,\n",
    "     - numpy.diag, and\n",
    "     - numpy.vander\n",
    "define properties of special matrices represented as 2D arrays."
   ]
  },
  {
   "cell_type": "code",
   "execution_count": 6,
   "id": "a9c97c33-91e1-4459-9433-8fe68467133f",
   "metadata": {},
   "outputs": [
    {
     "data": {
      "text/plain": [
       "array([[1., 0., 0.],\n",
       "       [0., 1., 0.],\n",
       "       [0., 0., 1.]])"
      ]
     },
     "execution_count": 6,
     "metadata": {},
     "output_type": "execute_result"
    }
   ],
   "source": [
    "np.eye(3)"
   ]
  },
  {
   "cell_type": "code",
   "execution_count": 7,
   "id": "eba83667-fdf0-4d3f-b49b-422a9fc75977",
   "metadata": {},
   "outputs": [
    {
     "data": {
      "text/plain": [
       "array([[1., 0., 0., 0., 0.],\n",
       "       [0., 1., 0., 0., 0.],\n",
       "       [0., 0., 1., 0., 0.]])"
      ]
     },
     "execution_count": 7,
     "metadata": {},
     "output_type": "execute_result"
    }
   ],
   "source": [
    "np.eye(3,5)"
   ]
  },
  {
   "cell_type": "code",
   "execution_count": 8,
   "id": "d5a3990a-9748-4a38-82e6-88ee630b896c",
   "metadata": {},
   "outputs": [
    {
     "data": {
      "text/plain": [
       "array([[1, 0],\n",
       "       [0, 4]])"
      ]
     },
     "execution_count": 8,
     "metadata": {},
     "output_type": "execute_result"
    }
   ],
   "source": [
    "np.diag([1,4])"
   ]
  },
  {
   "cell_type": "code",
   "execution_count": 9,
   "id": "3eb243a5-1ad4-4cbb-88d7-264ab8eb6307",
   "metadata": {},
   "outputs": [
    {
     "data": {
      "text/plain": [
       "array([[1, 0, 0, 0],\n",
       "       [0, 2, 0, 0],\n",
       "       [0, 0, 3, 0],\n",
       "       [0, 0, 0, 4]])"
      ]
     },
     "execution_count": 9,
     "metadata": {},
     "output_type": "execute_result"
    }
   ],
   "source": [
    "np.diag([1,2,3,4])"
   ]
  },
  {
   "cell_type": "markdown",
   "id": "b2cc222e-0a0b-45f4-8b46-f5546ba9a383",
   "metadata": {},
   "source": [
    "# general ndarray creation functions\n",
    "### The ndarray creation functions e.g.\n",
    "    - numpy.ones,\n",
    "    - numpy.zeros, and\n",
    "    - random\n",
    "define arrays based upon the desired shape. The ndarray creation functions can create arrays with any dimension by specifying how many dimensions and length along that dimension in a tuple or list."
   ]
  },
  {
   "cell_type": "code",
   "execution_count": 11,
   "id": "35d7f482-6988-4f9d-8626-b193a3b79a40",
   "metadata": {},
   "outputs": [
    {
     "data": {
      "text/plain": [
       "array([[0., 0.]])"
      ]
     },
     "execution_count": 11,
     "metadata": {},
     "output_type": "execute_result"
    }
   ],
   "source": [
    "np.zeros((1,2))"
   ]
  },
  {
   "cell_type": "code",
   "execution_count": 13,
   "id": "d48c2ea8-17e4-4bf3-a3d3-b38794bfe8a3",
   "metadata": {},
   "outputs": [
    {
     "data": {
      "text/plain": [
       "array([[0., 0., 0.],\n",
       "       [0., 0., 0.]])"
      ]
     },
     "execution_count": 13,
     "metadata": {},
     "output_type": "execute_result"
    }
   ],
   "source": [
    "np.zeros((2,3))"
   ]
  },
  {
   "cell_type": "code",
   "execution_count": 14,
   "id": "5b86d49c-94c7-4926-bfa7-38e0fa3f5759",
   "metadata": {},
   "outputs": [
    {
     "data": {
      "text/plain": [
       "array([[1., 1., 1., 1.],\n",
       "       [1., 1., 1., 1.]])"
      ]
     },
     "execution_count": 14,
     "metadata": {},
     "output_type": "execute_result"
    }
   ],
   "source": [
    "np.ones((2,4))"
   ]
  },
  {
   "cell_type": "code",
   "execution_count": 15,
   "id": "b1e367ae-07c7-40c3-9ebf-22cfc3de0a74",
   "metadata": {},
   "outputs": [],
   "source": [
    "from numpy.random import default_rng"
   ]
  },
  {
   "cell_type": "code",
   "execution_count": 16,
   "id": "7761ebc8-a8e3-465a-9634-1f333b2f08d2",
   "metadata": {},
   "outputs": [
    {
     "data": {
      "text/plain": [
       "array([[0.26161213, 0.29849114, 0.81422574, 0.09191594],\n",
       "       [0.60010053, 0.72856053, 0.18790107, 0.05514663]])"
      ]
     },
     "execution_count": 16,
     "metadata": {},
     "output_type": "execute_result"
    }
   ],
   "source": [
    "default_rng(2).random((2,4))"
   ]
  },
  {
   "cell_type": "code",
   "execution_count": 19,
   "id": "09b30f7c-8a69-4669-a456-09189be6b39f",
   "metadata": {},
   "outputs": [
    {
     "data": {
      "text/plain": [
       "array([[[0, 0, 0],\n",
       "        [1, 1, 1],\n",
       "        [2, 2, 2]],\n",
       "\n",
       "       [[0, 1, 2],\n",
       "        [0, 1, 2],\n",
       "        [0, 1, 2]]])"
      ]
     },
     "execution_count": 19,
     "metadata": {},
     "output_type": "execute_result"
    }
   ],
   "source": [
    "np.indices((3,3))"
   ]
  },
  {
   "cell_type": "markdown",
   "id": "21a98b8b-9b82-4827-9b58-8dc1a106fa18",
   "metadata": {},
   "source": [
    "# Replicating, joining, or mutating existing arrays"
   ]
  },
  {
   "cell_type": "code",
   "execution_count": 20,
   "id": "e1d4da29-7c32-4ff0-8439-7fc4fec638ad",
   "metadata": {},
   "outputs": [],
   "source": [
    "arr = np.array([1,2,3,4,5,6])\n",
    "b = arr[:2]\n",
    "b+=1"
   ]
  },
  {
   "cell_type": "code",
   "execution_count": 22,
   "id": "58f305cd-75cd-41c4-9873-5bfba58aa0f9",
   "metadata": {},
   "outputs": [
    {
     "name": "stdout",
     "output_type": "stream",
     "text": [
      "[2 3 3 4 5 6] [2 3]\n"
     ]
    }
   ],
   "source": [
    "print(arr,b)"
   ]
  },
  {
   "cell_type": "code",
   "execution_count": null,
   "id": "ca4b05cc-beb9-4769-8a20-bed886e3aade",
   "metadata": {},
   "outputs": [],
   "source": []
  }
 ],
 "metadata": {
  "kernelspec": {
   "display_name": "Python 3 (ipykernel)",
   "language": "python",
   "name": "python3"
  },
  "language_info": {
   "codemirror_mode": {
    "name": "ipython",
    "version": 3
   },
   "file_extension": ".py",
   "mimetype": "text/x-python",
   "name": "python",
   "nbconvert_exporter": "python",
   "pygments_lexer": "ipython3",
   "version": "3.10.12"
  }
 },
 "nbformat": 4,
 "nbformat_minor": 5
}
