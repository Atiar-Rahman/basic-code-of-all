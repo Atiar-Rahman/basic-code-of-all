{
 "cells": [
  {
   "cell_type": "code",
   "execution_count": null,
   "id": "f7ec96c5-69ac-4a3f-aa53-3cc7441a96a1",
   "metadata": {},
   "outputs": [],
   "source": [
    "from fpdf import FPDF\n",
    "\n",
    "# Create PDF\n",
    "pdf = FPDF()\n",
    "pdf.add_page()\n",
    "pdf.set_font(\"Arial\", size=12)\n",
    "\n",
    "# Title\n",
    "pdf.set_font(\"Arial\", style=\"B\", size=14)\n",
    "pdf.cell(200, 10, txt=\"Linux Commands for SSD/HDD Performance Testing\", ln=True, align=\"C\")\n",
    "pdf.ln(10)\n",
    "\n",
    "# Commands content\n",
    "pdf.set_font(\"Arial\", size=12)\n",
    "\n",
    "commands = [\n",
    "    (\"1. Drop caches before testing (recommended):\", \n",
    "     \"sync; echo 3 | sudo tee /proc/sys/vm/drop_caches\"),\n",
    "    \n",
    "    (\"2. Test Write Speed (sequential write using dd):\",\n",
    "     \"time dd if=/dev/zero of=tempfile bs=1G count=1 oflag=direct\"),\n",
    "    \n",
    "    (\"3. Test Read Speed (sequential read using dd):\",\n",
    "     \"time dd if=tempfile of=/dev/null bs=1G count=1 iflag=direct\"),\n",
    "    \n",
    "    (\"4. Delete tempfile after test:\", \n",
    "     \"rm tempfile\"),\n",
    "    \n",
    "    (\"5. Install hdparm (if not installed):\",\n",
    "     \"sudo apt update && sudo apt install hdparm\"),\n",
    "    \n",
    "    (\"6. Test read speed using hdparm (replace with your device):\",\n",
    "     \"sudo hdparm -Tt /dev/sda\"),\n",
    "    \n",
    "    (\"7. Install fio for advanced testing:\",\n",
    "     \"sudo apt install fio\"),\n",
    "    \n",
    "    (\"8. Run basic read/write benchmark with fio:\",\n",
    "     \"fio --name=benchmark --size=512M --rw=readwrite --bs=4k --direct=1 --numjobs=1 --runtime=60 --group_reporting\"),\n",
    "    \n",
    "    (\"9. Check SSD health with smartctl (replace device):\",\n",
    "     \"sudo apt install smartmontools\\nsudo smartctl -a /dev/nvme0n1\"),\n",
    "    \n",
    "    (\"10. File system check (run from Live USB if needed):\",\n",
    "     \"sudo fsck -f /dev/nvme0n1p3\")\n",
    "]\n",
    "\n",
    "for title, cmd in commands:\n",
    "    pdf.set_font(\"Arial\", style=\"B\", size=12)\n",
    "    pdf.cell(200, 10, txt=title, ln=True)\n",
    "    pdf.set_font(\"Courier\", size=11)\n",
    "    for line in cmd.split(\"\\n\"):\n",
    "        pdf.multi_cell(0, 8, txt=line)\n",
    "    pdf.ln(2)\n",
    "\n",
    "# Save the PDF\n",
    "pdf.output(\"SSD_HDD_Performance_Test_Commands.pdf\")\n"
   ]
  },
  {
   "cell_type": "code",
   "execution_count": null,
   "id": "d2961be0-dfff-456d-b531-625f54f51716",
   "metadata": {},
   "outputs": [
    {
     "name": "stdout",
     "output_type": "stream",
     "text": [
      "Defaulting to user installation because normal site-packages is not writeable\n"
     ]
    }
   ],
   "source": [
    "!pip3 install fpdf\n"
   ]
  },
  {
   "cell_type": "code",
   "execution_count": null,
   "id": "6b7f7fa6-9e56-44a9-b593-2439db3cdc42",
   "metadata": {},
   "outputs": [],
   "source": []
  }
 ],
 "metadata": {
  "kernelspec": {
   "display_name": "Python 3 (ipykernel)",
   "language": "python",
   "name": "python3"
  },
  "language_info": {
   "codemirror_mode": {
    "name": "ipython",
    "version": 3
   },
   "file_extension": ".py",
   "mimetype": "text/x-python",
   "name": "python",
   "nbconvert_exporter": "python",
   "pygments_lexer": "ipython3",
   "version": "3.10.12"
  }
 },
 "nbformat": 4,
 "nbformat_minor": 5
}
