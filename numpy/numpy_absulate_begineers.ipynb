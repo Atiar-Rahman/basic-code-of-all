{
 "cells": [
  {
   "cell_type": "markdown",
   "id": "a929d4c7-f1b1-46f7-8250-f88afc82f539",
   "metadata": {},
   "source": [
    "# Generating random numbers"
   ]
  },
  {
   "cell_type": "code",
   "execution_count": 4,
   "id": "bbc1ffb3-de5d-4c99-b5ad-dc3d04896ddd",
   "metadata": {},
   "outputs": [
    {
     "data": {
      "text/plain": [
       "0.005590491828583288"
      ]
     },
     "execution_count": 4,
     "metadata": {},
     "output_type": "execute_result"
    }
   ],
   "source": [
    "import numpy as np\n",
    "rng = np.random.default_rng()\n",
    "rng.random()"
   ]
  },
  {
   "cell_type": "code",
   "execution_count": 5,
   "id": "39f605e4-a429-409f-bf19-9b8215256e97",
   "metadata": {},
   "outputs": [
    {
     "data": {
      "text/plain": [
       "array([ 0.81395523,  0.35300918, -0.98214848, -0.82137175,  1.24804616,\n",
       "       -1.00318403,  1.13485384,  0.66926288,  0.49628594,  0.31620756])"
      ]
     },
     "execution_count": 5,
     "metadata": {},
     "output_type": "execute_result"
    }
   ],
   "source": [
    "rng.standard_normal(10)"
   ]
  },
  {
   "cell_type": "code",
   "execution_count": 11,
   "id": "3cd71cc0-d0ff-4cc0-bae1-8d8d9fba2aa2",
   "metadata": {},
   "outputs": [
    {
     "data": {
      "text/plain": [
       "array([2, 8, 0, 3, 1])"
      ]
     },
     "execution_count": 11,
     "metadata": {},
     "output_type": "execute_result"
    }
   ],
   "source": [
    "rng.integers(low=0,high=10,size=5)"
   ]
  },
  {
   "cell_type": "code",
   "execution_count": 12,
   "id": "55ac28bb-9dd7-4b5f-bde0-2120f6b2c717",
   "metadata": {},
   "outputs": [],
   "source": [
    "import secrets"
   ]
  },
  {
   "cell_type": "code",
   "execution_count": 13,
   "id": "70c8803c-7d5b-49da-b328-c89198ade5ae",
   "metadata": {},
   "outputs": [
    {
     "data": {
      "text/plain": [
       "209012968128244523675591289517988438766"
      ]
     },
     "execution_count": 13,
     "metadata": {},
     "output_type": "execute_result"
    }
   ],
   "source": [
    "secrets.randbits(128)"
   ]
  },
  {
   "cell_type": "markdown",
   "id": "e0b469ac-7cd7-46e4-884d-4fc1b329c017",
   "metadata": {},
   "source": [
    "# how to unique items and counts"
   ]
  },
  {
   "cell_type": "code",
   "execution_count": 14,
   "id": "085a35fc-ba5a-4ec5-86b8-060bb23d4cf0",
   "metadata": {},
   "outputs": [
    {
     "name": "stdout",
     "output_type": "stream",
     "text": [
      "[11 12 13 14 15 16 17 18 19 20]\n"
     ]
    }
   ],
   "source": [
    "a = np.array([11, 11, 12, 13, 14, 15, 16, 17, 12, 13, 11, 14, 18, 19, 20])\n",
    "print(np.unique(a))"
   ]
  },
  {
   "cell_type": "code",
   "execution_count": 15,
   "id": "d99a1fc3-d292-47c1-af35-6cb80b322992",
   "metadata": {},
   "outputs": [
    {
     "data": {
      "text/plain": [
       "(array([11, 12, 13, 14, 15, 16, 17, 18, 19, 20]),\n",
       " array([ 0,  2,  3,  4,  5,  6,  7, 12, 13, 14]))"
      ]
     },
     "execution_count": 15,
     "metadata": {},
     "output_type": "execute_result"
    }
   ],
   "source": [
    "np.unique(a,return_index=True)"
   ]
  },
  {
   "cell_type": "code",
   "execution_count": 19,
   "id": "d88e5393-9176-4b3a-a859-b7b6b85133d5",
   "metadata": {},
   "outputs": [
    {
     "name": "stdout",
     "output_type": "stream",
     "text": [
      "[11 12 13 14 15 16 17 18 19 20] [3 2 2 2 1 1 1 1 1 1]\n"
     ]
    }
   ],
   "source": [
    "unique_values,counts = np.unique(a,return_counts=True)\n",
    "print(unique_values,counts)"
   ]
  },
  {
   "cell_type": "code",
   "execution_count": 21,
   "id": "3476eb1a-f23e-4c4c-906d-015a46a37707",
   "metadata": {},
   "outputs": [
    {
     "data": {
      "text/plain": [
       "array([ 1,  2,  3,  4,  5,  6,  7,  8,  9, 10, 11, 12])"
      ]
     },
     "execution_count": 21,
     "metadata": {},
     "output_type": "execute_result"
    }
   ],
   "source": [
    "a_2d = np.array([[1, 2, 3, 4], [5, 6, 7, 8], [9, 10, 11, 12], [1, 2, 3, 4]])\n",
    "unique_values = np.unique(a_2d)\n",
    "unique_values"
   ]
  },
  {
   "cell_type": "code",
   "execution_count": 22,
   "id": "e38782ff-851f-44bc-ba34-6378242c9cf9",
   "metadata": {},
   "outputs": [
    {
     "data": {
      "text/plain": [
       "array([[ 1,  2,  3,  4],\n",
       "       [ 5,  6,  7,  8],\n",
       "       [ 9, 10, 11, 12]])"
      ]
     },
     "execution_count": 22,
     "metadata": {},
     "output_type": "execute_result"
    }
   ],
   "source": [
    "unique_rows = np.unique(a_2d,axis=0)\n",
    "unique_rows"
   ]
  },
  {
   "cell_type": "code",
   "execution_count": 27,
   "id": "941d6096-5dc5-4d4c-83e1-18f1f9c9f260",
   "metadata": {},
   "outputs": [
    {
     "data": {
      "text/plain": [
       "array([[ 1,  2,  3,  4],\n",
       "       [ 5,  6,  7,  8],\n",
       "       [ 9, 10, 11, 12]])"
      ]
     },
     "execution_count": 27,
     "metadata": {},
     "output_type": "execute_result"
    }
   ],
   "source": [
    "unique_values,index,count = np.unique(a_2d,axis=0,return_counts=True,return_index=True)\n",
    "unique_values"
   ]
  },
  {
   "cell_type": "code",
   "execution_count": 28,
   "id": "e78a957e-6159-480d-990f-2ff29bc86957",
   "metadata": {},
   "outputs": [
    {
     "data": {
      "text/plain": [
       "array([2, 1, 1])"
      ]
     },
     "execution_count": 28,
     "metadata": {},
     "output_type": "execute_result"
    }
   ],
   "source": [
    "count"
   ]
  },
  {
   "cell_type": "code",
   "execution_count": 29,
   "id": "fe3236af-e8aa-4f44-87d7-eae6cfba8204",
   "metadata": {},
   "outputs": [
    {
     "data": {
      "text/plain": [
       "array([0, 1, 2])"
      ]
     },
     "execution_count": 29,
     "metadata": {},
     "output_type": "execute_result"
    }
   ],
   "source": [
    "index"
   ]
  },
  {
   "cell_type": "markdown",
   "id": "29fbb390-9c15-446d-9bff-e7f6316b29e3",
   "metadata": {},
   "source": [
    "# Trainsposing and reshaping a matrix"
   ]
  },
  {
   "cell_type": "markdown",
   "id": "69600b99-6b91-41fa-88cc-83da1e9fcea9",
   "metadata": {},
   "source": [
    "### this section covers \n",
    "        - arr.reshape()\n",
    "        - arr.transpose()\n",
    "        - arr.T"
   ]
  },
  {
   "cell_type": "code",
   "execution_count": 31,
   "id": "91ec356d-7ee5-4be8-9860-cb198303c277",
   "metadata": {},
   "outputs": [
    {
     "data": {
      "text/plain": [
       "array([[1, 2, 3, 4],\n",
       "       [5, 6, 7, 8]])"
      ]
     },
     "execution_count": 31,
     "metadata": {},
     "output_type": "execute_result"
    }
   ],
   "source": [
    "data = np.array([1,2,3,4,5,6,7,8])\n",
    "data.reshape(2,4)"
   ]
  },
  {
   "cell_type": "code",
   "execution_count": 32,
   "id": "b7113438-6fb1-4b91-be96-b5450297ba3b",
   "metadata": {},
   "outputs": [
    {
     "data": {
      "text/plain": [
       "array([[1, 2],\n",
       "       [3, 4],\n",
       "       [5, 6],\n",
       "       [7, 8]])"
      ]
     },
     "execution_count": 32,
     "metadata": {},
     "output_type": "execute_result"
    }
   ],
   "source": [
    "data.reshape(4,2)"
   ]
  },
  {
   "cell_type": "code",
   "execution_count": 35,
   "id": "6f9c007b-1076-45f4-96c0-b88cf2526d68",
   "metadata": {},
   "outputs": [
    {
     "data": {
      "text/plain": [
       "array([[0, 1, 2],\n",
       "       [3, 4, 5]])"
      ]
     },
     "execution_count": 35,
     "metadata": {},
     "output_type": "execute_result"
    }
   ],
   "source": [
    "arr = np.arange(6).reshape(2,3)\n",
    "arr"
   ]
  },
  {
   "cell_type": "code",
   "execution_count": 36,
   "id": "c162fac5-3699-4eaa-be4f-85f6f5963fdc",
   "metadata": {},
   "outputs": [
    {
     "data": {
      "text/plain": [
       "array([[0, 3],\n",
       "       [1, 4],\n",
       "       [2, 5]])"
      ]
     },
     "execution_count": 36,
     "metadata": {},
     "output_type": "execute_result"
    }
   ],
   "source": [
    "arr.transpose()"
   ]
  },
  {
   "cell_type": "code",
   "execution_count": 39,
   "id": "50030b74-8fe2-4845-b358-bc26002edb46",
   "metadata": {},
   "outputs": [
    {
     "data": {
      "text/plain": [
       "array([[0, 3],\n",
       "       [1, 4],\n",
       "       [2, 5]])"
      ]
     },
     "execution_count": 39,
     "metadata": {},
     "output_type": "execute_result"
    }
   ],
   "source": [
    "arr.T"
   ]
  },
  {
   "cell_type": "markdown",
   "id": "7a507326-a747-461a-95a8-ee977c4e8dfc",
   "metadata": {},
   "source": [
    "# How to reverse an array"
   ]
  },
  {
   "cell_type": "markdown",
   "id": "1264376d-177b-4996-860e-c7fb58d43abd",
   "metadata": {},
   "source": [
    "### this section covers\n",
    "        - np.flip()"
   ]
  },
  {
   "cell_type": "code",
   "execution_count": 40,
   "id": "301d5293-a6f0-43f8-81f7-f362c8f9fc4d",
   "metadata": {},
   "outputs": [
    {
     "data": {
      "text/plain": [
       "array([0, 1, 2, 3, 4, 5, 6, 7, 8, 9])"
      ]
     },
     "execution_count": 40,
     "metadata": {},
     "output_type": "execute_result"
    }
   ],
   "source": [
    "arr = np.arange(10)\n",
    "arr"
   ]
  },
  {
   "cell_type": "code",
   "execution_count": 41,
   "id": "33488eca-2b0e-414d-ae31-74fab22e5577",
   "metadata": {},
   "outputs": [
    {
     "data": {
      "text/plain": [
       "array([9, 8, 7, 6, 5, 4, 3, 2, 1, 0])"
      ]
     },
     "execution_count": 41,
     "metadata": {},
     "output_type": "execute_result"
    }
   ],
   "source": [
    "rev_arr = np.flip(arr)\n",
    "rev_arr"
   ]
  },
  {
   "cell_type": "code",
   "execution_count": 43,
   "id": "f0bbb9df-344d-42c0-8fa0-48d248c6b08e",
   "metadata": {},
   "outputs": [
    {
     "data": {
      "text/plain": [
       "array([[ 0,  1,  2,  3],\n",
       "       [ 4,  5,  6,  7],\n",
       "       [ 8,  9, 10, 11]])"
      ]
     },
     "execution_count": 43,
     "metadata": {},
     "output_type": "execute_result"
    }
   ],
   "source": [
    "arr_2d = np.arange(12).reshape(3,4)\n",
    "arr_2d"
   ]
  },
  {
   "cell_type": "code",
   "execution_count": 44,
   "id": "a22c8a88-3f41-4715-bb0b-111d2e425c0e",
   "metadata": {},
   "outputs": [
    {
     "data": {
      "text/plain": [
       "array([[11, 10,  9,  8],\n",
       "       [ 7,  6,  5,  4],\n",
       "       [ 3,  2,  1,  0]])"
      ]
     },
     "execution_count": 44,
     "metadata": {},
     "output_type": "execute_result"
    }
   ],
   "source": [
    "arr_2d_rev = np.flip(arr_2d)\n",
    "arr_2d_rev"
   ]
  },
  {
   "cell_type": "markdown",
   "id": "a959f117-7b68-451a-839e-a1ebba910161",
   "metadata": {},
   "source": [
    "### reverse only columns"
   ]
  },
  {
   "cell_type": "code",
   "execution_count": 45,
   "id": "9ec70d9a-d693-49b5-a097-706a1928c500",
   "metadata": {},
   "outputs": [
    {
     "data": {
      "text/plain": [
       "array([[ 3,  2,  1,  0],\n",
       "       [ 7,  6,  5,  4],\n",
       "       [11, 10,  9,  8]])"
      ]
     },
     "execution_count": 45,
     "metadata": {},
     "output_type": "execute_result"
    }
   ],
   "source": [
    "rev_col = np.flip(arr_2d, axis=1)\n",
    "rev_col"
   ]
  },
  {
   "cell_type": "code",
   "execution_count": 47,
   "id": "342d4640-5c71-4c73-93ce-29ea09701c1d",
   "metadata": {},
   "outputs": [
    {
     "data": {
      "text/plain": [
       "array([[ 0,  1,  2,  3],\n",
       "       [ 7,  6,  5,  4],\n",
       "       [ 8,  9, 10, 11]])"
      ]
     },
     "execution_count": 47,
     "metadata": {},
     "output_type": "execute_result"
    }
   ],
   "source": [
    "arr_2d[1] = np.flip(arr_2d[1])\n",
    "arr_2d"
   ]
  },
  {
   "cell_type": "markdown",
   "id": "66e8f241-35e2-405b-892d-ce61d509eda9",
   "metadata": {},
   "source": [
    "### you can also reverse the column at index position 1(the second column)"
   ]
  },
  {
   "cell_type": "code",
   "execution_count": 48,
   "id": "2e540022-b3cf-4926-bc4a-39cd42cdcb49",
   "metadata": {},
   "outputs": [
    {
     "data": {
      "text/plain": [
       "array([[ 0,  9,  2,  3],\n",
       "       [ 7,  6,  5,  4],\n",
       "       [ 8,  1, 10, 11]])"
      ]
     },
     "execution_count": 48,
     "metadata": {},
     "output_type": "execute_result"
    }
   ],
   "source": [
    "arr_2d[:,1] = np.flip(arr_2d[:,1])\n",
    "arr_2d"
   ]
  },
  {
   "cell_type": "code",
   "execution_count": null,
   "id": "f1697fd8-20b4-4a67-8dae-b6b37d701620",
   "metadata": {},
   "outputs": [],
   "source": []
  }
 ],
 "metadata": {
  "kernelspec": {
   "display_name": "Python 3 (ipykernel)",
   "language": "python",
   "name": "python3"
  },
  "language_info": {
   "codemirror_mode": {
    "name": "ipython",
    "version": 3
   },
   "file_extension": ".py",
   "mimetype": "text/x-python",
   "name": "python",
   "nbconvert_exporter": "python",
   "pygments_lexer": "ipython3",
   "version": "3.10.12"
  }
 },
 "nbformat": 4,
 "nbformat_minor": 5
}
