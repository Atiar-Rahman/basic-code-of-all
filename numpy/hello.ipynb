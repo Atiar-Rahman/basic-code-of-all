{
 "cells": [
  {
   "cell_type": "code",
   "execution_count": 1,
   "id": "f471d397",
   "metadata": {},
   "outputs": [
    {
     "name": "stdout",
     "output_type": "stream",
     "text": [
      "45\n"
     ]
    }
   ],
   "source": [
    "import numpy as np\n",
    "arr = np.array([1,2,3,4,5,6,7,8,9])\n",
    "print(np.sum(arr))"
   ]
  }
 ],
 "metadata": {
  "kernelspec": {
   "display_name": "Python (ana_env)",
   "language": "python",
   "name": "ana_env"
  },
  "language_info": {
   "name": "python",
   "version": "3.10.12"
  }
 },
 "nbformat": 4,
 "nbformat_minor": 5
}
