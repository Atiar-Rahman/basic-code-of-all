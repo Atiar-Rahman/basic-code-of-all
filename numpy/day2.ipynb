{
 "cells": [
  {
   "cell_type": "markdown",
   "id": "23aeabf2-30cb-4ec2-9188-13a1c60f0fa2",
   "metadata": {},
   "source": [
    "### Array creation"
   ]
  },
  {
   "cell_type": "code",
   "execution_count": 1,
   "id": "4819bd1b-0e02-4991-bdec-a2521c49b528",
   "metadata": {},
   "outputs": [],
   "source": [
    "import numpy as np\n",
    "\n",
    "# basic array\n",
    "a = np.array([1,2,3,4,5])\n",
    "b = np.array([[1,2,3],[1,2,3]])"
   ]
  },
  {
   "cell_type": "code",
   "execution_count": 2,
   "id": "f2382b3d-13b4-4c43-b302-cab03ded73d1",
   "metadata": {},
   "outputs": [
    {
     "data": {
      "text/plain": [
       "array([1, 2, 3, 4, 5])"
      ]
     },
     "execution_count": 2,
     "metadata": {},
     "output_type": "execute_result"
    }
   ],
   "source": [
    "a"
   ]
  },
  {
   "cell_type": "code",
   "execution_count": 3,
   "id": "28daf970-5efb-467c-95ee-472fff0fc6f6",
   "metadata": {},
   "outputs": [
    {
     "data": {
      "text/plain": [
       "array([[1, 2, 3],\n",
       "       [1, 2, 3]])"
      ]
     },
     "execution_count": 3,
     "metadata": {},
     "output_type": "execute_result"
    }
   ],
   "source": [
    "b"
   ]
  },
  {
   "cell_type": "markdown",
   "id": "86a0ddfa-9b0a-4179-ad2b-41ca0e762aee",
   "metadata": {},
   "source": [
    "# array initializers"
   ]
  },
  {
   "cell_type": "markdown",
   "id": "ceff07c9-09e7-4d1d-a508-9c45e48cced4",
   "metadata": {},
   "source": [
    "    - np.zeros((2,3)) #2x3 array of zeros\n",
    "    - np.ones((2,3)) #2x3 arrays of ones\n",
    "    - np.full((2,3),7) #2x3 array filled 7\n",
    "    - np.eye(3) #identity matrix\n",
    "    - np.arange(0,10,2) #[0,2,4,6,8]\n",
    "    - np.linspace(0,1,5) # [0,0.25,0.5,0.75,1]\n",
    "    - np.random.rand(2,3) #random floats(0-1)\n",
    "    - np.random.randin(0,10,(3,3)) #Random ints"
   ]
  },
  {
   "cell_type": "markdown",
   "id": "d8d6fab7-17cd-4bc9-9eab-1f9860f21f26",
   "metadata": {},
   "source": [
    "array operations\n",
    "1. a.shape\n",
    "2. a.reshape(3,5) #(row,col)\n",
    "3. a.flatten()\n",
    "4. a.T  #transpose"
   ]
  },
  {
   "cell_type": "markdown",
   "id": "e4f5c2c7-8822-4e33-8520-61a0ba37e044",
   "metadata": {},
   "source": [
    "indexing and slicing\n",
    "-  a[0:1] #[start,end]\n",
    "-  a[0:4:2] #[start,end,step]\n",
    "- negative value last to first\n"
   ]
  },
  {
   "cell_type": "markdown",
   "id": "38266b3b-ad10-4394-a12d-ca96c8afc5c3",
   "metadata": {},
   "source": [
    "# Mathiematical operations\n",
    "- a+b\n",
    "- a-b\n",
    "- a*b\n",
    "- a/b\n",
    "- a//b\n",
    "- a%b\n",
    "- np.dot(a,b) # a and b are multiply\n",
    "- np.sqrt(a) # root of a\n",
    "- np.exp(a) # e^a[0] this only 0 indec and others elements are same\n",
    "- np.sum(a, axis=0) #array all elements sumation here \n",
    "### More Intuition:\n",
    "    - axis=0 → sum down columns\n",
    "    - axis=1 → sum across rows\n",
    "- np.mean(a) #find the mean value of an array\n",
    "- np.std(a) #find standarddeviation of array\n",
    "- np.max(a) #find the max value of a array\n",
    "- np.min(a) #find the min value of a array"
   ]
  },
  {
   "cell_type": "code",
   "execution_count": 5,
   "id": "166194ce-25ae-45d8-80ac-d2b242e4f58a",
   "metadata": {},
   "outputs": [
    {
     "data": {
      "text/plain": [
       "array([0, 1, 2, 3, 4, 5, 6, 7, 8, 9])"
      ]
     },
     "execution_count": 5,
     "metadata": {},
     "output_type": "execute_result"
    }
   ],
   "source": [
    "a = np.arange(10)\n",
    "a"
   ]
  },
  {
   "cell_type": "code",
   "execution_count": 6,
   "id": "37977dbe-c798-43b0-b5e7-da867fa92715",
   "metadata": {},
   "outputs": [
    {
     "data": {
      "text/plain": [
       "array([1.00000000e+00, 2.71828183e+00, 7.38905610e+00, 2.00855369e+01,\n",
       "       5.45981500e+01, 1.48413159e+02, 4.03428793e+02, 1.09663316e+03,\n",
       "       2.98095799e+03, 8.10308393e+03])"
      ]
     },
     "execution_count": 6,
     "metadata": {},
     "output_type": "execute_result"
    }
   ],
   "source": [
    "b = np.exp(a)\n",
    "b"
   ]
  },
  {
   "cell_type": "code",
   "execution_count": 10,
   "id": "390382f9-bc6c-4bce-a5a8-6587844e6b7b",
   "metadata": {},
   "outputs": [
    {
     "data": {
      "text/plain": [
       "np.int64(45)"
      ]
     },
     "execution_count": 10,
     "metadata": {},
     "output_type": "execute_result"
    }
   ],
   "source": [
    "np.sum(a, axis=0)"
   ]
  },
  {
   "cell_type": "code",
   "execution_count": 11,
   "id": "11b1166d-2bc5-4dd3-8d09-0ecc3e9a046c",
   "metadata": {},
   "outputs": [
    {
     "data": {
      "text/plain": [
       "array([8, 9])"
      ]
     },
     "execution_count": 11,
     "metadata": {},
     "output_type": "execute_result"
    }
   ],
   "source": [
    "a = np.array([[1,3,4],[2,3,4]])\n",
    "np.sum(a,axis=1)"
   ]
  },
  {
   "cell_type": "code",
   "execution_count": 12,
   "id": "7aa9bce3-0460-4361-86cf-2df0ee456890",
   "metadata": {},
   "outputs": [
    {
     "data": {
      "text/plain": [
       "np.float64(1.0671873729054748)"
      ]
     },
     "execution_count": 12,
     "metadata": {},
     "output_type": "execute_result"
    }
   ],
   "source": [
    "np.std(a)"
   ]
  },
  {
   "cell_type": "code",
   "execution_count": null,
   "id": "2cb5a49f-0570-4caf-9879-d6ec1a1599c9",
   "metadata": {},
   "outputs": [],
   "source": [
    "### Advanced Indexing & Boolean Masking\n",
    "- boolean indexing\n",
    "- fancy indexing\n",
    "- where function"
   ]
  },
  {
   "cell_type": "code",
   "execution_count": 17,
   "id": "72cf404f-fc80-49f8-9cb5-ae2ddf6d9247",
   "metadata": {},
   "outputs": [],
   "source": [
    "a = np.arange(10)"
   ]
  },
  {
   "cell_type": "code",
   "execution_count": 18,
   "id": "ed3325bb-a6c0-4491-b6e0-c5fbba97cc57",
   "metadata": {},
   "outputs": [
    {
     "data": {
      "text/plain": [
       "array([6, 7, 8, 9])"
      ]
     },
     "execution_count": 18,
     "metadata": {},
     "output_type": "execute_result"
    }
   ],
   "source": [
    "a[a>5]"
   ]
  },
  {
   "cell_type": "code",
   "execution_count": 20,
   "id": "e54630d7-2454-480b-b6e2-059ad0647749",
   "metadata": {},
   "outputs": [],
   "source": [
    "a = np.array([[ 0,  1,  2,  3,  4],\n",
    "              [ 5,  6,  7,  8,  9],\n",
    "              [10, 11, 12, 13, 14]])\n"
   ]
  },
  {
   "cell_type": "code",
   "execution_count": 21,
   "id": "17c6660c-2d7e-40a8-b8b2-5ebd7018d328",
   "metadata": {},
   "outputs": [
    {
     "data": {
      "text/plain": [
       "array([ 3, 14])"
      ]
     },
     "execution_count": 21,
     "metadata": {},
     "output_type": "execute_result"
    }
   ],
   "source": [
    "a[[0,2],[3,4]]"
   ]
  },
  {
   "cell_type": "markdown",
   "id": "f47bba30-7e26-4672-bc30-ab6657d74eeb",
   "metadata": {},
   "source": [
    "### is a fancy indexing operation that selects:\n",
    "\n",
    "- From row 0, column 3 → a[0, 3] → 3\n",
    "- From row 2, column 4 → a[2, 4] → 14\n",
    "- '''\n",
    "- 🧠 Rule:\n",
    "- If a is 2D, then:\n",
    "   - a[[i1, i2], [j1, j2]] → [a[i1, j1], a[i2, j2]]\n",
    "- It picks (i1, j1) and (i2, j2) — not all combinations!\n",
    "'''\n"
   ]
  },
  {
   "cell_type": "code",
   "execution_count": 22,
   "id": "1f79ac8f-99cc-43dd-bc00-0a8fee0d73ae",
   "metadata": {},
   "outputs": [
    {
     "data": {
      "text/plain": [
       "array([[0, 0, 0, 0, 0],\n",
       "       [0, 1, 1, 1, 1],\n",
       "       [1, 1, 1, 1, 1]])"
      ]
     },
     "execution_count": 22,
     "metadata": {},
     "output_type": "execute_result"
    }
   ],
   "source": [
    "np.where(a>5,1,0)"
   ]
  },
  {
   "cell_type": "markdown",
   "id": "15336cd4-ea5f-452f-b528-82f0477ba680",
   "metadata": {},
   "source": [
    "The expression:\n",
    "\n",
    "```python\n",
    "np.where(a > 5, 1, 0)\n",
    "```\n",
    "\n",
    "is a **vectorized conditional operation** in NumPy.\n",
    "\n",
    "---\n",
    "\n",
    "### ✅ What it means:\n",
    "\n",
    "* `a > 5`: creates a Boolean array (True where elements > 5).\n",
    "* `np.where(condition, x, y)` returns:\n",
    "\n",
    "  * `x` where `condition` is True\n",
    "  * `y` where `condition` is False\n",
    "\n",
    "So this line creates a **new array of the same shape** as `a`, where:\n",
    "\n",
    "* elements > 5 become `1`\n",
    "* elements ≤ 5 become `0`\n",
    "\n",
    "---\n",
    "\n",
    "### 🔍 Example:\n",
    "\n",
    "```python\n",
    "import numpy as np\n",
    "\n",
    "a = np.array([[2, 6, 3],\n",
    "              [7, 1, 8]])\n",
    "\n",
    "result = np.where(a > 5, 1, 0)\n",
    "```\n",
    "\n",
    "#### Output:\n",
    "\n",
    "```python\n",
    "array([[0, 1, 0],\n",
    "       [1, 0, 1]])\n",
    "```\n",
    "\n",
    "---\n",
    "\n",
    "### 🧠 Summary:\n",
    "\n",
    "* `np.where(condition, true_value, false_value)` is a fast way to apply if-else logic to arrays.\n",
    "* Keeps the **shape** of `a`.\n",
    "\n",
    "Let me know if you want to replace with actual values instead of 1 and 0.\n"
   ]
  },
  {
   "cell_type": "code",
   "execution_count": 26,
   "id": "ca877b60-de1b-47f4-a2d7-686f0624fe2f",
   "metadata": {},
   "outputs": [
    {
     "name": "stdout",
     "output_type": "stream",
     "text": [
      "[1 0 1 1 0]\n"
     ]
    }
   ],
   "source": [
    "\n",
    "a = np.array([2, 3, 4, 6, 7])\n",
    "result = np.where(a % 2 == 0, 1, 0)\n",
    "print(result)\n",
    "\n",
    "# where even number is 1 and odd number is 0"
   ]
  },
  {
   "cell_type": "code",
   "execution_count": null,
   "id": "b2364a54-db2f-421a-9056-15f6f872da15",
   "metadata": {},
   "outputs": [],
   "source": []
  },
  {
   "cell_type": "markdown",
   "id": "2d676c54-d28d-416b-ad42-bc39a593137f",
   "metadata": {},
   "source": [
    "# BroadCasting\n"
   ]
  },
  {
   "cell_type": "code",
   "execution_count": null,
   "id": "2180a72c-a480-40c3-9e43-f64d72e4e4df",
   "metadata": {},
   "outputs": [],
   "source": [
    "broadcasting = automic expansion of smaller arrays\n"
   ]
  },
  {
   "cell_type": "code",
   "execution_count": 28,
   "id": "9bf5aaad-75dd-424f-9392-82fcb8cd8e0b",
   "metadata": {},
   "outputs": [
    {
     "data": {
      "text/plain": [
       "array([[2, 3, 4],\n",
       "       [3, 4, 5],\n",
       "       [4, 5, 6]])"
      ]
     },
     "execution_count": 28,
     "metadata": {},
     "output_type": "execute_result"
    }
   ],
   "source": [
    "a = np.array([1,2,3])\n",
    "b = np.array([[1],[2],[3]])\n",
    "a+b"
   ]
  },
  {
   "cell_type": "markdown",
   "id": "b6e5aed2-d423-4b85-8f36-efd90944338a",
   "metadata": {},
   "source": [
    "Great question! Let's break it down:\n",
    "\n",
    "```python\n",
    "a = np.array([1, 2, 3])         # Shape: (3,) → 1D row vector\n",
    "b = np.array([[1], [2], [3]])   # Shape: (3, 1) → 2D column vector\n",
    "a + b\n",
    "```\n",
    "\n",
    "---\n",
    "\n",
    "### 🔍 Shapes:\n",
    "\n",
    "* `a.shape` → `(3,)`\n",
    "* `b.shape` → `(3, 1)`\n",
    "\n",
    "When you do `a + b`, **NumPy uses broadcasting**.\n",
    "\n",
    "---\n",
    "\n",
    "### ✅ Broadcasting behavior:\n",
    "\n",
    "* `a` (1D row) becomes a **(1, 3)** row vector\n",
    "* `b` (column) is **(3, 1)**\n",
    "  → NumPy broadcasts them to a **(3, 3)** result.\n",
    "\n",
    "---\n",
    "\n",
    "### Computation:\n",
    "\n",
    "You’re basically doing:\n",
    "\n",
    "```\n",
    "[[1],      +   [1, 2, 3]  →  [1+1, 1+2, 1+3] → [2, 3, 4]\n",
    " [2],                         [2+1, 2+2, 2+3] → [3, 4, 5]\n",
    " [3]]                         [3+1, 3+2, 3+3] → [4, 5, 6]\n",
    "```\n",
    "\n",
    "---\n",
    "\n",
    "### ✅ Final Output:\n",
    "\n",
    "```python\n",
    "array([[2, 3, 4],\n",
    "       [3, 4, 5],\n",
    "       [4, 5, 6]])\n",
    "```\n",
    "\n",
    "---\n",
    "\n",
    "### 🧠 Summary:\n",
    "\n",
    "* NumPy uses **broadcasting** to align shapes\n",
    "* Adds each element in `a` to each row of `b`\n",
    "* Result shape: **(3, 3)**\n",
    "\n",
    "Let me know if you want to visualize this as a grid or matrix!\n"
   ]
  },
  {
   "cell_type": "markdown",
   "id": "f3d99681-363e-4df8-850d-05718adab048",
   "metadata": {},
   "source": [
    "## useful Numpy functions\n",
    "- np.unique()  # unique element\n",
    "- np.sort() #sorts array\n",
    "- np.argsort() #Returns sorted indices\n",
    "- np.argmin() #Index of minimum value\n",
    "- np.argmax() #Index of Maximum value\n",
    "- np.cumsum() #cumulative sum\n",
    "- np.cumprod() #cumulitive product\n",
    "- np.clip(a, min,max) #limit values\n"
   ]
  },
  {
   "cell_type": "markdown",
   "id": "d9e89f60-0b8b-4522-86e4-f80ceeec7713",
   "metadata": {},
   "source": [
    "Great list! You're on the right track 👏\n",
    "Let me correct a small typo and enhance it with examples for clarity.\n",
    "\n",
    "---\n",
    "\n",
    "### ✅ Useful NumPy Functions:\n",
    "\n",
    "```python\n",
    "import numpy as np\n",
    "```\n",
    "\n",
    "#### 🔹 `np.unique(a)`\n",
    "\n",
    "> Returns the **sorted unique elements** of an array.\n",
    "\n",
    "```python\n",
    "np.unique([1, 2, 2, 3])  # ➝ array([1, 2, 3])\n",
    "```\n",
    "\n",
    "---\n",
    "\n",
    "#### 🔹 `np.sort(a)`\n",
    "\n",
    "> Sorts the array (along specified axis if multi-dimensional).\n",
    "\n",
    "```python\n",
    "np.sort([3, 1, 2])  # ➝ array([1, 2, 3])\n",
    "```\n",
    "\n",
    "---\n",
    "\n",
    "#### 🔹 `np.argsort(a)`\n",
    "\n",
    "> Returns the **indices** that would sort the array.\n",
    "\n",
    "```python\n",
    "np.argsort([3, 1, 2])  # ➝ array([1, 2, 0])\n",
    "```\n",
    "\n",
    "---\n",
    "\n",
    "#### 🔹 `np.argmin(a)`\n",
    "\n",
    "> Returns the **index** of the **minimum** value.\n",
    "\n",
    "```python\n",
    "np.argmin([5, 2, 8])  # ➝ 1\n",
    "```\n",
    "\n",
    "---\n",
    "\n",
    "#### 🔹 `np.argmax(a)`\n",
    "\n",
    "> Returns the **index** of the **maximum** value.\n",
    "\n",
    "```python\n",
    "np.argmax([5, 2, 8])  # ➝ 2\n",
    "```\n",
    "\n",
    "---\n",
    "\n",
    "#### 🔹 `np.cumsum(a)`\n",
    "\n",
    "> Returns the **cumulative sum** of elements.\n",
    "\n",
    "```python\n",
    "np.cumsum([1, 2, 3])  # ➝ array([1, 3, 6])\n",
    "```\n",
    "\n",
    "---\n",
    "\n",
    "#### 🔹 `np.cumprod(a)` ✅ (**Corrected spelling**)\n",
    "\n",
    "> Returns the **cumulative product** of elements.\n",
    "\n",
    "```python\n",
    "np.cumprod([1, 2, 3])  # ➝ array([1, 2, 6])\n",
    "```\n",
    "\n",
    "---\n",
    "\n",
    "#### 🔹 `np.clip(a, min, max)`\n",
    "\n",
    "> Limit values in an array:\n",
    ">\n",
    "> * Less than `min` ➝ set to `min`\n",
    "> * Greater than `max` ➝ set to `max`\n",
    "\n",
    "```python\n",
    "np.clip([1, 5, 9], 2, 6)  # ➝ array([2, 5, 6])\n",
    "```\n",
    "\n",
    "\n",
    "\n",
    "Let me know if you want more functions like `np.mean`, `np.std`, `np.linspace`, or matrix operations!\n"
   ]
  },
  {
   "cell_type": "markdown",
   "id": "398a6e65-2d77-4536-8552-07164829696b",
   "metadata": {},
   "source": [
    "## Linear algebra with numpy array\n",
    "\n",
    "- np.linalg.inv(a) #inverse\n",
    "- np.linalg.det(a) #determinant\n",
    "- np.linalg.eig(a) #Eigenvalues/vectors\n",
    "- np.linalg.solve(A,b) #solve Ax=b"
   ]
  },
  {
   "cell_type": "markdown",
   "id": "68701376-8d12-4221-8a7e-6d9ad1fcbdc6",
   "metadata": {},
   "source": [
    "Excellent! Here's a cleaned-up and fully explained version of your list on **Linear Algebra with NumPy**, with examples for clarity:\n",
    "\n",
    "---\n",
    "\n",
    "### ✅ Linear Algebra with NumPy Arrays\n",
    "\n",
    "All of these functions are found under `np.linalg` (NumPy's **linear algebra module**).\n",
    "\n",
    "```python\n",
    "import numpy as np\n",
    "```\n",
    "\n",
    "---\n",
    "\n",
    "### 🔹 `np.linalg.inv(a)`\n",
    "\n",
    "> Computes the **inverse** of a square matrix.\n",
    "\n",
    "```python\n",
    "a = np.array([[1, 2], [3, 4]])\n",
    "np.linalg.inv(a)\n",
    "# ➝ array([[-2. ,  1. ],\n",
    "#           [ 1.5, -0.5]])\n",
    "```\n",
    "\n",
    "---\n",
    "\n",
    "### 🔹 `np.linalg.det(a)`\n",
    "\n",
    "> Computes the **determinant** of a square matrix.\n",
    "\n",
    "```python\n",
    "a = np.array([[1, 2], [3, 4]])\n",
    "np.linalg.det(a)  # ➝ -2.0\n",
    "```\n",
    "\n",
    "---\n",
    "\n",
    "### 🔹 `np.linalg.eig(a)`\n",
    "\n",
    "> Computes **eigenvalues** and **eigenvectors**.\n",
    "\n",
    "```python\n",
    "a = np.array([[1, 2], [2, 1]])\n",
    "values, vectors = np.linalg.eig(a)\n",
    "# values  ➝ array([3., -1.])\n",
    "# vectors ➝ array([[ 0.707, -0.707],\n",
    "#                  [ 0.707,  0.707]])\n",
    "```\n",
    "\n",
    "---\n",
    "\n",
    "### 🔹 `np.linalg.solve(A, b)`\n",
    "\n",
    "> Solves the **system of linear equations**:\n",
    "> $Ax = b$\n",
    "\n",
    "```python\n",
    "A = np.array([[2, 1], [1, 3]])\n",
    "b = np.array([8, 13])\n",
    "np.linalg.solve(A, b)  # ➝ array([3., 2.])\n",
    "```\n",
    "\n",
    "---\n",
    "\n",
    "### 🧠 Bonus Suggestions:\n",
    "\n",
    "You might also find these useful:\n",
    "\n",
    "* `np.dot(a, b)` — Dot product\n",
    "* `np.matmul(a, b)` — Matrix multiplication\n",
    "* `np.transpose(a)` — Transpose matrix\n",
    "* `np.linalg.norm(a)` — Vector or matrix norm\n",
    "* `np.trace(a)` — Trace (sum of diagonal elements)\n",
    "\n",
    "---\n",
    "\n",
    "Let me know if you want a matrix visualization or step-by-step solving of linear systems!\n"
   ]
  },
  {
   "cell_type": "markdown",
   "id": "3c1d75cf-62ad-4e15-ac10-1c5dbef1a099",
   "metadata": {},
   "source": [
    "# Random and Statistics\n",
    "- np.random.seed(42) #for reproductibility\n",
    "- np.random.normal(0,1,1000) #normal distribution\n",
    "- np.random.binomial(n=10,p=0.5,size = 1000)\n",
    "- np.mean(a)\n",
    "- np.median()\n",
    "- np.percential(a,75)\n",
    "- np.std(a)\n",
    "- np.var(a)\n"
   ]
  },
  {
   "cell_type": "markdown",
   "id": "eab9e032-83f9-4e56-8323-70ab576b3fd6",
   "metadata": {},
   "source": [
    "You're almost spot-on! Here’s the **corrected and clarified** version of your **Random and Statistics** section using NumPy, including a few important fixes (like typo in `percential` → `percentile`) and examples:\n",
    "\n",
    "---\n",
    "\n",
    "### ✅ Random Numbers & Statistics with NumPy\n",
    "\n",
    "```python\n",
    "import numpy as np\n",
    "```\n",
    "\n",
    "---\n",
    "\n",
    "### 🔹 `np.random.seed(42)`\n",
    "\n",
    "> Sets the **random seed** for reproducibility (same random numbers every time you run).\n",
    "\n",
    "```python\n",
    "np.random.seed(42)\n",
    "```\n",
    "\n",
    "---\n",
    "\n",
    "### 🔹 `np.random.normal(loc=0, scale=1, size=1000)`\n",
    "\n",
    "> Draws 1000 samples from a **normal (Gaussian) distribution** with mean `0` and standard deviation `1`.\n",
    "\n",
    "```python\n",
    "samples = np.random.normal(0, 1, 1000)\n",
    "```\n",
    "\n",
    "---\n",
    "\n",
    "### 🔹 `np.random.binomial(n=10, p=0.5, size=1000)`\n",
    "\n",
    "> Draws 1000 samples from a **binomial distribution** with:\n",
    "\n",
    "* `n = 10` trials\n",
    "* `p = 0.5` probability of success\n",
    "\n",
    "```python\n",
    "binomial_samples = np.random.binomial(n=10, p=0.5, size=1000)\n",
    "```\n",
    "\n",
    "---\n",
    "\n",
    "### 🔹 `np.mean(a)`\n",
    "\n",
    "> Computes the **mean (average)** of array `a`.\n",
    "\n",
    "```python\n",
    "np.mean([1, 2, 3])  # ➝ 2.0\n",
    "```\n",
    "\n",
    "---\n",
    "\n",
    "### 🔹 `np.median(a)`\n",
    "\n",
    "> Computes the **median** value of array `a`.\n",
    "\n",
    "```python\n",
    "np.median([1, 2, 3, 4])  # ➝ 2.5\n",
    "```\n",
    "\n",
    "---\n",
    "\n",
    "### 🔹 `np.percentile(a, 75)`\n",
    "\n",
    "> Returns the **75th percentile** value in array `a`.\n",
    "\n",
    "✅ **Corrected typo**: `percential` ❌ → `percentile` ✅\n",
    "\n",
    "```python\n",
    "np.percentile([1, 2, 3, 4, 5], 75)  # ➝ 4.0\n",
    "```\n",
    "\n",
    "---\n",
    "\n",
    "### 🔹 `np.std(a)`\n",
    "\n",
    "> Computes the **standard deviation** of array `a`.\n",
    "\n",
    "```python\n",
    "np.std([1, 2, 3])  # ➝ 0.816...\n",
    "```\n",
    "\n",
    "---\n",
    "\n",
    "### 🔹 `np.var(a)`\n",
    "\n",
    "> Computes the **variance** of array `a`.\n",
    "\n",
    "```python\n",
    "np.var([1, 2, 3])  # ➝ 0.666...\n",
    "```\n",
    "\n",
    "---\n",
    "\n",
    "### 🧠 Optional Additions:\n",
    "\n",
    "* `np.min(a)` → Minimum value\n",
    "* `np.max(a)` → Maximum value\n",
    "* `np.histogram(a)` → Histogram bins and counts\n",
    "* `np.random.randint(low, high, size)` → Random integers\n",
    "\n",
    "---\n",
    "\n",
    "Let me know if you want a PDF summary of all these NumPy sections!\n"
   ]
  },
  {
   "cell_type": "code",
   "execution_count": null,
   "id": "c50bdf75-992e-4699-80dc-c8c39e602372",
   "metadata": {},
   "outputs": [],
   "source": []
  }
 ],
 "metadata": {
  "kernelspec": {
   "display_name": "Python 3 (ipykernel)",
   "language": "python",
   "name": "python3"
  },
  "language_info": {
   "codemirror_mode": {
    "name": "ipython",
    "version": 3
   },
   "file_extension": ".py",
   "mimetype": "text/x-python",
   "name": "python",
   "nbconvert_exporter": "python",
   "pygments_lexer": "ipython3",
   "version": "3.10.12"
  }
 },
 "nbformat": 4,
 "nbformat_minor": 5
}
