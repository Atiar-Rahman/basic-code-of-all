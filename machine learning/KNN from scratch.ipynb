{
 "cells": [
  {
   "cell_type": "code",
   "execution_count": 1,
   "id": "1a839e5e-c298-4e55-8f83-1ea1d86aadae",
   "metadata": {},
   "outputs": [],
   "source": [
    "class KNNClassifier:\n",
    "    def __init__(self, k=3):\n",
    "        self.k = k\n",
    "\n",
    "    def fit(self, X, y):\n",
    "        self.X_train = X\n",
    "        self.y_train = y\n",
    "\n",
    "    def predict(self, X_test):\n",
    "        return [self._predict(x) for x in X_test]\n",
    "\n",
    "    def _predict(self, x):\n",
    "        distances = [(self._euclidean_distance(x, x_train), label)\n",
    "                     for x_train, label in zip(self.X_train, self.y_train)]\n",
    "        distances.sort()\n",
    "        k_nearest = [label for _, label in distances[:self.k]]\n",
    "        return max(set(k_nearest), key=k_nearest.count)\n",
    "\n",
    "    def _euclidean_distance(self, x1, x2):\n",
    "        return sum((a - b) ** 2 for a, b in zip(x1, x2)) ** 0.5"
   ]
  },
  {
   "cell_type": "code",
   "execution_count": 2,
   "id": "d7c8d65b-817b-439e-8f47-b04e6e100170",
   "metadata": {},
   "outputs": [],
   "source": [
    "def accuracy(y_true, y_pred):\n",
    "    return sum(yt == yp for yt, yp in zip(y_true, y_pred)) / len(y_true)\n",
    "\n",
    "def confusion_matrix(y_true, y_pred, labels):\n",
    "    matrix = [[0 for _ in labels] for _ in labels]\n",
    "    label_to_index = {label: idx for idx, label in enumerate(labels)}\n",
    "    for yt, yp in zip(y_true, y_pred):\n",
    "        matrix[label_to_index[yt]][label_to_index[yp]] += 1\n",
    "    return matrix\n",
    "\n",
    "def precision_recall_f1(y_true, y_pred):\n",
    "    labels = list(set(y_true))\n",
    "    scores = {}\n",
    "    for label in labels:\n",
    "        tp = sum((yt == label and yp == label) for yt, yp in zip(y_true, y_pred))\n",
    "        fp = sum((yt != label and yp == label) for yt, yp in zip(y_true, y_pred))\n",
    "        fn = sum((yt == label and yp != label) for yt, yp in zip(y_true, y_pred))\n",
    "\n",
    "        prec = tp / (tp + fp) if (tp + fp) else 0\n",
    "        rec = tp / (tp + fn) if (tp + fn) else 0\n",
    "        f1 = 2 * prec * rec / (prec + rec) if (prec + rec) else 0\n",
    "\n",
    "        scores[label] = {'precision': prec, 'recall': rec, 'f1': f1}\n",
    "    return scores"
   ]
  },
  {
   "cell_type": "code",
   "execution_count": 5,
   "id": "9b2fea60-6ba7-4d6d-82c7-69212a91f5ca",
   "metadata": {},
   "outputs": [
    {
     "name": "stdout",
     "output_type": "stream",
     "text": [
      "Accuracy: 0.9555555555555556\n",
      "Confusion Matrix: [[17, 0, 0], [0, 16, 2], [0, 0, 10]]\n",
      "Precision, Recall, F1: {0: {'precision': 1.0, 'recall': 1.0, 'f1': 1.0}, 1: {'precision': 1.0, 'recall': 0.8888888888888888, 'f1': 0.9411764705882353}, 2: {'precision': 0.8333333333333334, 'recall': 1.0, 'f1': 0.9090909090909091}}\n"
     ]
    }
   ],
   "source": [
    "from sklearn.datasets import load_iris\n",
    "from sklearn.model_selection import train_test_split\n",
    "\n",
    "iris = load_iris()\n",
    "X, y = iris.data.tolist(), iris.target.tolist()\n",
    "\n",
    "X_train, X_test, y_train, y_test = train_test_split(X, y, test_size=0.3)\n",
    "\n",
    "model = KNNClassifier(k=3)\n",
    "model.fit(X_train, y_train)\n",
    "y_pred = model.predict(X_test)\n",
    "\n",
    "print(\"Accuracy:\", accuracy(y_test, y_pred))\n",
    "print(\"Confusion Matrix:\", confusion_matrix(y_test, y_pred, list(set(y))))\n",
    "print(\"Precision, Recall, F1:\", precision_recall_f1(y_test, y_pred))"
   ]
  },
  {
   "cell_type": "code",
   "execution_count": 6,
   "id": "0d7f4d59-511e-4740-b793-e305a9d19d29",
   "metadata": {},
   "outputs": [
    {
     "data": {
      "text/plain": [
       "(42783, 2)"
      ]
     },
     "execution_count": 6,
     "metadata": {},
     "output_type": "execute_result"
    }
   ],
   "source": [
    "import pandas as pd\n",
    "from sklearn.model_selection import train_test_split\n",
    "\n",
    "# Load Kaggle news dataset\n",
    "df = pd.read_json('News_Category_Dataset_v3.json', lines=True)\n",
    "df = df[['headline', 'category']]\n",
    "df = df[df['category'].isin(['POLITICS', 'SPORTS', 'TECH'])]  # Keep 3 categories for simplicity\n",
    "texts = df['headline'].tolist()\n",
    "labels = df['category'].tolist()\n",
    "\n",
    "df.shape"
   ]
  },
  {
   "cell_type": "code",
   "execution_count": 7,
   "id": "86514daa-d5b2-4666-94f0-055e9b8b1387",
   "metadata": {},
   "outputs": [
    {
     "name": "stdout",
     "output_type": "stream",
     "text": [
      "k=1, split=0.2, accuracy=0.93\n",
      "k=1, split=0.3, accuracy=0.96\n",
      "k=1, split=0.4, accuracy=0.98\n",
      "k=2, split=0.2, accuracy=0.97\n",
      "k=2, split=0.3, accuracy=0.96\n",
      "k=2, split=0.4, accuracy=0.95\n",
      "k=3, split=0.2, accuracy=1.00\n",
      "k=3, split=0.3, accuracy=0.91\n",
      "k=3, split=0.4, accuracy=0.95\n",
      "k=4, split=0.2, accuracy=0.97\n",
      "k=4, split=0.3, accuracy=0.98\n",
      "k=4, split=0.4, accuracy=0.98\n",
      "k=5, split=0.2, accuracy=1.00\n",
      "k=5, split=0.3, accuracy=0.96\n",
      "k=5, split=0.4, accuracy=0.97\n",
      "k=6, split=0.2, accuracy=0.97\n",
      "k=6, split=0.3, accuracy=1.00\n",
      "k=6, split=0.4, accuracy=0.97\n",
      "k=7, split=0.2, accuracy=0.93\n",
      "k=7, split=0.3, accuracy=0.96\n",
      "k=7, split=0.4, accuracy=0.93\n",
      "k=8, split=0.2, accuracy=0.90\n",
      "k=8, split=0.3, accuracy=0.98\n",
      "k=8, split=0.4, accuracy=0.95\n",
      "k=9, split=0.2, accuracy=0.97\n",
      "k=9, split=0.3, accuracy=0.96\n",
      "k=9, split=0.4, accuracy=0.95\n",
      "k=10, split=0.2, accuracy=1.00\n",
      "k=10, split=0.3, accuracy=0.96\n",
      "k=10, split=0.4, accuracy=0.92\n"
     ]
    }
   ],
   "source": [
    "for k in range(1, 11):\n",
    "    for test_size in [0.2, 0.3, 0.4]:\n",
    "        X_train, X_test, y_train, y_test = train_test_split(X, y, test_size=test_size)\n",
    "        model = KNNClassifier(k=k)\n",
    "        model.fit(X_train, y_train)\n",
    "        preds = model.predict(X_test)\n",
    "        acc = accuracy(y_test, preds)\n",
    "        print(f\"k={k}, split={test_size}, accuracy={acc:.2f}\")"
   ]
  },
  {
   "cell_type": "code",
   "execution_count": 8,
   "id": "b367679d-974c-4555-8689-648313267f07",
   "metadata": {},
   "outputs": [
    {
     "name": "stdout",
     "output_type": "stream",
     "text": [
      "Sklearn Accuracy: 0.9\n",
      "Sklearn F1: {0: {'precision': np.float64(1.0), 'recall': np.float64(1.0), 'f1': np.float64(1.0)}, 1: {'precision': np.float64(0.8181818181818182), 'recall': np.float64(0.9), 'f1': np.float64(0.8571428571428572)}, 2: {'precision': np.float64(0.9), 'recall': np.float64(0.8181818181818182), 'f1': np.float64(0.8571428571428572)}}\n"
     ]
    }
   ],
   "source": [
    "from sklearn.neighbors import KNeighborsClassifier\n",
    "\n",
    "model = KNeighborsClassifier(n_neighbors=3)\n",
    "model.fit(X_train, y_train)\n",
    "sk_preds = model.predict(X_test)\n",
    "\n",
    "print(\"Sklearn Accuracy:\", accuracy(y_test, sk_preds))\n",
    "print(\"Sklearn F1:\", precision_recall_f1(y_test, sk_preds))"
   ]
  },
  {
   "cell_type": "code",
   "execution_count": 9,
   "id": "da8a054f-6632-491d-a1b8-826b40ddbfa5",
   "metadata": {},
   "outputs": [
    {
     "name": "stdout",
     "output_type": "stream",
     "text": [
      "News Accuracy: 0.7790697674418605\n",
      "News F1: {'TECH': {'precision': 0.5, 'recall': 0.25, 'f1': 0.3333333333333333}, 'SPORTS': {'precision': 1.0, 'recall': 0.058823529411764705, 'f1': 0.1111111111111111}, 'POLITICS': {'precision': 0.7831325301204819, 'recall': 1.0, 'f1': 0.8783783783783784}}\n"
     ]
    }
   ],
   "source": [
    "\n",
    "import pandas as pd\n",
    "from sklearn.model_selection import train_test_split\n",
    "\n",
    "# Load Kaggle news dataset\n",
    "df = pd.read_json('News_Category_Dataset_v3.json', lines=True)\n",
    "df = df[['headline', 'category']]\n",
    "df = df[df['category'].isin(['POLITICS', 'SPORTS', 'TECH'])]  # Keep 3 categories for simplicity\n",
    "texts = df['headline'].tolist()\n",
    "labels = df['category'].tolist()\n",
    "\n",
    "# Use 50% of the dataset, split as 40% training and 10% testing\n",
    "from sklearn.utils import shuffle\n",
    "texts, labels = shuffle(texts, labels, random_state=42)\n",
    "limit = int(0.1 * len(texts))\n",
    "texts = texts[:limit]\n",
    "labels = labels[:limit]\n",
    "\n",
    "# TF-IDF preprocessing\n",
    "\n",
    "def tokenize(text):\n",
    "    return text.lower().split()\n",
    "\n",
    "def compute_tf(text):\n",
    "    tokens = tokenize(text)\n",
    "    tf = {}\n",
    "    for word in tokens:\n",
    "        tf[word] = tf.get(word, 0) + 1\n",
    "    total = len(tokens)\n",
    "    for word in tf:\n",
    "        tf[word] /= total\n",
    "    return tf\n",
    "\n",
    "def compute_idf(corpus):\n",
    "    import math\n",
    "    idf = {}\n",
    "    total_docs = len(corpus)\n",
    "    for doc in corpus:\n",
    "        for word in set(tokenize(doc)):\n",
    "            idf[word] = idf.get(word, 0) + 1\n",
    "    for word in idf:\n",
    "        idf[word] = math.log(total_docs / idf[word])\n",
    "    return idf\n",
    "\n",
    "def compute_tfidf(text, idf):\n",
    "    tf = compute_tf(text)\n",
    "    return {word: tf[word] * idf.get(word, 0) for word in tf}\n",
    "\n",
    "def vectorize(tfidf_dict, vocab):\n",
    "    return [tfidf_dict.get(word, 0.0) for word in vocab]\n",
    "\n",
    "idf = compute_idf(texts)\n",
    "vocab = sorted(idf.keys())\n",
    "X = [vectorize(compute_tfidf(text, idf), vocab) for text in texts]\n",
    "y = labels\n",
    "\n",
    "X_train, X_test, y_train, y_test = train_test_split(X, y, test_size=0.02)  # 40% train, 10% test from 50% total\n",
    "\n",
    "model = KNNClassifier(k=3)\n",
    "model.fit(X_train, y_train)\n",
    "y_pred = model.predict(X_test)\n",
    "\n",
    "print(\"News Accuracy:\", accuracy(y_test, y_pred))\n",
    "print(\"News F1:\", precision_recall_f1(y_test, y_pred))"
   ]
  },
  {
   "cell_type": "code",
   "execution_count": null,
   "id": "5e835813-a157-4564-8548-e97246610c18",
   "metadata": {},
   "outputs": [],
   "source": []
  },
  {
   "cell_type": "code",
   "execution_count": null,
   "id": "d250038e-ee20-4463-bbe3-eac8a1e351e7",
   "metadata": {},
   "outputs": [],
   "source": []
  }
 ],
 "metadata": {
  "kernelspec": {
   "display_name": "Python 3 (ipykernel)",
   "language": "python",
   "name": "python3"
  },
  "language_info": {
   "codemirror_mode": {
    "name": "ipython",
    "version": 3
   },
   "file_extension": ".py",
   "mimetype": "text/x-python",
   "name": "python",
   "nbconvert_exporter": "python",
   "pygments_lexer": "ipython3",
   "version": "3.10.12"
  }
 },
 "nbformat": 4,
 "nbformat_minor": 5
}
