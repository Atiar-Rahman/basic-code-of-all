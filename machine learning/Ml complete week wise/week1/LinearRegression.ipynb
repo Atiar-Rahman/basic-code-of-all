{
 "cells": [
  {
   "cell_type": "code",
   "execution_count": 93,
   "id": "7330b209",
   "metadata": {},
   "outputs": [
    {
     "name": "stdout",
     "output_type": "stream",
     "text": [
      "✅ Pipeline saved successfully!\n"
     ]
    }
   ],
   "source": [
    "import pandas as pd\n",
    "from sklearn.model_selection import train_test_split\n",
    "from sklearn.preprocessing import OneHotEncoder, StandardScaler\n",
    "from sklearn.compose import ColumnTransformer\n",
    "from sklearn.pipeline import Pipeline\n",
    "from sklearn.linear_model import LinearRegression   # চাইলে RandomForest, XGB ইত্যাদি দিতে পারো\n",
    "import joblib\n",
    "\n",
    "# ==========================\n",
    "# 1. Dataset Load\n",
    "# ==========================\n",
    "df = pd.read_csv(\"smartphones.csv\")   # তোমার dataset এখানে\n",
    "\n",
    "# Features & Target\n",
    "X = df.drop(\"price\", axis=1)   # price বাদ দিয়ে সব feature\n",
    "y = df[\"price\"]                # target column\n",
    "# Numeric fill\n",
    "for col in X.select_dtypes(include=['number']).columns:\n",
    "    X[col] = X[col].fillna(X[col].mean())\n",
    "\n",
    "# Categorical fill\n",
    "for col in X.select_dtypes(include=['object']).columns:\n",
    "    X[col] = X[col].fillna(X[col].mode()[0])\n",
    "\n",
    "# ==========================\n",
    "# 2. Categorical & Numeric Columns\n",
    "# ==========================\n",
    "categorical_cols = ['brand_name','model','processor_brand','os']\n",
    "numeric_cols = [col for col in X.columns if col not in categorical_cols]\n",
    "\n",
    "# ==========================\n",
    "# 3. ColumnTransformer বানানো\n",
    "# ==========================\n",
    "preprocessor = ColumnTransformer(\n",
    "    transformers=[\n",
    "        (\"cat\", OneHotEncoder(handle_unknown=\"ignore\"), categorical_cols),\n",
    "        (\"num\", StandardScaler(), numeric_cols)\n",
    "    ]\n",
    ")\n",
    "\n",
    "# ==========================\n",
    "# 4. Pipeline বানানো\n",
    "# ==========================\n",
    "pipeline = Pipeline(steps=[\n",
    "    (\"preprocess\", preprocessor),\n",
    "    (\"model\", LinearRegression())\n",
    "])\n",
    "\n",
    "# ==========================\n",
    "# 5. Train/Test Split\n",
    "# ==========================\n",
    "X_train, X_test, y_train, y_test = train_test_split(X, y, test_size=0.2, random_state=42)\n",
    "\n",
    "# ==========================\n",
    "# 6. Train Model\n",
    "# ==========================\n",
    "pipeline.fit(X_train, y_train)\n",
    "\n",
    "# ==========================\n",
    "# 7. Save Pipeline\n",
    "# ==========================\n",
    "joblib.dump(pipeline, \"phone_pipeline.pkl\")\n",
    "print(\"✅ Pipeline saved successfully!\")\n"
   ]
  },
  {
   "cell_type": "code",
   "execution_count": 94,
   "id": "da93a5e0",
   "metadata": {},
   "outputs": [
    {
     "name": "stdout",
     "output_type": "stream",
     "text": [
      "💰 Predicted Price: 63602.49110171822\n"
     ]
    }
   ],
   "source": [
    "import joblib\n",
    "import pandas as pd\n",
    "\n",
    "# Load trained pipeline\n",
    "pipeline = joblib.load(\"phone_pipeline.pkl\")\n",
    "\n",
    "# Example User Input\n",
    "user_input = pd.DataFrame([{\n",
    "    'brand_name': 'Samsung',\n",
    "    'model': 'Galaxy S21',\n",
    "    'avg_rating': 4.5,\n",
    "    '5G_or_not': 1,\n",
    "    'processor_brand': 'snapdragon',\n",
    "    'num_cores': 8,\n",
    "    'processor_speed': 2.9,\n",
    "    'battery_capacity': 4000,\n",
    "    'fast_charging_available': 1,\n",
    "    'fast_charging': 25,\n",
    "    'ram_capacity': 8,\n",
    "    'internal_memory': 128,\n",
    "    'screen_size': 6.2,\n",
    "    'refresh_rate': 120,\n",
    "    'num_rear_cameras': 3,\n",
    "    'os': 'Android',\n",
    "    'primary_camera_rear': 64,\n",
    "    'primary_camera_front': 32,\n",
    "    'extended_memory_available': 1,\n",
    "    'resolution_height': 2400,\n",
    "    'resolution_width': 1080\n",
    "}])\n",
    "\n",
    "# Directly predict (encoding + scaling automatically হবে)\n",
    "predicted_price = pipeline.predict(user_input)\n",
    "print(\"💰 Predicted Price:\", predicted_price[0])\n"
   ]
  }
 ],
 "metadata": {
  "language_info": {
   "name": "python"
  }
 },
 "nbformat": 4,
 "nbformat_minor": 5
}
